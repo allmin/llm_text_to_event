{
 "cells": [
  {
   "cell_type": "code",
   "execution_count": 7,
   "id": "ae30b4f9",
   "metadata": {},
   "outputs": [
    {
     "name": "stderr",
     "output_type": "stream",
     "text": [
      "[nltk_data] Downloading package punkt_tab to\n",
      "[nltk_data]     /home/asusaiyah/nltk_data...\n",
      "[nltk_data]   Package punkt_tab is already up-to-date!\n",
      "[nltk_data] Downloading package punkt to /home/asusaiyah/nltk_data...\n",
      "[nltk_data]   Package punkt is already up-to-date!\n",
      "[nltk_data] Downloading package punkt to /home/asusaiyah/nltk_data...\n",
      "[nltk_data]   Package punkt is already up-to-date!\n",
      "[nltk_data] Downloading package stopwords to\n",
      "[nltk_data]     /home/asusaiyah/nltk_data...\n",
      "[nltk_data]   Package stopwords is already up-to-date!\n"
     ]
    },
    {
     "data": {
      "text/plain": [
       "{'most_common_unigram': [('patient', 103),\n",
       "  ('slept', 72),\n",
       "  ('sleep', 65),\n",
       "  ('sleeping', 63),\n",
       "  ('night', 33),\n",
       "  ('well', 31),\n",
       "  ('asleep', 29),\n",
       "  ('neuro', 22),\n",
       "  ('pain', 22),\n",
       "  ('given', 21)],\n",
       " 'most_common_bigram': [(('slept', 'well'), 24),\n",
       "  (('patient', 'slept'), 16),\n",
       "  (('patient', 'sleeping'), 15),\n",
       "  (('sleep', 'apnea'), 10),\n",
       "  (('able', 'sleep'), 9),\n",
       "  (('slept', 'night'), 9),\n",
       "  (('alert', 'oriented'), 7),\n",
       "  (('last', 'night'), 6),\n",
       "  (('x', '3'), 6),\n",
       "  (('ca', \"n't\"), 5)],\n",
       " 'most_common_trigram': [(('slept', 'well', 'night'), 4),\n",
       "  (('patient', 'able', 'sleep'), 4),\n",
       "  (('diastolic', 'blood', 'pressure'), 4),\n",
       "  (('well', 'ambien', '7.5mg'), 4),\n",
       "  (('alert', 'oriented', 'x'), 4),\n",
       "  (('oriented', 'x', '3'), 4),\n",
       "  (('patient', 'slept', 'well'), 4),\n",
       "  (('ca', \"n't\", 'sleep'), 3),\n",
       "  (('sleeping', 'long', 'naps'), 3),\n",
       "  (('patient', 'awake', 'night'), 3)]}"
      ]
     },
     "execution_count": 7,
     "metadata": {},
     "output_type": "execute_result"
    }
   ],
   "source": [
    "import pandas as pd\n",
    "from collections import Counter\n",
    "from nltk.util import ngrams\n",
    "from nltk.tokenize import word_tokenize\n",
    "import nltk\n",
    "from nltk.corpus import stopwords\n",
    "import string\n",
    "nltk.download('punkt_tab')\n",
    "\n",
    "# Download tokenizer models if not already available\n",
    "nltk.download('punkt')\n",
    "\n",
    "\n",
    "def flatten_list_of_lists(nested_list):\n",
    "    return [item for sublist in nested_list for item in sublist]\n",
    "\n",
    "\n",
    "# Ensure required resources are downloaded\n",
    "nltk.download('punkt')\n",
    "nltk.download('stopwords')\n",
    "df = pd.read_pickle(\"../exports/04b_groundtruth/P-SET/Annotated/Sleep_Sentences.pkl\")\n",
    "def most_frequent_ngrams(sentences, N=5):\n",
    "    stop_words = set(stopwords.words('english'))\n",
    "    punctuation = set(string.punctuation)\n",
    "\n",
    "    all_unigrams = []\n",
    "    all_bigrams = []\n",
    "    all_trigrams = []\n",
    "\n",
    "    for sentence in sentences:\n",
    "        tokens = word_tokenize(sentence.lower())\n",
    "        # Remove stopwords and punctuation\n",
    "        filtered_tokens = [t for t in tokens if t not in stop_words and t not in punctuation]\n",
    "\n",
    "        all_unigrams.extend(filtered_tokens)\n",
    "        all_bigrams.extend(ngrams(filtered_tokens, 2))\n",
    "        all_trigrams.extend(ngrams(filtered_tokens, 3))\n",
    "\n",
    "    # Count frequencies\n",
    "    unigram_counts = Counter(all_unigrams)\n",
    "    bigram_counts = Counter(all_bigrams)\n",
    "    trigram_counts = Counter(all_trigrams)\n",
    "\n",
    "    # Get top N most common\n",
    "    most_common_unigram = unigram_counts.most_common(N)\n",
    "    most_common_bigram = bigram_counts.most_common(N)\n",
    "    most_common_trigram = trigram_counts.most_common(N)\n",
    "\n",
    "    return {\n",
    "        'most_common_unigram': most_common_unigram,\n",
    "        'most_common_bigram': most_common_bigram,\n",
    "        'most_common_trigram': most_common_trigram\n",
    "    }\n",
    "most_frequent_ngrams(df[df.Sent_gt_Sleep==True]['Sentence'],10)"
   ]
  }
 ],
 "metadata": {
  "kernelspec": {
   "display_name": ".venv (3.12.3)",
   "language": "python",
   "name": "python3"
  },
  "language_info": {
   "codemirror_mode": {
    "name": "ipython",
    "version": 3
   },
   "file_extension": ".py",
   "mimetype": "text/x-python",
   "name": "python",
   "nbconvert_exporter": "python",
   "pygments_lexer": "ipython3",
   "version": "3.12.3"
  }
 },
 "nbformat": 4,
 "nbformat_minor": 5
}
