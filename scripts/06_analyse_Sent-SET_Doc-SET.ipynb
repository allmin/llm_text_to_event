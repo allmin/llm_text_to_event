{
 "cells": [
  {
   "cell_type": "code",
   "execution_count": 5,
   "id": "39f31e90",
   "metadata": {},
   "outputs": [],
   "source": [
    "dataset = \"P-SET\"\n",
    "llm_type = \"llama3.1:70b\"\n"
   ]
  },
  {
   "cell_type": "code",
   "execution_count": 6,
   "id": "fd235189",
   "metadata": {},
   "outputs": [],
   "source": [
    "import matplotlib.pyplot as plt\n",
    "import seaborn as sns\n",
    "from sklearn.metrics import confusion_matrix\n",
    "import itertools\n",
    "import numpy as np\n",
    "\n",
    "def plot_confusion_matrices_for_column_pairs(df, gt_col,vis_columns):\n",
    "\n",
    "    n_pairs = len(vis_columns)\n",
    "\n",
    "    # Determine layout: square-ish grid\n",
    "    n_cols = int(np.ceil(np.sqrt(n_pairs)))\n",
    "    n_rows = int(np.ceil(n_pairs / n_cols))\n",
    "\n",
    "    fig, axes = plt.subplots(n_rows, n_cols, figsize=(5 * n_cols, 5 * n_rows))\n",
    "    axes = axes.flatten()\n",
    "    col1 = gt_col\n",
    "    for idx, col2 in enumerate(vis_columns):\n",
    "        ax = axes[idx]\n",
    "        \n",
    "        # Drop rows with missing values in either column\n",
    "        sub_df = df[[col1, col2]].dropna().copy()\n",
    "        start_length = len(sub_df)\n",
    "        # sub_df = sub_df[sub_df.apply(lambda x: True if (\"_\" not in x[col1] and '_' not in x[col2]) else False, axis=1)]\n",
    "        filter_length = len(sub_df)\n",
    "        # Get confusion matrix\n",
    "        labels = sorted(set(sub_df[col1]) | set(sub_df[col2]))\n",
    "        cm = confusion_matrix(sub_df[col1], sub_df[col2], labels=labels)\n",
    "\n",
    "        # Plot heatmap\n",
    "        sns.heatmap(cm, annot=True, fmt=\"d\", cmap=\"Blues\", xticklabels=labels, yticklabels=labels, ax=ax)\n",
    "        ax.set_title(f\"{col1} vs \\n{col2}\\n strt: {start_length}\\nelim.:{filter_length-start_length}\", fontsize=10)\n",
    "        ax.set_xlabel(col2)\n",
    "        ax.set_ylabel(col1)\n",
    "\n",
    "    # Hide any extra axes\n",
    "    for j in range(len(vis_columns), len(axes)):\n",
    "        fig.delaxes(axes[j])\n",
    "\n",
    "    fig.tight_layout()\n",
    "    return fig\n"
   ]
  },
  {
   "cell_type": "code",
   "execution_count": 8,
   "id": "8fe6b3a8",
   "metadata": {},
   "outputs": [
    {
     "name": "stdout",
     "output_type": "stream",
     "text": [
      "********************Sleep************************\n",
      "['../exports/05_llm_llama3.1:70b_P-SET_19sep/Sleep/Sleep_Sentences_att_True.pkl', '../exports/05_llm_llama3.1:70b_P-SET_19sep/Sleep/Sleep_Documents_att_True.pkl']\n",
      "Sleep_Sentences_att_True\n",
      "Ao True Sleep_Sentences_att_True\n",
      "****************Sentence**************\n",
      "^^^^^^^^^^^^^^^^^^is_keyword_present\n",
      "0    292\n",
      "1    280\n",
      "Name: count, dtype: int64:{'4874_1325554_0014': 1, '4874_1325556_0033': 1, '4874_1325556_0035': 1, '4874_1325551_0027': 1, '4874_1325551_0029': 1, '4874_1325552_0011': 1, '4874_1325562_0002': 1, '4874_1325562_0003': 1, '4874_1325562_0009': 1, '4874_1325562_0010': 1, '4874_1325562_0020': 1, '4874_1325548_0027': 1, '4874_1325549_0044': 1, '4874_1325549_0046': 1, '4874_1325557_0000': 1, '4874_1325547_0013': 1, '3748_1310489_0001': 1, '3748_1310482_0004': 1, '3748_1310479_0011': 1, '3748_1310479_0029': 1, '3748_1310479_0035': 1, '3748_1310480_0000': 1, '3748_1310486_0002': 1, '3748_1310486_0004': 1, '3748_1310486_0010': 1, '3748_1310486_0016': 1, '3748_1310490_0010': 1, '3748_1310490_0020': 1, '3748_1310490_0026': 1, '3748_1310484_0003': 1, '7042_1356118_0009': 1, '7042_1356118_0013': 1, '7042_1356118_0015': 1, '7042_1356118_0018': 1, '7042_1356119_0014': 1, '7042_1356119_0016': 1, '7042_1356119_0017': 1, '7042_1356121_0015': 1, '7042_1356121_0017': 1, '7042_1356121_0018': 1, '7042_1356122_0005': 1, '7042_1356123_0001': 1, '15883_1468969_0001': 1, '15883_1468969_0012': 1, '15883_1468969_0014': 1, '15883_1468969_0021': 1, '15883_1468971_0007': 1, '15883_1468965_0012': 1, '15883_1468965_0013': 1, '15883_1468967_0008': 1, '15883_1468981_0011': 1, '15883_1468997_0008': 1, '15883_1468977_0006': 1, '14995_1457369_0023': 1, '14995_1457369_0030': 1, '14995_1457370_0001': 1, '14995_1457370_0010': 1, '14995_1457380_0002': 1, '14995_1457380_0021': 1, '14995_1457380_0022': 1, '14995_1457380_0025': 1, '14995_1457380_0038': 1, '14995_1457381_0024': 1, '14995_1457381_0028': 1, '14995_1457378_0002': 1, '14995_1457375_0015': 1, '14995_1457376_0003': 1, '14995_1457377_0024': 1, '14995_1457373_0030': 1, '14995_1457374_0001': 1, '14995_1457374_0005': 1, '14995_1457374_0023': 1, '14995_1457372_0002': 1, '14995_1457382_0002': 1, '16459_1477480_0003': 1, '16459_1477480_0006': 1, '16459_1477480_0008': 1, '16459_1477480_0035': 1, '16459_1477480_0036': 1, '16459_1477470_0006': 1, '16459_1477470_0030': 1, '16459_1477477_0014': 1, '16459_1477458_0025': 1, '16459_1477458_0038': 1, '16459_1477478_0002': 1, '16459_1477478_0004': 1, '15883_1468999_0007': 1, '22673_1558368_0014': 1, '22673_1558369_0013': 1, '22673_1558369_0017': 1, '22673_1558369_0019': 1, '22673_1558370_0002': 1, '22673_1558366_0023': 1, '22673_1558367_0013': 1, '22673_1558374_0001': 1, '22673_1558374_0009': 1, '22673_1558374_0012': 1, '22673_1558377_0007': 1, '22673_1558377_0013': 1, '22673_1558360_0003': 1, '22673_1558371_0004': 1, '22673_1558373_0001': 1, '23082_1563926_0004': 1, '23082_1563929_0014': 1, '23082_1563929_0025': 1, '23082_1563947_0000': 1, '23082_1563949_0000': 1, '23082_1563949_0002': 1, '23082_1563949_0005': 1, '23082_1563925_0003': 1, '23082_1563925_0008': 1, '23082_1563944_0013': 1, '23082_1563937_0004': 1, '23082_1563953_0002': 1, '25328_1592834_0000': 1, '25328_1592834_0007': 1, '25328_1592833_0023': 1, '25328_1592847_0002': 1, '25328_1592847_0005': 1, '25328_1592848_0000': 1, '25328_1592848_0007': 1, '25328_1592844_0008': 1, '25328_1592846_0001': 1, '25328_1592846_0010': 1, '25328_1592841_0036': 1, '25328_1592842_0008': 1, '32291_1671536_0023': 1, '32291_1671538_0022': 1, '32291_1671529_0007': 1, '32291_1671530_0002': 1, '32291_1671530_0003': 1, '32291_1671530_0006': 1, '32291_1671530_0018': 1, '32291_1671530_0022': 1, '32291_1671532_0016': 1, '32291_1671527_0013': 1, '32291_1671534_0004': 1, '32291_1671535_0004': 1, '27040_1615568_0007': 1, '9183_1383423_0011': 1, '10746_1404217_0014': 1, '31195_1661341_0004': 1, '17469_1491094_0000': 1, '27905_1627227_0004': 1, '6024_1341579_0003': 1, '17157_1487392_0011': 1, '28018_1628652_0003': 1, '28913_1638114_0004': 1, '13825_1442621_0014': 1, '8622_1376537_0008': 1, '18998_1512445_0002': 1, '10985_1406609_0007': 1, '1593_1282645_0003': 1, '12566_1426283_0006': 1, '816_1272279_0019': 1, '3238_1303813_0019': 1, '19455_1518481_0001': 1, '32574_1674484_0000': 1, '10746_1404211_0002': 1, '29905_1648607_0001': 1, '18014_1499406_0015': 1, '30171_1651425_0011': 1, '6473_1347654_0007': 1, '5422_1333845_0000': 1, '29115_1639747_0021': 1, '14167_1447212_0007': 1, '6481_1347752_0004': 1, '2206_1290649_0008': 1, '17803_1496146_0005': 1, '23459_1568708_0001': 1, '20259_1529111_0001': 1, '3917_1313327_0009': 1, '27198_1617943_0009': 1, '25640_1596470_0011': 1, '15885_1469015_0024': 1, '23659_1571680_0004': 1, '19428_1518355_0000': 1, '2522_1294872_0001': 1, '13004_1432617_0010': 1, '15531_1463976_0015': 1, '27281_1619436_0011': 1, '25400_1593728_0001': 1, '23243_1565966_0004': 1, '18309_1503163_0015': 1, '26633_1610505_0012': 1, '22541_1556902_0002': 1, '32046_1668798_0006': 1, '4494_1320368_0027': 1, '1367_1279982_0032': 1, '23884_1574533_0006': 1, '18415_1504375_0015': 1, '29157_1640426_0000': 1, '23720_1572434_0007': 1, '11427_1412471_0024': 1, '211_1263141_0003': 1, '6621_1349577_0004': 1, '18599_1506829_0005': 1, '21489_1544277_0014': 1, '4291_1317793_0001': 1, '5537_1335111_0006': 1, '2834_1298986_0010': 1, '6481_1347751_0024': 1, '5389_1333444_0002': 1, '19356_1517817_0007': 1, '23584_1570854_0001': 1, '20616_1532956_0006': 1, '17469_1491102_0002': 1, '27041_1615581_0002': 1, '23782_1573097_0007': 1, '21874_1549322_0003': 1, '4494_1320369_0006': 1, '15434_1462638_0002': 1, '30850_1658182_0000': 1, '5343_1332636_0007': 1, '24468_1580405_0028': 1, '26542_1609492_0029': 1, '16612_1479483_0037': 1, '25400_1593728_0008': 1, '11550_1413425_0002': 1, '6739_1351388_0001': 1, '15898_1469199_0021': 1, '5461_1333997_0019': 1, '2874_1299223_0009': 1, '18967_1511293_0014': 1, '27230_1618328_0005': 1, '14412_1450247_0003': 1, '10636_1402795_0009': 1, '32287_1671486_0004': 1, '30330_1652781_0000': 1, '2790_1298608_0010': 1, '6722_1351190_0035': 1, '6621_1349580_0001': 1, '15455_1462843_0005': 1, '8036_1369262_0029': 1, '17010_1485197_0021': 1, '16570_1479060_0006': 1, '27808_1625970_0003': 1, '5383_1333331_0003': 1, '7254_1359253_0015': 1, '13004_1432610_0003': 1, '29635_1645779_0003': 1, '17172_1487563_0001': 1, '20246_1528890_0003': 1, '10478_1400986_0001': 1, '22055_1551654_0010': 1, '8422_1373756_0030': 1, '11032_1407165_0011': 1, '32168_1669986_0020': 1, '19279_1516725_0001': 1, '11483_1413041_0004': 1, '2317_1292265_0015': 1, '3279_1304334_0001': 1, '14972_1457192_0011': 1, '5577_1335530_0002': 1, '23219_1565600_0003': 1, '29420_1643494_0000': 1, '4104_1316072_0011': 1, '22541_1556902_0011': 1, '23312_1566847_0027': 1, '11312_1410795_0013': 1, '24761_1584179_0008': 1, '15486_1463289_0006': 1, '3395_1306241_0004': 1, '13622_1439704_0001': 1, '418_1266320_0014': 1, '13960_1444323_0000': 1, '15392_1462264_0011': 1, '23348_1567436_0003': 1, '3238_1303804_0003': 1, '32798_1677330_0002': 1, '22568_1557268_0004': 1, '20474_1531673_0004': 1, '23659_1571681_0001': 1, '23720_1572437_0010': 1, '6481_1347758_0000': 1, '27978_1628334_0000': 1, '1419_1280772_0002': 1, '8846_1378935_0003': 1, '11700_1415093_0010': 1, '20410_1530967_0002': 1, '15883_1468996_0036': 0, '22673_1558356_0007': 0, '15883_1468982_0000': 0, '32291_1671532_0019': 0, '23082_1563937_0015': 0, '3748_1310490_0011': 0, '4874_1325555_0004': 0, '4874_1325555_0007': 0, '4874_1325551_0007': 0, '15883_1468970_0013': 0, '4874_1325555_0014': 0, '32291_1671531_0004': 0, '7042_1356114_0009': 0, '16459_1477458_0035': 0, '15883_1468973_0009': 0, '14995_1457383_0002': 0, '22673_1558364_0021': 0, '3748_1310488_0041': 0, '23082_1563944_0007': 0, '4874_1325560_0028': 0, '23082_1563941_0025': 0, '15883_1468994_0029': 0, '25328_1592837_0006': 0, '25328_1592833_0007': 0, '4874_1325561_0018': 0, '16459_1477467_0030': 0, '22673_1558367_0012': 0, '16459_1477458_0033': 0, '23082_1563931_0020': 0, '4874_1325562_0023': 0, '3748_1310479_0013': 0, '4874_1325556_0019': 0, '23082_1563926_0014': 0, '3748_1310490_0023': 0, '23082_1563941_0020': 0, '22673_1558357_0004': 0, '14995_1457384_0018': 0, '15883_1468973_0012': 0, '22673_1558356_0029': 0, '4874_1325548_0007': 0, '23082_1563932_0001': 0, '15883_1468998_0036': 0, '15883_1468999_0009': 0, '14995_1457370_0002': 0, '16459_1477476_0008': 0, '25328_1592841_0002': 0, '16459_1477466_0019': 0, '15883_1468979_0031': 0, '14995_1457381_0004': 0, '3748_1310478_0016': 0, '14995_1457370_0006': 0, '4874_1325557_0019': 0, '25328_1592847_0013': 0, '16459_1477470_0016': 0, '23082_1563929_0022': 0, '3748_1310479_0000': 0, '14995_1457381_0025': 0, '32291_1671538_0003': 0, '3748_1310479_0030': 0, '3748_1310479_0041': 0, '23082_1563928_0001': 0, '25328_1592843_0006': 0, '22673_1558360_0018': 0, '32291_1671536_0016': 0, '15883_1468998_0007': 0, '16459_1477476_0037': 0, '14995_1457377_0004': 0, '14995_1457380_0026': 0, '7042_1356119_0006': 0, '4874_1325549_0025': 0, '14995_1457383_0013': 0, '23082_1563923_0020': 0, '22673_1558371_0001': 0, '15883_1468968_0007': 0, '15883_1468967_0019': 0, '23082_1563931_0007': 0, '14995_1457384_0003': 0, '25328_1592840_0032': 0, '23082_1563929_0009': 0, '22673_1558361_0017': 0, '32291_1671530_0004': 0, '15883_1468997_0006': 0, '15883_1468970_0000': 0, '16459_1477465_0003': 0, '32291_1671535_0011': 0, '22673_1558369_0003': 0, '22673_1558356_0008': 0, '3748_1310489_0027': 0, '7042_1356115_0003': 0, '14995_1457380_0033': 0, '14995_1457378_0003': 0, '25328_1592840_0035': 0, '15883_1468985_0054': 0, '14995_1457369_0036': 0, '14995_1457373_0017': 0, '15883_1468996_0018': 0, '25328_1592837_0008': 0, '4874_1325554_0008': 0, '3748_1310487_0016': 0, '15883_1468976_0000': 0, '3748_1310489_0035': 0, '25328_1592836_0025': 0, '16459_1477476_0034': 0, '15883_1468971_0011': 0, '3748_1310483_0003': 0, '22673_1558371_0045': 0, '22673_1558357_0010': 0, '15883_1468975_0025': 0, '14995_1457380_0028': 0, '15883_1468989_0002': 0, '15883_1468981_0001': 0, '32291_1671538_0033': 0, '14995_1457384_0013': 0, '22673_1558356_0015': 0, '7042_1356115_0018': 0, '4874_1325559_0028': 0, '4874_1325548_0019': 0, '25328_1592845_0014': 0, '22673_1558361_0027': 0, '25328_1592834_0001': 0, '23082_1563929_0045': 0, '22673_1558360_0027': 0, '14995_1457384_0008': 0, '3748_1310488_0030': 0, '16459_1477476_0033': 0, '23082_1563932_0021': 0, '16459_1477480_0046': 0, '23082_1563934_0007': 0, '23082_1563931_0024': 0, '16459_1477479_0025': 0, '23082_1563929_0030': 0, '23082_1563940_0035': 0, '7042_1356124_0007': 0, '15883_1468999_0005': 0, '16459_1477477_0010': 0, '16459_1477472_0015': 0, '15883_1468966_0009': 0, '4874_1325547_0005': 0, '4874_1325551_0044': 0, '4874_1325549_0026': 0, '14995_1457372_0006': 0, '16459_1477478_0028': 0, '4874_1325555_0010': 0, '4874_1325549_0045': 0, '3748_1310485_0007': 0, '7042_1356119_0015': 0, '32291_1671540_0017': 0, '22673_1558357_0003': 0, '3748_1310483_0004': 0, '23082_1563936_0005': 0, '4874_1325556_0029': 0, '23082_1563929_0021': 0, '15883_1468967_0005': 0, '32291_1671536_0019': 0, '3748_1310485_0002': 0, '25328_1592839_0003': 0, '16459_1477480_0009': 0, '32291_1671540_0020': 0, '15883_1468996_0019': 0, '15883_1468973_0029': 0, '25328_1592841_0003': 0, '15883_1468967_0017': 0, '4874_1325553_0028': 0, '14995_1457373_0010': 0, '25328_1592845_0030': 0, '25328_1592837_0028': 0, '23082_1563950_0038': 0, '3748_1310478_0031': 0, '32291_1671540_0011': 0, '16459_1477469_0018': 0, '14995_1457373_0022': 0, '15883_1468971_0008': 0, '15883_1468985_0005': 0, '25328_1592840_0017': 0, '15883_1468996_0015': 0, '4874_1325557_0018': 0, '22673_1558360_0022': 0, '32291_1671538_0015': 0, '4874_1325549_0020': 0, '4874_1325554_0012': 0, '32291_1671539_0005': 0, '15883_1468983_0037': 0, '22673_1558366_0002': 0, '25328_1592837_0016': 0, '32291_1671535_0008': 0, '7042_1356116_0000': 0, '15883_1468996_0014': 0, '15883_1468996_0031': 0, '25328_1592837_0034': 0, '22673_1558357_0022': 0, '23082_1563931_0011': 0, '25328_1592836_0016': 0, '22673_1558357_0012': 0, '15883_1468996_0001': 0, '7042_1356117_0017': 0, '14995_1457371_0022': 0, '16459_1477476_0046': 0, '32291_1671538_0025': 0, '4874_1325558_0036': 0, '25328_1592840_0002': 0, '25328_1592833_0000': 0, '23082_1563944_0000': 0, '7042_1356115_0014': 0, '15883_1468985_0012': 0, '15883_1468986_0005': 0, '16459_1477469_0000': 0, '15883_1468983_0027': 0, '15883_1468985_0056': 0, '3748_1310484_0010': 0, '14995_1457378_0011': 0, '22673_1558368_0013': 0, '4874_1325553_0000': 0, '25328_1592843_0007': 0, '23082_1563925_0021': 0, '23082_1563929_0010': 0, '25328_1592847_0016': 0, '25328_1592832_0046': 0, '4874_1325559_0024': 0, '4874_1325560_0012': 0, '25328_1592836_0006': 0, '16459_1477473_0013': 0, '22673_1558364_0038': 0, '25328_1592831_0013': 0, '15883_1468973_0024': 0, '23082_1563945_0000': 0, '3748_1310486_0030': 0, '25328_1592842_0003': 0, '16459_1477479_0013': 0, '22673_1558367_0002': 0, '3748_1310477_0004': 0, '32291_1671534_0005': 0, '16459_1477470_0023': 0, '16459_1477477_0013': 0, '7042_1356119_0004': 0, '4874_1325553_0006': 0, '3748_1310488_0016': 0, '25328_1592840_0028': 0, '16459_1477473_0001': 0, '23082_1563941_0028': 0, '16459_1477459_0035': 0, '3748_1310478_0010': 0, '23082_1563940_0026': 0, '23082_1563950_0039': 0, '23082_1563929_0031': 0, '16459_1477479_0010': 0, '16459_1477473_0011': 0, '32291_1671529_0004': 0, '16459_1477459_0023': 0, '25328_1592843_0009': 0, '23082_1563931_0008': 0, '23082_1563932_0009': 0, '25328_1592845_0021': 0, '16459_1477463_0002': 0, '23082_1563943_0002': 0, '25328_1592845_0020': 0, '22673_1558376_0005': 0, '22673_1558366_0028': 0, '4874_1325548_0005': 0, '14995_1457370_0012': 0, '22673_1558369_0018': 0, '16459_1477479_0021': 0, '14995_1457373_0033': 0, '32291_1671536_0021': 0, '32291_1671539_0007': 0, '16459_1477477_0025': 0, '15883_1468999_0003': 0, '23082_1563928_0006': 0, '3748_1310486_0018': 0, '22673_1558371_0030': 0, '15883_1468983_0036': 0, '3748_1310478_0023': 0, '14995_1457369_0038': 0, '4874_1325551_0016': 0, '16459_1477464_0001': 0, '16459_1477462_0002': 0, '3748_1310483_0011': 0, '15883_1468971_0000': 0, '3748_1310489_0008': 0, '4874_1325556_0001': 0, '3748_1310482_0000': 0, '14995_1457373_0002': 0, '15883_1468984_0003': 0, '15883_1468968_0011': 0, '4874_1325548_0000': 0, '23082_1563938_0005': 0, '25328_1592840_0033': 0, '32291_1671532_0003': 0, '4874_1325557_0017': 0, '25328_1592832_0044': 0, '4874_1325547_0012': 0, '23082_1563927_0003': 0, '3748_1310489_0002': 0}\n"
     ]
    },
    {
     "data": {
      "text/plain": [
       "is_keyword_present\n",
       "0.0    292\n",
       "1.0    280\n",
       "Name: count, dtype: int64"
      ]
     },
     "metadata": {},
     "output_type": "display_data"
    },
    {
     "name": "stdout",
     "output_type": "stream",
     "text": [
      "Sent_gt_Sleep  is_keyword_present\n",
      "False          0.0                   290\n",
      "True           1.0                   235\n",
      "False          1.0                    45\n",
      "True           0.0                     2\n",
      "Name: count, dtype: int64\n",
      "Event_Name_Sleep\n",
      "Event_Name_LLM_Events_all_evidence_Sent_Sleep\n",
      "Event_Name_LLM_Events_keyword_evidence_Sent_Sleep\n",
      "Event_Name_LLM_Events_example_evidence_Sent_Sleep\n",
      "Event_Name_LLM_Events_no_evidence_Sent_Sleep\n",
      "file written to ../exports/06_analysis/Sleep/all_correct_Sleep_Sentences_att_True.xlsx\n"
     ]
    },
    {
     "data": {
      "text/html": [
       "<div>\n",
       "<style scoped>\n",
       "    .dataframe tbody tr th:only-of-type {\n",
       "        vertical-align: middle;\n",
       "    }\n",
       "\n",
       "    .dataframe tbody tr th {\n",
       "        vertical-align: top;\n",
       "    }\n",
       "\n",
       "    .dataframe thead th {\n",
       "        text-align: right;\n",
       "    }\n",
       "</style>\n",
       "<table border=\"1\" class=\"dataframe\">\n",
       "  <thead>\n",
       "    <tr style=\"text-align: right;\">\n",
       "      <th></th>\n",
       "      <th>col_name</th>\n",
       "      <th>technique</th>\n",
       "      <th>pos_sup</th>\n",
       "      <th>neg_sup</th>\n",
       "      <th>f1_score</th>\n",
       "      <th>precision</th>\n",
       "      <th>recall</th>\n",
       "      <th>TP</th>\n",
       "      <th>TN</th>\n",
       "      <th>FP</th>\n",
       "      <th>FN</th>\n",
       "      <th>time</th>\n",
       "    </tr>\n",
       "  </thead>\n",
       "  <tbody>\n",
       "    <tr>\n",
       "      <th>0</th>\n",
       "      <td>Event_Name_Sleep</td>\n",
       "      <td>Sleep_Ao</td>\n",
       "      <td>237</td>\n",
       "      <td>335</td>\n",
       "      <td>0.909091</td>\n",
       "      <td>0.839286</td>\n",
       "      <td>0.991561</td>\n",
       "      <td>235</td>\n",
       "      <td>290</td>\n",
       "      <td>45</td>\n",
       "      <td>2</td>\n",
       "      <td>0.002423</td>\n",
       "    </tr>\n",
       "    <tr>\n",
       "      <th>1</th>\n",
       "      <td>Event_Name_LLM_Events_all_evidence_Sent_Sleep</td>\n",
       "      <td>LLM_KiEi_Sent_Ao</td>\n",
       "      <td>237</td>\n",
       "      <td>335</td>\n",
       "      <td>0.864469</td>\n",
       "      <td>0.763754</td>\n",
       "      <td>0.995781</td>\n",
       "      <td>236</td>\n",
       "      <td>262</td>\n",
       "      <td>73</td>\n",
       "      <td>1</td>\n",
       "      <td>5.802849</td>\n",
       "    </tr>\n",
       "    <tr>\n",
       "      <th>2</th>\n",
       "      <td>Event_Name_LLM_Events_keyword_evidence_Sent_Sleep</td>\n",
       "      <td>LLM__Ki_Sent_Ao</td>\n",
       "      <td>237</td>\n",
       "      <td>335</td>\n",
       "      <td>0.843806</td>\n",
       "      <td>0.734375</td>\n",
       "      <td>0.991561</td>\n",
       "      <td>235</td>\n",
       "      <td>250</td>\n",
       "      <td>85</td>\n",
       "      <td>2</td>\n",
       "      <td>4.845409</td>\n",
       "    </tr>\n",
       "    <tr>\n",
       "      <th>3</th>\n",
       "      <td>Event_Name_LLM_Events_example_evidence_Sent_Sleep</td>\n",
       "      <td>LLM__Ei_Sent_Ao</td>\n",
       "      <td>237</td>\n",
       "      <td>335</td>\n",
       "      <td>0.859745</td>\n",
       "      <td>0.756410</td>\n",
       "      <td>0.995781</td>\n",
       "      <td>236</td>\n",
       "      <td>259</td>\n",
       "      <td>76</td>\n",
       "      <td>1</td>\n",
       "      <td>5.656754</td>\n",
       "    </tr>\n",
       "    <tr>\n",
       "      <th>4</th>\n",
       "      <td>Event_Name_LLM_Events_no_evidence_Sent_Sleep</td>\n",
       "      <td>LLM__Sent_Ao</td>\n",
       "      <td>237</td>\n",
       "      <td>335</td>\n",
       "      <td>0.843806</td>\n",
       "      <td>0.734375</td>\n",
       "      <td>0.991561</td>\n",
       "      <td>235</td>\n",
       "      <td>250</td>\n",
       "      <td>85</td>\n",
       "      <td>2</td>\n",
       "      <td>4.920968</td>\n",
       "    </tr>\n",
       "  </tbody>\n",
       "</table>\n",
       "</div>"
      ],
      "text/plain": [
       "                                            col_name         technique  \\\n",
       "0                                   Event_Name_Sleep          Sleep_Ao   \n",
       "1      Event_Name_LLM_Events_all_evidence_Sent_Sleep  LLM_KiEi_Sent_Ao   \n",
       "2  Event_Name_LLM_Events_keyword_evidence_Sent_Sleep   LLM__Ki_Sent_Ao   \n",
       "3  Event_Name_LLM_Events_example_evidence_Sent_Sleep   LLM__Ei_Sent_Ao   \n",
       "4       Event_Name_LLM_Events_no_evidence_Sent_Sleep      LLM__Sent_Ao   \n",
       "\n",
       "   pos_sup  neg_sup  f1_score  precision    recall   TP   TN  FP  FN      time  \n",
       "0      237      335  0.909091   0.839286  0.991561  235  290  45   2  0.002423  \n",
       "1      237      335  0.864469   0.763754  0.995781  236  262  73   1  5.802849  \n",
       "2      237      335  0.843806   0.734375  0.991561  235  250  85   2  4.845409  \n",
       "3      237      335  0.859745   0.756410  0.995781  236  259  76   1  5.656754  \n",
       "4      237      335  0.843806   0.734375  0.991561  235  250  85   2  4.920968  "
      ]
     },
     "metadata": {},
     "output_type": "display_data"
    },
    {
     "data": {
      "image/png": "[encoded data removed]",
      "text/plain": [
       "<Figure size 1500x1000 with 10 Axes>"
      ]
     },
     "metadata": {},
     "output_type": "display_data"
    }
   ],
   "source": [
    "from glob import glob\n",
    "import os\n",
    "import pandas as pd\n",
    "import json\n",
    "from sklearn.metrics import confusion_matrix, ConfusionMatrixDisplay\n",
    "import numpy as np\n",
    "from sklearn.metrics import f1_score, accuracy_score, precision_score, recall_score\n",
    "from itertools import product\n",
    "disagreement_type = \"correct\"\n",
    "llm_type = \"llama3.1:70b\"\n",
    "suffix = \"19sep\"\n",
    "def get_time(x):\n",
    "    x = np.array(x)\n",
    "    # Remove NaNs\n",
    "    x = x[~np.isnan(x)]\n",
    "    # If less than 3 values, just return mean\n",
    "    if len(x) < 3:\n",
    "        return np.mean(x)\n",
    "    # Remove outliers using IQR\n",
    "    q1, q3 = np.percentile(x, [25, 75])\n",
    "    iqr = q3 - q1\n",
    "    mask = (x >= q1 - 1.5 * iqr) & (x <= q3 + 1.5 * iqr)\n",
    "    return np.mean(x[mask])\n",
    "\n",
    "def fixnames(ls,suffix,remove):\n",
    "    LS=[]\n",
    "    for s in ls:\n",
    "        s = s.replace(\"_keyword_evidence\",\"_Ki\").replace(\"_example_evidence\",\"_Ei\").replace(\"_no_evidence\",\"\").replace(\"_all_evidence\",\"KiEi\").replace(\"Event_Name_\",'').replace(\"_Events\",'_').replace('_'+remove,\"\")\n",
    "        s = s + \"_\" + suffix\n",
    "        if \"sentence\" in s:\n",
    "            s = s.replace(\"sentence\",\"\")\n",
    "            s = s + \"_Sent-SET\"\n",
    "        elif \"document\" in s:\n",
    "            s = s.replace(\"document\",\"\")\n",
    "            s = s + \"_Doc-SET\"\n",
    "        LS.append(s)\n",
    "    return LS\n",
    "\n",
    "def get_col_suffix(keyword_input, example_input):\n",
    "    col_suffix = \"no\"\n",
    "    if keyword_input and example_input:\n",
    "        col_suffix = \"all\"\n",
    "    elif keyword_input and not example_input:\n",
    "        col_suffix = \"keyword\"\n",
    "    elif not keyword_input and example_input:\n",
    "        col_suffix = \"example\"\n",
    "    return col_suffix\n",
    "\n",
    "LLM_dict = {}\n",
    "llm_models_all = []\n",
    "for keyword_input, example_input in [i for i in product([True,False],[True,False])]: \n",
    "    for input_type in [\"Sent\", \"Doc\"]:\n",
    "        col_suffix = get_col_suffix(keyword_input, example_input)\n",
    "        llm_models_all.append(f\"LLM_Events_{col_suffix}_evidence_{input_type}\")\n",
    "df_both = pd.read_pickle(\"../exports/04_dictionary_features.pkl\")\n",
    "\n",
    "\n",
    "dataset = \"P-SET\"\n",
    "for analysis_type in [\"all\"]: #(M-SET, A-SET, D-SET, F-SET)\n",
    "    for ET in [\"Sleep\"]:\n",
    "        print(f\"********************{ET}************************\")\n",
    "        llm_files = glob(f\"../exports/05_llm_{llm_type}_{dataset}_{suffix}/{ET}/*.pkl\")\n",
    "        print(llm_files)\n",
    "        try:\n",
    "            gt_file_sent = glob(f\"../exports/04_groundtruth/{dataset}/Annotated/{ET}_Sentences.pkl\")[0]\n",
    "            gt_file_doc = glob(f\"../exports/04_groundtruth/{dataset}/Annotated/{ET}_Documents.pkl\")[0]\n",
    "        except IndexError:\n",
    "            print(f\"No ground truth file found for {ET} in ../exports/04_groundtruth/{dataset}/Annotated/\")\n",
    "            continue    \n",
    "        \n",
    "        llm_files = [i for i in llm_files if \"True\" in i]\n",
    "        llm_files = [i for i in llm_files if \"Sent\" in i]\n",
    "        for file in llm_files:\n",
    "            filename = os.path.basename(file).rstrip('.pkl')\n",
    "            print(filename)\n",
    "            text_type = \"Document\" if \"Document\" in filename else \"Sentence\"\n",
    "            _,attribute_requested = filename.split(\"_\")[-2:]\n",
    "            attribute_requested = eval(attribute_requested)\n",
    "            suffix = \"Ao\" if attribute_requested else \"\"           \n",
    "            print(suffix,attribute_requested,filename)\n",
    "            \n",
    "            if text_type == \"Sentence\":\n",
    "                gt_file = gt_file_sent\n",
    "                id_type = \"UID\"\n",
    "                gt_column = f\"Sent_gt_{ET}\"\n",
    "            elif text_type == \"Document\":\n",
    "                gt_file = gt_file_doc\n",
    "                id_type = \"ROW_ID\"\n",
    "                gt_column = f\"Doc_gt_{ET}\"\n",
    "            print(f\"****************{text_type}**************\")\n",
    "            gt_df = pd.read_pickle(gt_file)\n",
    "            gt_df[id_type] = gt_df[id_type].astype(str)\n",
    "            df_both[id_type] = df_both[id_type].astype(str)\n",
    "            gt_df = gt_df.dropna(subset=gt_column)\n",
    "            if not attribute_requested:\n",
    "                gt_df[gt_column] = gt_df.apply(lambda x: x[gt_column] if x['negation']==False else False,axis=1)\n",
    "            \n",
    "            gt_df['Lemma'] = gt_df['Lemma'].apply(lambda x: tuple(x))\n",
    "            gt_df[\"is_keyword_present\"] = gt_df[\"Event_Name\"].apply(lambda x: 1 if ET in x else 0)\n",
    "            \n",
    "            id_to_gt = {row[id_type]:row[gt_column] for _,row in gt_df.iterrows()}\n",
    "            id_to_negation = {row[id_type]:row['negation'] for _,row in gt_df.iterrows()}\n",
    "            id_to_key_present = {row[id_type]:row[f\"is_keyword_present\"] for _,row in gt_df.iterrows()}\n",
    "            print(f\"^^^^^^^^^^^^^^^^^^{gt_df.is_keyword_present.value_counts()}:{id_to_key_present}\")\n",
    "            id_to_lemma = {row[id_type]:row[f\"Lemma\"] for _,row in gt_df.iterrows()}\n",
    "            id_to_dict_time = {row[id_type]:row[f\"Time\"] for _,row in df_both.iterrows()}\n",
    "            output_folder = f\"../exports/06_analysis/{ET}\"\n",
    "            os.makedirs(output_folder,exist_ok=True)\n",
    "       \n",
    "            \n",
    "            \n",
    "            df = pd.read_pickle(file)\n",
    "            df[id_type] = df[id_type].astype(str)\n",
    "            llm_models = [i for i in llm_models_all if i in df]\n",
    "            df[f'{ET}_time'] = df[id_type].apply(lambda x:id_to_dict_time.get(x))\n",
    "            df[\"focus_event\"] = ET\n",
    "            df['negation'] = df[id_type].apply(lambda x:id_to_negation.get(x))\n",
    "            \n",
    "            \n",
    "            df[gt_column] = df[id_type].apply(lambda x:id_to_gt.get(x,None))\n",
    "            df[f\"is_keyword_present\"] = df[id_type].apply(lambda x:id_to_key_present.get(x))\n",
    "            display(df.is_keyword_present.value_counts())\n",
    "            print(df[[gt_column,\"is_keyword_present\"]].value_counts())\n",
    "                        \n",
    "            df[f\"dict_Lemma\"] = df[id_type].apply(lambda x:id_to_lemma.get(x))\n",
    "            df.dropna(subset=gt_column,inplace=True)\n",
    "            df[gt_column] = df[gt_column].astype(int)\n",
    "            \n",
    "\n",
    "            for col in llm_models:\n",
    "                df[f\"{col}_{ET}_time\"] = df[col].apply(lambda x:x['event_detection_time'])\n",
    "            if len(df) > 1:\n",
    "                first_row = df.iloc[0]\n",
    "                splittable_columns = [\"Event_Name\"]+[f\"Event_Name_{model}\" for model in llm_models]\n",
    "                disagreement_dfs = []\n",
    "                generated_columns = []\n",
    "\n",
    "                for col in splittable_columns:\n",
    "                    generated_column = f\"{col}_{ET}\"\n",
    "                    df[generated_column] = df[col].apply(lambda x: 1 if ET in x else 0)\n",
    "                    \n",
    "                    generated_columns.append(generated_column)\n",
    "                \n",
    "                f1s, accs, precs, recs, psup, nsup, times, tp, tn, fp, fn = [],[],[],[],[],[],[],[],[],[],[]\n",
    "                \n",
    "                \n",
    "                for col in generated_columns:\n",
    "                    print(col)\n",
    "                    df_temp = df.copy()\n",
    "                    y_gt = df_temp[gt_column]\n",
    "                    LLM_dict[(attribute_requested,gt_column)] = y_gt\n",
    "                    preds = df_temp[col]\n",
    "                    LLM_dict[(attribute_requested,col)] = preds\n",
    "                    f1s.append(f1_score(y_gt, preds))\n",
    "                    accs.append(accuracy_score(y_gt, preds))\n",
    "                    precs.append(precision_score(y_gt, preds, zero_division=0))\n",
    "                    recs.append(recall_score(y_gt, preds))   \n",
    "                    psup.append(sum(y_gt))\n",
    "                    nsup.append(sum(y_gt==0))\n",
    "                    times.append(get_time(df_temp[f\"{col.lstrip('Event_Name_')}_time\"]))\n",
    "                    #true positive\n",
    "                    tn_i, fp_i, fn_i, tp_i = confusion_matrix(y_gt, preds).ravel()\n",
    "                    tp.append(tp_i)\n",
    "                    tn.append(tn_i)\n",
    "                    fp.append(fp_i)\n",
    "                    fn.append(fn_i)\n",
    "                \n",
    "            \n",
    "                results_df = {\"col_name\":generated_columns, \"technique\":fixnames(generated_columns,suffix,ET), \"pos_sup\": psup, \"neg_sup\": nsup, \"f1_score\":f1s, \"precision\":precs, \"recall\":recs, \"TP\":tp, 'TN':tn, 'FP':fp, 'FN':fn, \"time\":times} \n",
    "                results = pd.DataFrame(results_df)   \n",
    "                plot_confusion_matrices_for_column_pairs(df, gt_column,vis_columns=generated_columns)\n",
    "                op_path = f\"{output_folder}/{analysis_type}_{disagreement_type}_{filename}.xlsx\"\n",
    "\n",
    "\n",
    "                df.to_excel(op_path,index=False)\n",
    "                print(f\"file written to {op_path}\")\n",
    "                display(results)"
   ]
  },
  {
   "cell_type": "code",
   "execution_count": 89,
   "id": "d3ea1999",
   "metadata": {},
   "outputs": [
    {
     "data": {
      "text/plain": [
       "0     None\n",
       "2     None\n",
       "3     None\n",
       "4     None\n",
       "5     None\n",
       "6     None\n",
       "7     None\n",
       "9     None\n",
       "10    None\n",
       "11    None\n",
       "12    None\n",
       "13    None\n",
       "14    None\n",
       "15    None\n",
       "16    None\n",
       "18    None\n",
       "19    None\n",
       "20    None\n",
       "Name: Sleep_time, dtype: object"
      ]
     },
     "execution_count": 89,
     "metadata": {},
     "output_type": "execute_result"
    }
   ],
   "source": [
    "df_temp[f\"{col.lstrip('Event_Name_')}_time\"]"
   ]
  },
  {
   "cell_type": "code",
   "execution_count": null,
   "id": "9572429c",
   "metadata": {},
   "outputs": [],
   "source": [
    "afile=\"../exports/06_analysis/Sleep/all_correct_Sleep_Sentences_att_True.xlsx\"\n",
    "amodel = \"Event_Name_LLM_Events_all_evidence_Sent_Sleep\"\n",
    "agt = \"Sent_gt_Sleep\"\n",
    "\n",
    "adf = pd.read_excel(afile)\n",
    "adf[adf[amodel]!=adf[agt]][['Sentence',agt,amodel]].to_excel(f\"../exports/temp_false_predictions.xlsx\")\n"
   ]
  },
  {
   "cell_type": "code",
   "execution_count": 71,
   "id": "9673e849",
   "metadata": {},
   "outputs": [
    {
     "data": {
      "text/plain": [
       "{False}"
      ]
     },
     "execution_count": 71,
     "metadata": {},
     "output_type": "execute_result"
    }
   ],
   "source": [
    "id_to_gt = {row[id_type]:row[gt_column] for _,row in gt_df.iterrows()}\n",
    "set(id_to_gt.values())"
   ]
  },
  {
   "cell_type": "code",
   "execution_count": 77,
   "id": "5a5ea880",
   "metadata": {},
   "outputs": [
    {
     "ename": "NameError",
     "evalue": "name 'row' is not defined",
     "output_type": "error",
     "traceback": [
      "\u001b[31m---------------------------------------------------------------------------\u001b[39m",
      "\u001b[31mNameError\u001b[39m                                 Traceback (most recent call last)",
      "\u001b[36mCell\u001b[39m\u001b[36m \u001b[39m\u001b[32mIn[77]\u001b[39m\u001b[32m, line 1\u001b[39m\n\u001b[32m----> \u001b[39m\u001b[32m1\u001b[39m \u001b[43mrow\u001b[49m[\u001b[33m'\u001b[39m\u001b[33mSent_ID\u001b[39m\u001b[33m'\u001b[39m]\n",
      "\u001b[31mNameError\u001b[39m: name 'row' is not defined"
     ]
    }
   ],
   "source": [
    "row['Sent_ID']"
   ]
  },
  {
   "cell_type": "code",
   "execution_count": 26,
   "id": "9fd7c518",
   "metadata": {},
   "outputs": [
    {
     "data": {
      "text/plain": [
       "724                                      micu nursing note\n",
       "724                                             [**7-18**]\n",
       "724      [**name (ni) **] patient is awake and alert, o...\n",
       "724      patient given .5mg by mouth ativan x1 with goo...\n",
       "724      it patient needs ativan more often like q6 to ...\n",
       "                               ...                        \n",
       "14452               will discuss this with team in morning\n",
       "14452                                      hct stable @ 35\n",
       "14452    bs treated per ssri.plan) continue by mouth an...\n",
       "14452                           advance adl's & dat as tol\n",
       "14452             make team aware of back & abdominla pain\n",
       "Name: Sentence, Length: 4618, dtype: object"
      ]
     },
     "execution_count": 26,
     "metadata": {},
     "output_type": "execute_result"
    }
   ],
   "source": [
    "df.Sentence"
   ]
  },
  {
   "cell_type": "code",
   "execution_count": 1,
   "id": "0165118e",
   "metadata": {},
   "outputs": [
    {
     "ename": "NameError",
     "evalue": "name 'output_folder' is not defined",
     "output_type": "error",
     "traceback": [
      "\u001b[0;31m---------------------------------------------------------------------------\u001b[0m",
      "\u001b[0;31mNameError\u001b[0m                                 Traceback (most recent call last)",
      "Cell \u001b[0;32mIn[1], line 1\u001b[0m\n\u001b[0;32m----> 1\u001b[0m \u001b[38;5;28mprint\u001b[39m(\u001b[38;5;124mf\u001b[39m\u001b[38;5;124m\"\u001b[39m\u001b[38;5;132;01m{\u001b[39;00m\u001b[43moutput_folder\u001b[49m\u001b[38;5;132;01m}\u001b[39;00m\u001b[38;5;124m/\u001b[39m\u001b[38;5;132;01m{\u001b[39;00manalysis_type\u001b[38;5;132;01m}\u001b[39;00m\u001b[38;5;124m_\u001b[39m\u001b[38;5;132;01m{\u001b[39;00mdisagreement_type\u001b[38;5;132;01m}\u001b[39;00m\u001b[38;5;124m_\u001b[39m\u001b[38;5;132;01m{\u001b[39;00mfilename\u001b[38;5;132;01m}\u001b[39;00m\u001b[38;5;124m.xlsx\u001b[39m\u001b[38;5;124m\"\u001b[39m)\n",
      "\u001b[0;31mNameError\u001b[0m: name 'output_folder' is not defined"
     ]
    }
   ],
   "source": [
    "print(f\"{output_folder}/{analysis_type}_{disagreement_type}_{filename}.xlsx\")"
   ]
  },
  {
   "cell_type": "code",
   "execution_count": 12,
   "id": "0c9dd22b",
   "metadata": {},
   "outputs": [
    {
     "name": "stdout",
     "output_type": "stream",
     "text": [
      "('     '\n",
      " 'ROW_ID                                                                                                                                                                                                                                                                                                                                                                                                                                                                                                                                                                                                                                                                                                                                                                                                                                                                                                                                                                                                                                                                                                                                                                                                                                                                                                                                                                                                                                                                                                                                                                                                                                                                                                                                                                                                                                                                                                                                                                                                                                                                                                                                                                                                                                                                                                                                                                                                                                                                                            '\n",
      " 'Document  Doc_gt_Sleep  Event_Name_LLM_Events_example_evidence_Doc_Sleep\\n'\n",
      " '6   '\n",
      " '1310483                                                                                                                                                                                                                                                                                                                                                                                                                                                                                                                                                                                                                                                                                                                                                                                                                                                                                                                                                                                                                                                                                                                                                                                                                                                                                                                                                                                                                                                                                                                                                                                                                                                                                                                                                                                                                                                                                                 '\n",
      " '84 yr old c dissecting aortic aneurysm .\\\\n\\\\nsr c blocked beats .bp labile '\n",
      " 'ranging 160 to 77 systolic.labetolol drip for short time .to have mri this '\n",
      " 'pm. k, mg repleted .milrinone continues on .375.amniodarone dc iv .patient '\n",
      " 'feels nauseous when bp under 110\\\\n\\\\nbs diminished ,7.38/32/115/20 on '\n",
      " '6lnp\\\\n\\\\ntaking cl liquids,pos bs ,no stool\\\\n\\\\nhuo 10 to '\n",
      " '20,creat\\\\n\\\\npatient restless.co low back pain some releif c tylenol and '\n",
      " 'sitting on side of bed .\\\\n\\\\nlabile bp unexplained ,need mri to check '\n",
      " 'aneurysm\\\\n\\\\nfollow hct,lytes\\\\naim bp 110 to 120\\\\nmri this pm\\\\n\\\\naim bp '\n",
      " '110 to 120 sys\\\\n\\\\n             '\n",
      " '0                                                 1\\n'\n",
      " '11  1310488  ccu npn 7p-7a\\\\ns: \"when am i going to be able to get out of '\n",
      " 'bed and walk around?\"\\\\no: see carevue and update for complete assessment '\n",
      " 'data\\\\nhpi: 84yo admitted [**3-10**] w/sob and backpain found to have type b '\n",
      " 'aortic dissection descending from thoracic aorta to l common iliac artery. '\n",
      " \"h/o htn, type a dissection '[**77**] status post emergent surgical repair \"\n",
      " 'c/b embolic cva. tee [**3-10**] showed global hypokinesis with newly '\n",
      " \"depressed lvef 25% (from 60% on '[**77**]). current hospitalization c/b new \"\n",
      " 'onset rapid a flutter v. a tach with 2:1 conduction, cardioversion to nsr '\n",
      " '[**3-10**] c/b hypotension requiring neo, arf with cr up to 2.7, extremely '\n",
      " 'labile bp requiring both labetalol and neo at times. pa line placed '\n",
      " '[**3-11**] revealed ci of 1.7, up to 3 after starting milrinone, was self '\n",
      " \"d/c'd [**3-12**].\\\\nros:\\\\ncv: cont labetolol 0.5-1.5mg/min to maintain \"\n",
      " 'diastolic blood pressure 100-120, ranging 90s-150s/ depending on level of '\n",
      " 'alertness. milrinone weaned to 0.25mcg/kg/min. heart rate sb 58-60, no '\n",
      " 'ectopy, hct stable, am labs pending. no c/o cp/sob. distal pulses palp/dop, '\n",
      " 'bp equal bilat ues. plan for cath today to eval coronaries and '\n",
      " 'hemodynamics.\\\\n\\\\nresp: nc frequently dislodged, spo2 on ra 89-96%. ls '\n",
      " 'clear, diminished @ bases with fine rales 1/4 up posteriorly. bilat '\n",
      " 'atelectasis appreciated on mri.\\\\n\\\\ngi/gu: abd soft, nontender, '\n",
      " 'nondistended, +bs/-bm, tolerating by mouth meds with sips. npo after mn for '\n",
      " 'cath [**3-15**].  foley draining cyu, excellent response to 60mg lasix ivp '\n",
      " 'given @ [**2174**]. +325 yesterday, -850 since mn. am bun/cr pending. mri '\n",
      " 'revealing that renal artery perfusion is not inhibited by '\n",
      " 'dissection.\\\\n\\\\nid: afebrile although warm to touch. tmax 98.6 by mouth. '\n",
      " 'wbc 5.8(5.6)\\\\n\\\\nskin: multiple areas of ecchymosis. r hand 22g piv '\n",
      " 'erythematous, nontender, flushes easily, left in d/t poor peripheral access. '\n",
      " \"lac also needs to be d/c'd (in on [**3-10**]). l hand edematous from ? \"\n",
      " 'infiltration of old iv site.\\\\n\\\\nneuro: a&ox3, dangling at bedside at times '\n",
      " 'and c/o restlessness (baseline). tylenol for back pain with relief.\\\\n\\\\na: '\n",
      " '84yo with type b descending arotic dissection, bp cont labile and cont to '\n",
      " 'require labetalol. also cont on milrinone. improving renal sts, responded '\n",
      " 'well to diuresis.\\\\np: to cath today to eval hemodynamic sts, follow up am '\n",
      " 'labs. monitor fluid sts. teaching re: procedure, continue to support '\n",
      " 'patient. and family. ? start by mouth bb.\\\\n             '\n",
      " '0                                                 1')\n"
     ]
    }
   ],
   "source": [
    "from pprint import pprint\n",
    "pprint(df_temp[(df_temp[gt_column]==False) & (df_temp[col]==True) & (df_temp[\"Event_Name_Sleep\"]==False)][[id_type,text_type, gt_column, col]].to_string())"
   ]
  },
  {
   "cell_type": "code",
   "execution_count": 65,
   "id": "a1c5d350",
   "metadata": {},
   "outputs": [
    {
     "data": {
      "text/plain": [
       "Index(['ROW_ID', 'SUBJECT_ID', 'HADM_ID', 'CHARTDATE', 'CHARTTIME',\n",
       "       'STORETIME', 'CATEGORY', 'DESCRIPTION', 'CGID', 'ISERROR', 'Document',\n",
       "       'AGE', 'LOS_DAYS', 'IS_ALIVE', 'DOCUMENT_LOWER', 'NUM_NOTES',\n",
       "       'MAX_NOTES_PER_DAY', 'MAX_NOTES_PER_CHARTTIME', 'all_dates_present',\n",
       "       'Sentences', 'Sentences_Raw', 'Sentences_Cleaned', 'Events', 'Sent_ID',\n",
       "       'UID', 'Event_Name', 'Sentence', 'Time', 'Keyword', 'Lemma',\n",
       "       'Keyword_Position', 'Event_Name_Pain', 'Event_Name_Pain_doc',\n",
       "       'Event_Name_Sleep', 'Event_Name_Sleep_doc', 'is_keyword_present',\n",
       "       'Sent_gt_Sleep', 'negation', 'good_example', 'comment'],\n",
       "      dtype='object')"
      ]
     },
     "execution_count": 65,
     "metadata": {},
     "output_type": "execute_result"
    }
   ],
   "source": [
    "gt_df.columns"
   ]
  },
  {
   "cell_type": "code",
   "execution_count": 46,
   "id": "770b30c7",
   "metadata": {},
   "outputs": [
    {
     "data": {
      "text/plain": [
       "('../exports/05_llm_llama3.1:70b_P-SET/Sleep/Sleep_Sentences_att_True.pkl',\n",
       " ['LLM_Events_all_evidence_Sent',\n",
       "  'LLM_Events_keyword_evidence_Sent',\n",
       "  'LLM_Events_example_evidence_Sent',\n",
       "  'LLM_Events_no_evidence_Sent'],\n",
       " Index(['ROW_ID', 'SUBJECT_ID', 'HADM_ID', 'CHARTDATE', 'CHARTTIME',\n",
       "        'STORETIME', 'CATEGORY', 'DESCRIPTION', 'CGID', 'ISERROR', 'Document',\n",
       "        'AGE', 'LOS_DAYS', 'IS_ALIVE', 'DOCUMENT_LOWER', 'NUM_NOTES',\n",
       "        'MAX_NOTES_PER_DAY', 'MAX_NOTES_PER_CHARTTIME', 'all_dates_present',\n",
       "        'Sentences', 'Sentences_Raw', 'Sentences_Cleaned', 'Events', 'Sent_ID',\n",
       "        'UID', 'Event_Name', 'Sentence', 'Time', 'Keyword', 'Lemma',\n",
       "        'Keyword_Position', 'Event_Name_Pain', 'Event_Name_Pain_doc',\n",
       "        'Event_Name_Sleep', 'Event_Name_Sleep_doc', 'is_keyword_present',\n",
       "        'LLM_Events_all_evidence_Sent',\n",
       "        'Event_Name_LLM_Events_all_evidence_Sent',\n",
       "        'Attribute_LLM_Events_all_evidence_Sent',\n",
       "        'Text_Quotes_LLM_Events_all_evidence_Sent',\n",
       "        'LLM_Events_keyword_evidence_Sent',\n",
       "        'Event_Name_LLM_Events_keyword_evidence_Sent',\n",
       "        'Attribute_LLM_Events_keyword_evidence_Sent',\n",
       "        'Text_Quotes_LLM_Events_keyword_evidence_Sent',\n",
       "        'LLM_Events_example_evidence_Sent',\n",
       "        'Event_Name_LLM_Events_example_evidence_Sent',\n",
       "        'Attribute_LLM_Events_example_evidence_Sent',\n",
       "        'Text_Quotes_LLM_Events_example_evidence_Sent',\n",
       "        'LLM_Events_no_evidence_Sent', 'Event_Name_LLM_Events_no_evidence_Sent',\n",
       "        'Attribute_LLM_Events_no_evidence_Sent',\n",
       "        'Text_Quotes_LLM_Events_no_evidence_Sent'],\n",
       "       dtype='object'))"
      ]
     },
     "execution_count": 46,
     "metadata": {},
     "output_type": "execute_result"
    }
   ],
   "source": [
    "df = pd.read_pickle(file)\n",
    "llm_models = [i for i in llm_models_all if i in df]\n",
    "file,llm_models, df.columns"
   ]
  },
  {
   "cell_type": "code",
   "execution_count": 47,
   "id": "00c8991a",
   "metadata": {},
   "outputs": [
    {
     "data": {
      "text/plain": [
       "'../exports/05_llm_llama3.1:70b_P-SET/Sleep/Sleep_Sentences_att_True.pkl'"
      ]
     },
     "execution_count": 47,
     "metadata": {},
     "output_type": "execute_result"
    }
   ],
   "source": [
    "file"
   ]
  },
  {
   "cell_type": "code",
   "execution_count": 18,
   "id": "f5b05b3e",
   "metadata": {},
   "outputs": [
    {
     "name": "stdout",
     "output_type": "stream",
     "text": [
      "LLM_Events_all_evidence_Doc tqvalid\n",
      "True     757\n",
      "False     83\n",
      "Name: count, dtype: int64\n",
      "LLM_Events_keyword_evidence_Doc tqvalid\n",
      "True     802\n",
      "False     98\n",
      "Name: count, dtype: int64\n",
      "LLM_Events_example_evidence_Doc tqvalid\n",
      "True     840\n",
      "False    100\n",
      "Name: count, dtype: int64\n"
     ]
    }
   ],
   "source": [
    "text_type =\"Document\" \n",
    "file = f'../exports/05_llm_llama3.1:70b_P-SET/Sleep/Sleep_{text_type}s_att_True.pkl'\n",
    "llm_df = pd.read_pickle(file)\n",
    "for llm_model in llm_models:\n",
    "    llm_df['tqvalid']=llm_df.apply(lambda x:[i in x[text_type] for i in x[f\"Text_Quotes_{llm_model}\"]], axis=1)\n",
    "    print(llm_model, llm_df['tqvalid'].explode().value_counts())\n",
    "# Text_Quotes_LLM_Events_all_evidence_Sent\n"
   ]
  },
  {
   "cell_type": "code",
   "execution_count": 59,
   "id": "c1a5f862",
   "metadata": {},
   "outputs": [
    {
     "data": {
      "text/plain": [
       "['LLM_Events_all_evidence_Sent',\n",
       " 'LLM_Events_keyword_evidence_Sent',\n",
       " 'LLM_Events_example_evidence_Sent',\n",
       " 'LLM_Events_no_evidence_Sent']"
      ]
     },
     "execution_count": 59,
     "metadata": {},
     "output_type": "execute_result"
    }
   ],
   "source": [
    "llm_models"
   ]
  },
  {
   "cell_type": "code",
   "execution_count": 16,
   "id": "02ea0800",
   "metadata": {},
   "outputs": [
    {
     "data": {
      "text/plain": [
       "'Event_Name_Sleep'"
      ]
     },
     "execution_count": 16,
     "metadata": {},
     "output_type": "execute_result"
    }
   ],
   "source": [
    "col"
   ]
  },
  {
   "cell_type": "code",
   "execution_count": null,
   "id": "6944b9ae",
   "metadata": {},
   "outputs": [
    {
     "data": {
      "text/plain": [
       "{1277038: 0,\n",
       " 1277048: 1,\n",
       " 1277049: 0,\n",
       " 1277050: 0,\n",
       " 1277051: 1,\n",
       " 1277052: 0,\n",
       " 1277053: 0,\n",
       " 1277054: 0,\n",
       " 1277055: 0,\n",
       " 1277056: 0,\n",
       " 1277057: 0,\n",
       " 1277058: 0,\n",
       " 1277059: 0,\n",
       " 1277060: 1,\n",
       " 1277061: 0,\n",
       " 1277062: 0}"
      ]
     },
     "execution_count": 12,
     "metadata": {},
     "output_type": "execute_result"
    }
   ],
   "source": []
  },
  {
   "cell_type": "code",
   "execution_count": 4,
   "id": "a9184bab",
   "metadata": {},
   "outputs": [
    {
     "data": {
      "text/plain": [
       "Index(['ROW_ID', 'SUBJECT_ID', 'HADM_ID', 'CHARTDATE', 'CHARTTIME',\n",
       "       'STORETIME', 'CATEGORY', 'DESCRIPTION', 'CGID', 'ISERROR', 'DOCUMENT',\n",
       "       'AGE', 'LOS_DAYS', 'IS_ALIVE', 'DOCUMENT_LOWER', 'NUM_NOTES',\n",
       "       'MAX_NOTES_PER_DAY', 'MAX_NOTES_PER_CHARTTIME', 'all_dates_present',\n",
       "       'Sentences', 'Sentences_Raw', 'Sentences_Cleaned', 'Events', 'Sent_ID',\n",
       "       'UID', 'Event_Name', 'Sentence', 'Time', 'Keyword', 'Lemma',\n",
       "       'Keyword_Position', 'LLM_Events_all_evidence_sentence',\n",
       "       'Event_Name_LLM_Events_all_evidence_sentence',\n",
       "       'Attribute_LLM_Events_all_evidence_sentence',\n",
       "       'LLM_Events_keyword_evidence_sentence',\n",
       "       'Event_Name_LLM_Events_keyword_evidence_sentence',\n",
       "       'Attribute_LLM_Events_keyword_evidence_sentence',\n",
       "       'LLM_Events_example_evidence_sentence',\n",
       "       'Event_Name_LLM_Events_example_evidence_sentence',\n",
       "       'Attribute_LLM_Events_example_evidence_sentence',\n",
       "       'LLM_Events_no_evidence_sentence',\n",
       "       'Event_Name_LLM_Events_no_evidence_sentence',\n",
       "       'Attribute_LLM_Events_no_evidence_sentence',\n",
       "       'LLM_Events_all_evidence_document',\n",
       "       'Event_Name_LLM_Events_all_evidence_document',\n",
       "       'Attribute_LLM_Events_all_evidence_document',\n",
       "       'LLM_Events_keyword_evidence_document',\n",
       "       'Event_Name_LLM_Events_keyword_evidence_document',\n",
       "       'Attribute_LLM_Events_keyword_evidence_document',\n",
       "       'LLM_Events_example_evidence_document',\n",
       "       'Event_Name_LLM_Events_example_evidence_document',\n",
       "       'Attribute_LLM_Events_example_evidence_document',\n",
       "       'LLM_Events_no_evidence_document',\n",
       "       'Event_Name_LLM_Events_no_evidence_document',\n",
       "       'Attribute_LLM_Events_no_evidence_document', 'Sleep_time',\n",
       "       'focus_event', 'GT_Sleep', 'is_keyword_present', 'dict_Lemma',\n",
       "       'LLM_Events_all_evidence_sentence_Sleep_time',\n",
       "       'LLM_Events_all_evidence_document_Sleep_time',\n",
       "       'LLM_Events_keyword_evidence_sentence_Sleep_time',\n",
       "       'LLM_Events_keyword_evidence_document_Sleep_time',\n",
       "       'LLM_Events_example_evidence_sentence_Sleep_time',\n",
       "       'LLM_Events_example_evidence_document_Sleep_time',\n",
       "       'LLM_Events_no_evidence_sentence_Sleep_time',\n",
       "       'LLM_Events_no_evidence_document_Sleep_time', 'Event_Name_Sleep',\n",
       "       'Event_Name_LLM_Events_all_evidence_sentence_Sleep',\n",
       "       'Event_Name_LLM_Events_all_evidence_document_Sleep',\n",
       "       'Event_Name_LLM_Events_keyword_evidence_sentence_Sleep',\n",
       "       'Event_Name_LLM_Events_keyword_evidence_document_Sleep',\n",
       "       'Event_Name_LLM_Events_example_evidence_sentence_Sleep',\n",
       "       'Event_Name_LLM_Events_example_evidence_document_Sleep',\n",
       "       'Event_Name_LLM_Events_no_evidence_sentence_Sleep',\n",
       "       'Event_Name_LLM_Events_no_evidence_document_Sleep'],\n",
       "      dtype='object')"
      ]
     },
     "execution_count": 4,
     "metadata": {},
     "output_type": "execute_result"
    }
   ],
   "source": [
    "df.columns"
   ]
  },
  {
   "cell_type": "code",
   "execution_count": 5,
   "id": "ec7b2a42",
   "metadata": {},
   "outputs": [
    {
     "ename": "KeyError",
     "evalue": "\"['Event_Name_LLM_Events_keyword_evidence_document_Ao'] not in index\"",
     "output_type": "error",
     "traceback": [
      "\u001b[31m---------------------------------------------------------------------------\u001b[39m",
      "\u001b[31mKeyError\u001b[39m                                  Traceback (most recent call last)",
      "\u001b[36mCell\u001b[39m\u001b[36m \u001b[39m\u001b[32mIn[5]\u001b[39m\u001b[32m, line 1\u001b[39m\n\u001b[32m----> \u001b[39m\u001b[32m1\u001b[39m \u001b[43mdf\u001b[49m\u001b[43m[\u001b[49m\u001b[43m[\u001b[49m\u001b[33;43m\"\u001b[39;49m\u001b[33;43mDOCUMENT\u001b[39;49m\u001b[33;43m\"\u001b[39;49m\u001b[43m,\u001b[49m\u001b[33;43m\"\u001b[39;49m\u001b[33;43mEvent_Name_LLM_Events_keyword_evidence_document_Ao\u001b[39;49m\u001b[33;43m\"\u001b[39;49m\u001b[43m,\u001b[49m\u001b[33;43m\"\u001b[39;49m\u001b[33;43mSentence\u001b[39;49m\u001b[33;43m\"\u001b[39;49m\u001b[43m \u001b[49m\u001b[43m,\u001b[49m\u001b[33;43m\"\u001b[39;49m\u001b[33;43mGT_Sleep\u001b[39;49m\u001b[33;43m\"\u001b[39;49m\u001b[43m]\u001b[49m\u001b[43m]\u001b[49m.to_excel(\u001b[33m\"\u001b[39m\u001b[33m../exports/temp_result.xlsx\u001b[39m\u001b[33m\"\u001b[39m,index=\u001b[38;5;28;01mFalse\u001b[39;00m)\n",
      "\u001b[36mFile \u001b[39m\u001b[32m~/projects/llm_text_to_event/.venv/lib/python3.12/site-packages/pandas/core/frame.py:4113\u001b[39m, in \u001b[36mDataFrame.__getitem__\u001b[39m\u001b[34m(self, key)\u001b[39m\n\u001b[32m   4111\u001b[39m     \u001b[38;5;28;01mif\u001b[39;00m is_iterator(key):\n\u001b[32m   4112\u001b[39m         key = \u001b[38;5;28mlist\u001b[39m(key)\n\u001b[32m-> \u001b[39m\u001b[32m4113\u001b[39m     indexer = \u001b[38;5;28;43mself\u001b[39;49m\u001b[43m.\u001b[49m\u001b[43mcolumns\u001b[49m\u001b[43m.\u001b[49m\u001b[43m_get_indexer_strict\u001b[49m\u001b[43m(\u001b[49m\u001b[43mkey\u001b[49m\u001b[43m,\u001b[49m\u001b[43m \u001b[49m\u001b[33;43m\"\u001b[39;49m\u001b[33;43mcolumns\u001b[39;49m\u001b[33;43m\"\u001b[39;49m\u001b[43m)\u001b[49m[\u001b[32m1\u001b[39m]\n\u001b[32m   4115\u001b[39m \u001b[38;5;66;03m# take() does not accept boolean indexers\u001b[39;00m\n\u001b[32m   4116\u001b[39m \u001b[38;5;28;01mif\u001b[39;00m \u001b[38;5;28mgetattr\u001b[39m(indexer, \u001b[33m\"\u001b[39m\u001b[33mdtype\u001b[39m\u001b[33m\"\u001b[39m, \u001b[38;5;28;01mNone\u001b[39;00m) == \u001b[38;5;28mbool\u001b[39m:\n",
      "\u001b[36mFile \u001b[39m\u001b[32m~/projects/llm_text_to_event/.venv/lib/python3.12/site-packages/pandas/core/indexes/base.py:6212\u001b[39m, in \u001b[36mIndex._get_indexer_strict\u001b[39m\u001b[34m(self, key, axis_name)\u001b[39m\n\u001b[32m   6209\u001b[39m \u001b[38;5;28;01melse\u001b[39;00m:\n\u001b[32m   6210\u001b[39m     keyarr, indexer, new_indexer = \u001b[38;5;28mself\u001b[39m._reindex_non_unique(keyarr)\n\u001b[32m-> \u001b[39m\u001b[32m6212\u001b[39m \u001b[38;5;28;43mself\u001b[39;49m\u001b[43m.\u001b[49m\u001b[43m_raise_if_missing\u001b[49m\u001b[43m(\u001b[49m\u001b[43mkeyarr\u001b[49m\u001b[43m,\u001b[49m\u001b[43m \u001b[49m\u001b[43mindexer\u001b[49m\u001b[43m,\u001b[49m\u001b[43m \u001b[49m\u001b[43maxis_name\u001b[49m\u001b[43m)\u001b[49m\n\u001b[32m   6214\u001b[39m keyarr = \u001b[38;5;28mself\u001b[39m.take(indexer)\n\u001b[32m   6215\u001b[39m \u001b[38;5;28;01mif\u001b[39;00m \u001b[38;5;28misinstance\u001b[39m(key, Index):\n\u001b[32m   6216\u001b[39m     \u001b[38;5;66;03m# GH 42790 - Preserve name from an Index\u001b[39;00m\n",
      "\u001b[36mFile \u001b[39m\u001b[32m~/projects/llm_text_to_event/.venv/lib/python3.12/site-packages/pandas/core/indexes/base.py:6264\u001b[39m, in \u001b[36mIndex._raise_if_missing\u001b[39m\u001b[34m(self, key, indexer, axis_name)\u001b[39m\n\u001b[32m   6261\u001b[39m     \u001b[38;5;28;01mraise\u001b[39;00m \u001b[38;5;167;01mKeyError\u001b[39;00m(\u001b[33mf\u001b[39m\u001b[33m\"\u001b[39m\u001b[33mNone of [\u001b[39m\u001b[38;5;132;01m{\u001b[39;00mkey\u001b[38;5;132;01m}\u001b[39;00m\u001b[33m] are in the [\u001b[39m\u001b[38;5;132;01m{\u001b[39;00maxis_name\u001b[38;5;132;01m}\u001b[39;00m\u001b[33m]\u001b[39m\u001b[33m\"\u001b[39m)\n\u001b[32m   6263\u001b[39m not_found = \u001b[38;5;28mlist\u001b[39m(ensure_index(key)[missing_mask.nonzero()[\u001b[32m0\u001b[39m]].unique())\n\u001b[32m-> \u001b[39m\u001b[32m6264\u001b[39m \u001b[38;5;28;01mraise\u001b[39;00m \u001b[38;5;167;01mKeyError\u001b[39;00m(\u001b[33mf\u001b[39m\u001b[33m\"\u001b[39m\u001b[38;5;132;01m{\u001b[39;00mnot_found\u001b[38;5;132;01m}\u001b[39;00m\u001b[33m not in index\u001b[39m\u001b[33m\"\u001b[39m)\n",
      "\u001b[31mKeyError\u001b[39m: \"['Event_Name_LLM_Events_keyword_evidence_document_Ao'] not in index\""
     ]
    }
   ],
   "source": [
    "df[[\"DOCUMENT\",\"Event_Name_LLM_Events_keyword_evidence_document_Ao\",\"Sentence\" ,\"GT_Sleep\"]].to_excel(\"../exports/temp_result.xlsx\",index=False)"
   ]
  },
  {
   "cell_type": "code",
   "execution_count": null,
   "id": "38140d36",
   "metadata": {},
   "outputs": [
    {
     "data": {
      "text/plain": [
       "(False,\n",
       " ['LLM_Events_all_evidence_sentence',\n",
       "  'LLM_Events_all_evidence_document',\n",
       "  'LLM_Events_keyword_evidence_sentence',\n",
       "  'LLM_Events_keyword_evidence_document',\n",
       "  'LLM_Events_example_evidence_sentence',\n",
       "  'LLM_Events_example_evidence_document',\n",
       "  'LLM_Events_no_evidence_sentence',\n",
       "  'LLM_Events_no_evidence_document'])"
      ]
     },
     "execution_count": 4,
     "metadata": {},
     "output_type": "execute_result"
    }
   ],
   "source": [
    "'dictionary_Sleep_time' in df.columns, llm_models"
   ]
  },
  {
   "cell_type": "code",
   "execution_count": null,
   "id": "bf3aff31",
   "metadata": {},
   "outputs": [
    {
     "data": {
      "text/plain": [
       "GT_Sleep\n",
       "0    297\n",
       "1      3\n",
       "Name: count, dtype: int64"
      ]
     },
     "execution_count": 5,
     "metadata": {},
     "output_type": "execute_result"
    }
   ],
   "source": [
    "y_gt.value_counts()"
   ]
  },
  {
   "cell_type": "code",
   "execution_count": null,
   "id": "f33c948e",
   "metadata": {},
   "outputs": [],
   "source": [
    "\n"
   ]
  },
  {
   "cell_type": "markdown",
   "id": "b7ac5c04",
   "metadata": {},
   "source": []
  },
  {
   "cell_type": "code",
   "execution_count": null,
   "id": "5d947a28",
   "metadata": {},
   "outputs": [],
   "source": [
    "gt_df.Keyword.value_counts()"
   ]
  },
  {
   "cell_type": "code",
   "execution_count": null,
   "id": "c86164cf",
   "metadata": {},
   "outputs": [],
   "source": [
    "df_dictionary = pd.read_pickle(f\"../exports/03_selected_reports_with_event_log_only_dictionary_v2/combined.pkl\")"
   ]
  },
  {
   "cell_type": "code",
   "execution_count": null,
   "id": "caa2e514",
   "metadata": {},
   "outputs": [],
   "source": [
    "df_dictionary['Events'].iloc[0]"
   ]
  },
  {
   "cell_type": "code",
   "execution_count": null,
   "id": "5d1421ff",
   "metadata": {},
   "outputs": [
    {
     "name": "stdout",
     "output_type": "stream",
     "text": [
      "4783 4435 210 10 Event_Name\n",
      "[Unknown]                                  4311\n",
      "[Sleep]                                     114\n",
      "[Pain]                                      112\n",
      "[Family]                                    101\n",
      "[Excretion]                                  66\n",
      "[Eating]                                     21\n",
      "[Sleep, Sleep]                               16\n",
      "[Pain, Pain]                                 16\n",
      "[Pain, Sleep]                                 7\n",
      "[Family, Sleep]                               4\n",
      "[Eating, Eating]                              3\n",
      "[Family, Pain]                                2\n",
      "[Family, Family]                              2\n",
      "[Family, Family, Family, Family]              1\n",
      "[Family, Pain, Sleep, Sleep]                  1\n",
      "[Sleep, Sleep, Sleep]                         1\n",
      "[Eating, Family, Sleep]                       1\n",
      "[Excretion, Excretion]                        1\n",
      "[Family, Family, Family, Family, Sleep]       1\n",
      "[Family, Family, Family]                      1\n",
      "[Pain, Pain, Pain]                            1\n",
      "Name: count, dtype: int64\n",
      "Event_Name\n",
      "Unknown      4311\n",
      "Sleep         164\n",
      "Pain          157\n",
      "Family        124\n",
      "Excretion      68\n",
      "Eating         28\n",
      "Name: count, dtype: int64 Lemma\n",
      "sleep       93\n",
      "sleeping    42\n",
      "asleep      16\n",
      "nap         13\n",
      "Name: count, dtype: int64\n"
     ]
    }
   ],
   "source": [
    "import pandas as pd\n",
    "from glob import glob\n",
    "ET = \"Sleep\"\n",
    "df = pd.read_pickle(glob(f\"../exports/04_groundtruth/P-SET/Generated/{ET}*.pkl\")[0])\n",
    "print(df.UID.nunique(), df.Sentence.nunique(), df.ROW_ID.nunique(), df.SUBJECT_ID.nunique(), df.Event_Name.value_counts())\n",
    "\n",
    "df_exploded = df.explode(['Keyword','Lemma','Event_Name','Keyword_Position'])\n",
    "df_exploded['KUID'] = df_exploded['UID'] + \"_\" + df_exploded['Keyword_Position'].astype(str)\n",
    "print(df_exploded.Event_Name.value_counts(),df_exploded[df_exploded.Event_Name==ET]['Lemma'].value_counts())\n",
    "\n",
    "# df[['SUBJECT_ID', 'LOS_DAYS', 'AGE']].drop_duplicates().mean()\n",
    "\n",
    "\n"
   ]
  },
  {
   "cell_type": "code",
   "execution_count": null,
   "id": "aad65b33",
   "metadata": {},
   "outputs": [],
   "source": [
    "df_exploded[df_exploded.Event_Name==\"Sleep\"].to_excel(\"../exports/temp_sleep_keywords.xlsx\")"
   ]
  },
  {
   "cell_type": "code",
   "execution_count": null,
   "id": "5b2bec2c",
   "metadata": {},
   "outputs": [],
   "source": [
    "top10_patients = df_exploded[df_exploded.Event_Name==\"Sleep\"].SUBJECT_ID.unique().tolist()"
   ]
  },
  {
   "cell_type": "code",
   "execution_count": null,
   "id": "7c4bfcb3",
   "metadata": {},
   "outputs": [],
   "source": [
    "df[df.SUBJECT_ID.isin(top10_patients)].to_excel(\"../exports/temp_top10_patients_all_events.xlsx\")"
   ]
  }
 ],
 "metadata": {
  "kernelspec": {
   "display_name": ".venv (3.12.3)",
   "language": "python",
   "name": "python3"
  },
  "language_info": {
   "codemirror_mode": {
    "name": "ipython",
    "version": 3
   },
   "file_extension": ".py",
   "mimetype": "text/x-python",
   "name": "python",
   "nbconvert_exporter": "python",
   "pygments_lexer": "ipython3",
   "version": "3.12.3"
  }
 },
 "nbformat": 4,
 "nbformat_minor": 5
}
