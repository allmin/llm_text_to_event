{
 "cells": [
  {
   "cell_type": "code",
   "execution_count": 4,
   "id": "cfb5c29f",
   "metadata": {},
   "outputs": [
    {
     "name": "stdout",
     "output_type": "stream",
     "text": [
      "[[1, 2, 3], [5, 6, 7, 8, 9, 10]]\n"
     ]
    },
    {
     "data": {
      "text/plain": [
       "[5, 6, 7, 8, 9, 10]"
      ]
     },
     "execution_count": 4,
     "metadata": {},
     "output_type": "execute_result"
    }
   ],
   "source": [
    "def get_last_continuous_sequence(numbers):\n",
    "    if not numbers:\n",
    "        return []\n",
    "\n",
    "    sequences = []\n",
    "    current_seq = [numbers[0]]\n",
    "\n",
    "    for i in range(1, len(numbers)):\n",
    "        if numbers[i] == numbers[i - 1] + 1:\n",
    "            current_seq.append(numbers[i])\n",
    "        else:\n",
    "            sequences.append(current_seq)\n",
    "            current_seq = [numbers[i]]\n",
    "\n",
    "    sequences.append(current_seq)  # append the last sequence\n",
    "    print(sequences)\n",
    "\n",
    "    return sequences[-1]\n",
    "\n",
    "get_last_continuous_sequence([1, 2, 3, 5, 6, 7, 8, 9, 10])"
   ]
  },
  {
   "cell_type": "code",
   "execution_count": null,
   "id": "af805029",
   "metadata": {},
   "outputs": [],
   "source": [
    "{'text': '84 yr old c dissecting aortic aneurysm .\\n\\nsr c blocked beats .bp labile ranging 160 to 77 systolic.labetolol drip for short time .to have mri this pm. k, mg repleted .milrinone continues on .375.amniodarone dc iv .patient feels nauseous when bp under 110\\n\\nbs diminished ,7.38/32/115/20 on 6lnp\\n\\ntaking cl liquids,pos bs ,no stool\\n\\nhuo 10 to 20,creat\\n\\npatient restless.co low back pain some releif c tylenol and sitting on side of bed .\\n\\nlabile bp unexplained ,need mri to check aneurysm\\n\\nfollow hct,lytes\\naim bp 110 to 120\\nmri this pm\\n\\naim bp 110 to 120 sys\\n\\n', 'event': ['Pain', 'Excretion', 'Eating', 'Pain'], 'event_id': ['e1', 'e2', 'e3', 'e4'], 'phrase': '', 'raw_output': '{\\n  \"events\": [\\n    {\\n      \"event_id\": \"e1\",\\n      \"event_type\": \"Pain\",\\n      \"text_quote\": \"co low back pain some releif c tylenol and sitting on side of bed\",\\n      \"attributes\": {\\n        \"severity\": \"Unknown\",\\n        \"location\": \"low back\",\\n        \"duration\": \"Unknown\",\\n        \"time\": \"Unknown\",\\n        \"caused_by\": \"Unknown\"\\n      }\\n    },\\n    {\\n      \"event_id\": \"e2\",\\n      \"event_type\": \"Excretion\",\\n      \"text_quote\": \"taking cl liquids,pos bs ,no stool\",\\n      \"attributes\": {\\n        \"type\": \"stool\",\\n        \"quality\": \"none\",\\n        \"frequency\": \"Unknown\",\\n        \"negation\": \"false\",\\n        \"time\": \"Unknown\",\\n        \"caused_by\": \"Unknown\"\\n      }\\n    },\\n    {\\n      \"event_id\": \"e3\",\\n      \"event_type\": \"Eating\",\\n      \"text_quote\": \"taking cl liquids,pos bs ,no stool\",\\n      \"attributes\": {\\n        \"food\": \"liquids\",\\n        \"amount\": \"Unknown\",\\n        \"method\": \"Unknown\",\\n        \"negation\": \"false\",\\n        \"time\": \"Unknown\",\\n        \"caused_by\": \"Unknown\"\\n      }\\n    },\\n    {\\n      \"event_id\": \"e4\",\\n      \"event_type\": \"Pain\",\\n      \"text_quote\": \"patient feels nauseous when bp under 110\",\\n      \"attributes\": {\\n        \"severity\": \"Unknown\",\\n        \"location\": \"Unknown\",\\n        \"duration\": \"Unknown\",\\n        \"time\": \"when bp under 110\",\\n        \"caused_by\": \"low blood pressure\"\\n      }\\n    }\\n  ],\\n  \"order\": []\\n}', 'attributes': [{'Pain': {'severity': 'Unknown', 'location': 'low back', 'duration': 'Unknown', 'time': 'Unknown', 'caused_by': 'Unknown'}}, {'Excretion': {'type': 'stool', 'quality': 'none', 'frequency': 'Unknown', 'negation': 'false', 'time': 'Unknown', 'caused_by': 'Unknown'}}, {'Eating': {'food': 'liquids', 'amount': 'Unknown', 'method': 'Unknown', 'negation': 'false', 'time': 'Unknown', 'caused_by': 'Unknown'}}, {'Pain': {'severity': 'Unknown', 'location': 'Unknown', 'duration': 'Unknown', 'time': 'when bp under 110', 'caused_by': 'low blood pressure'}}], 'orders': [[]], 'text_quotes': ['co low back pain some releif c tylenol and sitting on side of bed', 'taking cl liquids,pos bs ,no stool', 'taking cl liquids,pos bs ,no stool', 'patient feels nauseous when bp under 110'], 'event_time': ['Unknown', 'Unknown', 'Unknown', 'Unknown'], 'negation': ['Unknown', 'Unknown', 'Unknown', 'Unknown'], 'caused_by': ['Unknown', 'Unknown', 'Unknown', 'Unknown'], 'event_name_prompt': 'Given the text: 84 yr old c dissecting aortic aneurysm .\\n\\nsr c blocked beats .bp labile ranging 160 to 77 systolic.labetolol drip for short time .to have mri this pm. k, mg repleted .milrinone continues on .375.amniodarone dc iv .patient feels nauseous when bp under 110\\n\\nbs diminished ,7.38/32/115/20 on 6lnp\\n\\ntaking cl liquids,pos bs ,no stool\\n\\nhuo 10 to 20,creat\\n\\npatient restless.co low back pain some releif c tylenol and sitting on side of bed .\\n\\nlabile bp unexplained ,need mri to check aneurysm\\n\\nfollow hct,lytes\\naim bp 110 to 120\\nmri this pm\\n\\naim bp 110 to 120 sys\\n\\n, \\n                                and the following event types with their definitions: Eating : The patient takes food into their body by mouth. Identifed Always\\nExcretion : The patient discharges waste matter from their body. Identifed Always\\nFamily : The patient has a visit, call, or communication with a family member.\\nPain : The patient reports or shows signs of pain. Identifed Always\\nSleep : The patient sleeps or the sleep’s quality or quantity is described. Identifed Always.\\nUnknown : choose \"Unknown\" if none of the other event type are applicable. \\n                                ---\\n                                Your task:\\n                                0. Identify ALL events in the text (zero, one, or more).\\n1. For each event, assign an event_type from the list above.\\n2. If multiple event of same type is mentioned, assign the event_type multiple times\\n3. Extract attributes for each event using ONLY the allowed attributes listed below.\\n4. Use keyword evidence (Ki) ONLY if it is consistent with the text context.\\n5. Output strictly valid JSON following the schema below.\\n                                ---\\n                                Classification Rules:\\n                                - A text may contain multiple events, either of the same type or of different types.\\n- Create a separate event object for each event mention.\\n- Do not extract events that are explicitly NEGATED (e.g., \"denies pain\", \"couldn\\'t sleep\") unless the event is marked as \"Identifed Always\".\\n- If a NEGATED event is marked as Identified Always, extract it and set the negation attribute to true.\\n- Ignore events that refer to FUTURE or HYPOTHETICAL scenarios (e.g., \"will eat tomorrow\").\\n- A valid event must have occurred in the recent past or be occurring at the time of writing.\\n- If no events are found, or if uncertain, return: {\"events\": []}\\n                                None\\n                                ---\\n        Keyword evidence (Ki):\\n        Additional facts: A keyword matching algorithm without context detected keyword(s) (\\'pain\\',).\\n        Use this only as a pointer. If context contradicts, ignore.\\n                                ---\\n                                Output Schema (strict):\\n                                {\\n                                \"events\": [\\n                                    {\\n                                    \"event_id\": \"&lt; A unique id eg.: e1 | e2 |...&gt;\"\\n                                    \"event_type\": \"&lt;Pain | Sleep | Excretion | Eating | Family | Unknown&gt;\",\\n                                    \"text_quote\": \"&lt;fragement from the text indicating the event_type&gt;\",\\n                        \"attributes\": {\\n                            \"&lt;attribute_name&gt;\": \"&lt;attribute_value&gt;\"\\n                        }\\n                                    }\\n                                ],\\n                                \"order\": [\\n                                    [\"e1\", \"before\" | \"after\" | \"simultaneous\", \"e2\" ]\\n                                ]\\n                                }\\n                                \\n                    Rules:\\n                        - Ensure the output is valid JSON (parseable).\\n                        - \"eventS\" must always be an array (can be empty).\\n                        - Multiple instances of the same event type appear with different ids.\\n                        - Events appear in the array in the same order in which they appear in the text.\\n                        - Their partial orders can be expressed using the \"order\" section.\\n                        - Do not include extra keys, comments, or text.\\n                        - Each object in \"events\" must contain \"event_type\", \"text_quote\", and \"attributes\".\\n                        - If an event attribute type has no value mentioned, return \"attributes\": {\"&lt; attribute name &gt;:Unknown\"} for each attribute type defined for the event type \\n                \\n                                \\n                ---\\n                Examples:\\n                \\n                text: \"Patient ate breakfast this morning. He seems less anxious.\"\\n                output: {\\n                \"events\": [\\n                    {\"event_id\": \"e1\",\\n                    \"event_type\": \"Eating\",\\n                    \"text_quote\":\"Patient ate breakfast this morning\",\\n                    \"attributes\": {\"food\": \"breakfast\", \\n                                   \"amount\": \"Unknown\",\\n                                   \"method\": \"Unknown\",\\n                                   \"negation\": \"false\",\\n                                   \"time\":\"morning\",\\n                                   \"caused_by\":\"Unknown\"}\\n                    }\\n                ],\\n                \"order\":[]\\n                }\\n                \\n                text: \"Patient reported severe abdominal pain.\"\\n                output: {\\n                \"events\": [\\n                    {\"event_id\": \"e1\",\\n                    \"event_type\": \"Pain\",\\n                    \"text_quote\": \"severe abdominal Pain\",\\n                    \"attributes\": {\"severity\": \"severe\", \\n                                   \"location\": \"abdominal\",\\n                                   \"duration\": \"Unknown\",\\n                                   \"negation\": \"false\",\\n                                   \"time\":\"Unknown\",\\n                                   \"caused_by\":\"Unknown\"}\\n                    }\\n                ],\\n                \"order\":[]\\n                }\\n                \\n                text: \"Patient called his son around 3 pm.\"\\n                output: {\\n                \"events\": [\\n                    {\"event_id\": \"e1\",\\n                    \"event_type\": \"Family\",\\n                    \"text_quote\": \"called his son around 3 pm\",\\n                    \"attributes\": {\"interaction\": \"call\", \\n                                    \"relation\": \"son\",\\n                                    \"negation\": \"false\",\\n                                    \"time\":\"3 pm\",\\n                                    \"caused_by\":\"Unknown\"}\\n                    }\\n                ],\\n                \"order\":[]\\n                }\\n                \\n                text: \"Patient had a loose stool overnight.\"\\n                output: {\\n                \"events\": [\\n                    {\"event_id\": \"e1\",\\n                    \"event_type\": \"Excretion\",\\n                    \"text_quote\": \"loose stool overnight\",\\n                    \"attributes\": {\"type\": \"stool\", \\n                                   \"quality\": \"loose\", \\n                                   \"frequency\":\"overnight\", \\n                                   \"negation\": \"false\",\\n                                   \"time\":\"night\",\\n                                   \"caused_by\":\"Unknown\"}\\n                    }\\n                ],\\n                \"order\":[]\\n                }\\n                \\n                text: \"Patient was able to sleep well last night.\"\\n                output: {\\n                \"events\": [\\n                    {\"event_id\": \"e1\",\\n                    \"event_type\": \"Sleep\",\\n                    \"text_quote\": \"sleep well last night\",\\n                    \"attributes\": {\"quality\": \"well\",\\n                                    \"duration\": \"Unknown\", \\n                                    \"negation\": \"false\",\\n                                    \"time\":\"night\",\\n                                    \"caused_by\":\"Unknown\"}\\n                    }\\n                ],\\n                \"order\":[]\\n                }\\n                \\n                text: \"The patient couldn\\'t sleep due to severe pain.\"\\n                output: {\\n                \"events\": [\\n                    {\"event_id\": \"e1\",\\n                    \"event_type\": \"Sleep\",\\n                    \"text_quote\": \"couldn\\'t sleep\",\\n                    \"attributes\": {\"quality\": \"poor\", \\n                                    \"duration\": \"Unknown\",\\n                                    \"negation\": \"true\",\\n                                    \"time\":\"Unknown\",\\n                                    \"caused_by\":\"Pain\"}\\n                    },\\n                    {\"event_id\": \"e2\",\\n                    \"event_type\": \"Pain\",\\n                    \"text_quote\": \"severe pain\",\\n                    \"attributes\": {\"severity\": \"severe\", \\n                                    \"location\": \"Unknown\", \\n                                    \"duration\": \"Unknown\", \\n                                    \"time\":\"Unknown\",\\n                                    \"caused_by\":\"Unknown\"}\\n                    }\\n                ],\\n                \"order\":[\"e1\", \"after\", \"e2\"]\\n                }\\n                \\n                text: \"The patient complained of severe back pain, was given Tylenol, but the pain persisted and he was then prescribed stronger morphine.\"\\n                output: {\\n                \"events\": [\\n                    {\"event_id\": \"e1\",\\n                    \"event_type\": \"Pain\",\\n                    \"text_quote\": \"complained of severe back pain\",\\n                    \"attributes\": {\"severity\": \"severe\", \\n                                    \"location\": \"back\",\\n                                    \"duration\": \"Unknown\", \\n                                    \"time\":\"Unknown\",\\n                                    \"caused_by\":\"Unknown\"}\\n                    },\\n                    {\"event_id\": \"e2\",\\n                    \"event_type\": \"Pain\",\\n                    \"text_quote\": \"pain persisted\",\\n                    \"attributes\": {\"severity\": \"severe\", \\n                                   \"location\": \"back\",\\n                                   \"duration\": \"persistent\", \\n                                   \"time\":\"after Tylenol\",\\n                                   \"caused_by\":\"Unknown\"}\\n                    }\\n                ],\\n                \"order\":[[\"e1\", \"before\", \"e2\"]]\\n                }\\n                \\n                                ', 'event_detection_time': 367.50314643606544}"
   ]
  },
  {
   "cell_type": "code",
   "execution_count": null,
   "id": "36785ae9",
   "metadata": {},
   "outputs": [],
   "source": []
  },
  {
   "cell_type": "code",
   "execution_count": null,
   "id": "990357d9",
   "metadata": {},
   "outputs": [],
   "source": []
  },
  {
   "cell_type": "code",
   "execution_count": null,
   "id": "6258a5b1",
   "metadata": {},
   "outputs": [
    {
     "name": "stdout",
     "output_type": "stream",
     "text": [
      "- A text may contain multiple events, either of the same type or of different types.\n",
      "- Create a separate event object for each event mention.\n",
      "- Do not extract events that are explicitly negated (e.g., \"denies pain\", \"couldn't sleep\") unless the event is marked as \"Identifed Always\".\n",
      "- If a negated event is marked as Identified Always, extract it and set the negation attribute to true.\n",
      "- Ignore events that refer to future or hypothetical scenarios (e.g., \"will eat tomorrow\").\n",
      "- A valid event must have occurred in the recent past or be occurring at the time of writing.\n",
      "- If no events are found, or if uncertain, return: {\"events\": []}\n"
     ]
    }
   ],
   "source": [
    "def get_classification_results():\n",
    "    classification_rules = []\n",
    "    classification_rules.append(\"- A text may contain multiple events, either of the same type or of different types.\")\n",
    "    classification_rules.append(\"- Create a separate event object for each event mention.\")\n",
    "    classification_rules.append(\"- Do not extract events that are explicitly negated (e.g., \\\"denies pain\\\", \\\"couldn\\'t sleep\\\") unless the event is marked as \\\"Identifed Always\\\".\")\n",
    "    if True:\n",
    "        classification_rules.append(\"- If a negated event is marked as Identified Always, extract it and set the negation attribute to true.\")\n",
    "    classification_rules.append(\"- Ignore events that refer to future or hypothetical scenarios (e.g., \\\"will eat tomorrow\\\").\")\n",
    "    classification_rules.append(\"- A valid event must have occurred in the recent past or be occurring at the time of writing.\")\n",
    "    classification_rules.append(\"- If no events are found, or if uncertain, return: {\\\"events\\\": []}\")\n",
    "    classification_rules = \"\\n\".join(classification_rules)\n",
    "    return classification_rules\n",
    "\n",
    "print(get_classification_results())"
   ]
  },
  {
   "cell_type": "code",
   "execution_count": 41,
   "id": "a357e551",
   "metadata": {},
   "outputs": [
    {
     "data": {
      "text/plain": [
       "(202,\n",
       "       ROW_ID                                 Event_Name  \\\n",
       " 0    1310477                    [Family, Pain, Unknown]   \n",
       " 1    1310478                    [Family, Pain, Unknown]   \n",
       " 2    1310479             [Sleep, Family, Pain, Unknown]   \n",
       " 3    1310480                     [Sleep, Unknown, Pain]   \n",
       " 4    1310481                            [Unknown, Pain]   \n",
       " ..       ...                                        ...   \n",
       " 197  1671536                [Sleep, Unknown, Excretion]   \n",
       " 198  1671537                [Sleep, Unknown, Excretion]   \n",
       " 199  1671538  [Sleep, Unknown, Family, Pain, Excretion]   \n",
       " 200  1671539                    [Family, Unknown, Pain]   \n",
       " 201  1671540                            [Pain, Unknown]   \n",
       " \n",
       "                                                Keyword  \\\n",
       " 0                                          [pain, son]   \n",
       " 1                             [daughter, family, pain]   \n",
       " 2    [daughter, sleeping, son, distress, pain, asleep]   \n",
       " 3                                     [sleeping, pain]   \n",
       " 4                                               [pain]   \n",
       " ..                                                 ...   \n",
       " 197                                  [urine, sleeping]   \n",
       " 198                                     [urine, sleep]   \n",
       " 199                       [slept, family, pain, urine]   \n",
       " 200                                    [brother, pain]   \n",
       " 201                                             [pain]   \n",
       " \n",
       "                                               Document  \n",
       " 0    ccu nursing admit note 0615\\ns:  i stopped tak...  \n",
       " 1    ccu npn: please see flowsheet for objective da...  \n",
       " 2    ccu nsg progress note 7p-7a/ aortic dissection...  \n",
       " 3    patient denies pain,nausea.sleeping all day bu...  \n",
       " 4    7 pm  bp to 80,ci > 2 on less milrinone,wedge ...  \n",
       " ..                                                 ...  \n",
       " 197  7pm-7am update\\nneuro: patient alert and oriea...  \n",
       " 198  nursing progress note\\nneuro:  aao x3.  oob wi...  \n",
       " 199  neuro: patient a& ox3, mae, follows commands, ...  \n",
       " 200  neuro: alert and oriented x 3, mae, following ...  \n",
       " 201  patient. alert and pleasant. asking questions ...  \n",
       " \n",
       " [202 rows x 4 columns])"
      ]
     },
     "execution_count": 41,
     "metadata": {},
     "output_type": "execute_result"
    }
   ],
   "source": [
    "import pandas as pd\n",
    "def combine_lists(x):\n",
    "    combined = []\n",
    "    for item in x:\n",
    "        if item:\n",
    "            if isinstance(item, (list, tuple)):\n",
    "                combined.extend(item)\n",
    "            else:\n",
    "                combined.append(item)\n",
    "    combined = [i for i in combined if i]\n",
    "    res = set(combined)\n",
    "    return list(res)\n",
    "df = pd.read_pickle(\"/home/asusaiyah/tactics_storage/projects/llm_text_to_event/exports/04_groundtruth/P-SET/Generated/Sleep_Documents.pkl\")\n",
    "rdf = df.groupby('ROW_ID')[[\"Event_Name\",\"Keyword\",\"Document\"]].agg(lambda x:combine_lists(x)).reset_index()\n",
    "rdf['Document'] = [' '.join(i) for i in rdf['Document']]\n",
    "len(rdf), rdf"
   ]
  },
  {
   "cell_type": "code",
   "execution_count": 39,
   "id": "37224c03",
   "metadata": {},
   "outputs": [
    {
     "data": {
      "text/html": [
       "<div>\n",
       "<style scoped>\n",
       "    .dataframe tbody tr th:only-of-type {\n",
       "        vertical-align: middle;\n",
       "    }\n",
       "\n",
       "    .dataframe tbody tr th {\n",
       "        vertical-align: top;\n",
       "    }\n",
       "\n",
       "    .dataframe thead th {\n",
       "        text-align: right;\n",
       "    }\n",
       "</style>\n",
       "<table border=\"1\" class=\"dataframe\">\n",
       "  <thead>\n",
       "    <tr style=\"text-align: right;\">\n",
       "      <th></th>\n",
       "      <th>UID</th>\n",
       "      <th>Event_Name</th>\n",
       "      <th>Keyword</th>\n",
       "      <th>Document</th>\n",
       "    </tr>\n",
       "  </thead>\n",
       "  <tbody>\n",
       "    <tr>\n",
       "      <th>0</th>\n",
       "      <td>14995_1457369_0000</td>\n",
       "      <td>[Unknown]</td>\n",
       "      <td>[]</td>\n",
       "      <td>[ccu nsg note: alt in cv/cardiomyopathy\\nsee a...</td>\n",
       "    </tr>\n",
       "    <tr>\n",
       "      <th>1</th>\n",
       "      <td>14995_1457369_0001</td>\n",
       "      <td>[Unknown]</td>\n",
       "      <td>[]</td>\n",
       "      <td>[ccu nsg note: alt in cv/cardiomyopathy\\nsee a...</td>\n",
       "    </tr>\n",
       "    <tr>\n",
       "      <th>2</th>\n",
       "      <td>14995_1457369_0002</td>\n",
       "      <td>[Unknown]</td>\n",
       "      <td>[]</td>\n",
       "      <td>[ccu nsg note: alt in cv/cardiomyopathy\\nsee a...</td>\n",
       "    </tr>\n",
       "    <tr>\n",
       "      <th>3</th>\n",
       "      <td>14995_1457369_0003</td>\n",
       "      <td>[Unknown]</td>\n",
       "      <td>[]</td>\n",
       "      <td>[ccu nsg note: alt in cv/cardiomyopathy\\nsee a...</td>\n",
       "    </tr>\n",
       "    <tr>\n",
       "      <th>4</th>\n",
       "      <td>14995_1457369_0004</td>\n",
       "      <td>[Unknown]</td>\n",
       "      <td>[]</td>\n",
       "      <td>[ccu nsg note: alt in cv/cardiomyopathy\\nsee a...</td>\n",
       "    </tr>\n",
       "    <tr>\n",
       "      <th>...</th>\n",
       "      <td>...</td>\n",
       "      <td>...</td>\n",
       "      <td>...</td>\n",
       "      <td>...</td>\n",
       "    </tr>\n",
       "    <tr>\n",
       "      <th>4754</th>\n",
       "      <td>7042_1356124_0013</td>\n",
       "      <td>[Unknown]</td>\n",
       "      <td>[]</td>\n",
       "      <td>[nursing progress notes\\n  please see carevue ...</td>\n",
       "    </tr>\n",
       "    <tr>\n",
       "      <th>4755</th>\n",
       "      <td>7042_1356124_0014</td>\n",
       "      <td>[Unknown]</td>\n",
       "      <td>[]</td>\n",
       "      <td>[nursing progress notes\\n  please see carevue ...</td>\n",
       "    </tr>\n",
       "    <tr>\n",
       "      <th>4756</th>\n",
       "      <td>7042_1356124_0015</td>\n",
       "      <td>[Unknown]</td>\n",
       "      <td>[]</td>\n",
       "      <td>[nursing progress notes\\n  please see carevue ...</td>\n",
       "    </tr>\n",
       "    <tr>\n",
       "      <th>4757</th>\n",
       "      <td>7042_1356124_0016</td>\n",
       "      <td>[Unknown]</td>\n",
       "      <td>[]</td>\n",
       "      <td>[nursing progress notes\\n  please see carevue ...</td>\n",
       "    </tr>\n",
       "    <tr>\n",
       "      <th>4758</th>\n",
       "      <td>7042_1356124_0017</td>\n",
       "      <td>[Unknown]</td>\n",
       "      <td>[]</td>\n",
       "      <td>[nursing progress notes\\n  please see carevue ...</td>\n",
       "    </tr>\n",
       "  </tbody>\n",
       "</table>\n",
       "<p>4759 rows × 4 columns</p>\n",
       "</div>"
      ],
      "text/plain": [
       "                     UID Event_Name Keyword  \\\n",
       "0     14995_1457369_0000  [Unknown]      []   \n",
       "1     14995_1457369_0001  [Unknown]      []   \n",
       "2     14995_1457369_0002  [Unknown]      []   \n",
       "3     14995_1457369_0003  [Unknown]      []   \n",
       "4     14995_1457369_0004  [Unknown]      []   \n",
       "...                  ...        ...     ...   \n",
       "4754   7042_1356124_0013  [Unknown]      []   \n",
       "4755   7042_1356124_0014  [Unknown]      []   \n",
       "4756   7042_1356124_0015  [Unknown]      []   \n",
       "4757   7042_1356124_0016  [Unknown]      []   \n",
       "4758   7042_1356124_0017  [Unknown]      []   \n",
       "\n",
       "                                               Document  \n",
       "0     [ccu nsg note: alt in cv/cardiomyopathy\\nsee a...  \n",
       "1     [ccu nsg note: alt in cv/cardiomyopathy\\nsee a...  \n",
       "2     [ccu nsg note: alt in cv/cardiomyopathy\\nsee a...  \n",
       "3     [ccu nsg note: alt in cv/cardiomyopathy\\nsee a...  \n",
       "4     [ccu nsg note: alt in cv/cardiomyopathy\\nsee a...  \n",
       "...                                                 ...  \n",
       "4754  [nursing progress notes\\n  please see carevue ...  \n",
       "4755  [nursing progress notes\\n  please see carevue ...  \n",
       "4756  [nursing progress notes\\n  please see carevue ...  \n",
       "4757  [nursing progress notes\\n  please see carevue ...  \n",
       "4758  [nursing progress notes\\n  please see carevue ...  \n",
       "\n",
       "[4759 rows x 4 columns]"
      ]
     },
     "execution_count": 39,
     "metadata": {},
     "output_type": "execute_result"
    }
   ],
   "source": [
    "df.groupby('UID')[[\"Event_Name\",\"Keyword\",\"Document\"]].agg(lambda x:combine_lists(x)).reset_index()"
   ]
  },
  {
   "cell_type": "code",
   "execution_count": 36,
   "id": "a1e36931",
   "metadata": {},
   "outputs": [
    {
     "data": {
      "text/plain": [
       "Event_Name\n",
       "[Unknown]                  4289\n",
       "[Pain]                      139\n",
       "[Sleep]                     133\n",
       "[Family]                    101\n",
       "[Excretion]                  62\n",
       "[Eating]                     19\n",
       "[Sleep, Pain]                 7\n",
       "[Sleep, Family]               5\n",
       "[Family, Pain]                2\n",
       "[Sleep, Family, Eating]       1\n",
       "[Sleep, Family, Pain]         1\n",
       "Name: count, dtype: int64"
      ]
     },
     "execution_count": 36,
     "metadata": {},
     "output_type": "execute_result"
    }
   ],
   "source": [
    "rdf.Event_Name.value_counts()"
   ]
  },
  {
   "cell_type": "code",
   "execution_count": null,
   "id": "f5d54eaf",
   "metadata": {},
   "outputs": [],
   "source": [
    "import pandas as pd\n",
    "df1 = pd.read_pickle(\"../exports/04_groundtruth/P-SET/Generated/Sleep_Sentences.pkl\")\n",
    "# df2 = pd.read_pickle(\"../exports/04_groundtruth/P-SET/Annotating/Sleep_Sentences_old.pkl\")\n",
    "df1['Sent_gt_Sleep'] = None\n",
    "df1['negation'] = False\n",
    "df1['good_example'] = False\n",
    "for anno in [\"Sent_gt_Sleep\" , \"negation\", \"good_example\"]:\n",
    "    UID_2_anno = df2.groupby(\"Sentence\")[anno].first().to_dict()\n",
    "    df1[anno] = df1['Sentence'].map(UID_2_anno)\n",
    "df1.to_pickle(\"../exports/04_groundtruth/P-SET/Annotating/Sleep_Sentences.pkl\")"
   ]
  },
  {
   "cell_type": "code",
   "execution_count": 21,
   "id": "ebc2cde4",
   "metadata": {},
   "outputs": [
    {
     "name": "stdout",
     "output_type": "stream",
     "text": [
      "TN_Event_Name_LLM_Events_all_evidence_Doc_Sleep.xlsx 4\n",
      "FP_Event_Name_LLM_Events_all_evidence_Doc_Sleep.xlsx 23\n",
      "FN_Event_Name_LLM_Events_all_evidence_Doc_Sleep.xlsx 1\n",
      "TP_Event_Name_LLM_Events_all_evidence_Doc_Sleep.xlsx 7\n"
     ]
    },
    {
     "data": {
      "text/plain": [
       "[1468987,\n",
       " 1468980,\n",
       " 1356120,\n",
       " 1356115,\n",
       " 1356117,\n",
       " 1468992,\n",
       " 1356124,\n",
       " 1468964,\n",
       " 1468994,\n",
       " 1477464,\n",
       " 1356116,\n",
       " 1310488,\n",
       " 1477465,\n",
       " 1468984,\n",
       " 1477461,\n",
       " 1468996,\n",
       " 1310483,\n",
       " 1468979,\n",
       " 1477467,\n",
       " 1468998,\n",
       " 1468986,\n",
       " 1468993,\n",
       " 1325555,\n",
       " 1477473,\n",
       " 1468974,\n",
       " 1457371,\n",
       " 1468972,\n",
       " 1457381,\n",
       " 1477470,\n",
       " 1468981,\n",
       " 1325552,\n",
       " 1356122,\n",
       " 1457375,\n",
       " 1356118,\n",
       " 1310490]"
      ]
     },
     "execution_count": 21,
     "metadata": {},
     "output_type": "execute_result"
    }
   ],
   "source": [
    "from glob import glob\n",
    "import os,sys\n",
    "import pandas as pd\n",
    "parent_dir = os.path.abspath(os.path.join(os.getcwd(), '..'))\n",
    "\n",
    "if parent_dir not in sys.path:\n",
    "    sys.path.append(parent_dir)\n",
    "\n",
    "\n",
    "focus = \"Doc\"\n",
    "if focus == \"Doc\":\n",
    "    uid = \"ROW_ID\"\n",
    "elif focus == \"Sent\":\n",
    "    uid = \"UID\"\n",
    "files = glob(f\"../exports/06_analysis/Sleep/*_Event_Name_LLM_Events_all_evidence_{focus}_Sleep.xlsx\")\n",
    "full_df = []\n",
    "for file in files:\n",
    "    file_name = os.path.basename(file)\n",
    "    df = pd.read_excel(file)\n",
    "    if file_name[:2] == \"FP\":\n",
    "        sample_per = 0.6\n",
    "    else:\n",
    "        sample_per = 0.2\n",
    "    N = len(df)\n",
    "    subN = int(sample_per*N)\n",
    "    finalN= max(1,subN)\n",
    "    print(file_name, finalN)\n",
    "    df_samples = df.sample(n=finalN,replace=False)\n",
    "    full_df.append(df_samples)\n",
    "full_df = pd.concat(full_df).reset_index()\n",
    "full_df[uid].tolist()\n",
    "    "
   ]
  },
  {
   "cell_type": "code",
   "execution_count": 18,
   "id": "ea555b9c",
   "metadata": {},
   "outputs": [
    {
     "data": {
      "text/plain": [
       "<Axes: >"
      ]
     },
     "execution_count": 18,
     "metadata": {},
     "output_type": "execute_result"
    },
    {
     "data": {
      "image/png": "iVBORw0KGgoAAAANSUhEUgAAAjkAAAGdCAYAAADwjmIIAAAAOnRFWHRTb2Z0d2FyZQBNYXRwbG90bGliIHZlcnNpb24zLjEwLjYsIGh0dHBzOi8vbWF0cGxvdGxpYi5vcmcvq6yFwwAAAAlwSFlzAAAPYQAAD2EBqD+naQAAKtpJREFUeJzt3Xt0VPW99/FPrpMEGcKlSUgJkFOpgNyUSIi3Y0tMsGmPWMoCTduIiEdMFEwfFCwGBDWCB+RaOFQBu4QDck6hSDAwDQIqIUCEykVRjygu6SS2COGiyZD8nj98sh+HcAu3Ib95v9Ziyez9nZnfZw8rftae2ZMQY4wRAACAZUIDvQAAAIDLgZIDAACsRMkBAABWouQAAAArUXIAAICVKDkAAMBKlBwAAGAlSg4AALBSeKAXEEh1dXU6ePCgmjdvrpCQkEAvBwAAnAdjjI4eParExESFhp75fE1Ql5yDBw8qKSkp0MsAAAAX4IsvvlC7du3OuD+oS07z5s0lfXeQ3G53QNbg8/m0bt06ZWRkKCIiIiBruJKCKW8wZZXIa7tgyhtMWaWmmbeqqkpJSUnO/8fPJKhLTv1bVG63O6AlJyYmRm63u8n847oYwZQ3mLJK5LVdMOUNpqxS0857ro+a8MFjAABgJUoOAACwEiUHAABYiZIDAACsRMkBAABWouQAAAArUXIAAICVKDkAAMBKlBwAAGAlSg4AALASJQcAAFiJkgMAAKxEyQEAAFai5AAAACuFB3oB8NdxTJHf7c9eyArQSgAAaNo4kwMAAKxEyQEAAFai5AAAACtRcgAAgJUoOQAAwEqUHAAAYCVKDgAAsBIlBwAAWImSAwAArETJAQAAVqLkAAAAK1FyAACAlSg5AADASpQcAABgJUoOAACwEiUHAABYiZIDAACsFB7oBeDsOo4parDtsxeyArASAACaFs7kAAAAK1FyAACAlSg5AADASpQcAABgJUoOAACwEiUHAABYiZIDAACsRMkBAABWouQAAAArUXIAAICVKDkAAMBKjSo5tbW1evrpp5WcnKzo6Gj96Ec/0qRJk2SMcWaMMSooKFDbtm0VHR2t9PR0ffzxx36Pc+jQIWVnZ8vtdis2NlbDhg3TsWPH/Gbef/993XbbbYqKilJSUpKmTJnSYD3Lly9X586dFRUVpe7du2vNmjWNiQMAACzWqJIzefJkzZ07V7Nnz9YHH3ygyZMna8qUKZo1a5YzM2XKFM2cOVPz5s1TWVmZmjVrpszMTH377bfOTHZ2tvbs2SOPx6PVq1dr06ZNeuihh5z9VVVVysjIUIcOHVReXq4XX3xREyZM0Pz5852ZzZs3695779WwYcO0Y8cODRgwQAMGDNDu3bsv5ngAAABLNKrkbN68WXfffbeysrLUsWNH/epXv1JGRoa2bt0q6buzONOnT9e4ceN09913q0ePHvrTn/6kgwcPauXKlZKkDz74QMXFxXr55ZeVmpqqW2+9VbNmzdLSpUt18OBBSdLixYtVU1OjBQsW6Prrr9eQIUP02GOPadq0ac5aZsyYof79+2v06NHq0qWLJk2apBtvvFGzZ8++RIcGAAA0ZeGNGb755ps1f/58ffTRR/rxj3+sv/3tb3rnnXec8rF//355vV6lp6c792nRooVSU1NVWlqqIUOGqLS0VLGxsUpJSXFm0tPTFRoaqrKyMt1zzz0qLS3V7bffrsjISGcmMzNTkydP1tdff62WLVuqtLRU+fn5fuvLzMx0ytTpVFdXq7q62rldVVUlSfL5fPL5fI05FJdM/fPW/9cVZs427jfbFJ2a12bBlFUir+2CKW8wZZWaZt7zXWujSs6YMWNUVVWlzp07KywsTLW1tXruueeUnZ0tSfJ6vZKk+Ph4v/vFx8c7+7xer+Li4vwXER6uVq1a+c0kJyc3eIz6fS1btpTX6z3r85xOYWGhnnnmmQbb161bp5iYmHPmv5w8Ho8kaUqfc8/a8Nmj+rzBIJiySuS1XTDlDaasUtPKe+LEifOaa1TJef3117V48WItWbJE119/vXbu3KlRo0YpMTFROTk5F7TQK2ns2LF+Z3+qqqqUlJSkjIwMud3ugKzJ5/PJ4/HozjvvVEREhLpNWHvO++yekHkFVnZ5nJrXZsGUVSKv7YIpbzBllZpm3vp3Ys6lUSVn9OjRGjNmjIYMGSJJ6t69uz7//HMVFhYqJydHCQkJkqSKigq1bdvWuV9FRYV69eolSUpISFBlZaXf4548eVKHDh1y7p+QkKCKigq/mfrb55qp3386LpdLLperwfaIiIiAv7D1a6iuDTmv2abuajjmV0owZZXIa7tgyhtMWaWmlfd819moDx6fOHFCoaH+dwkLC1NdXZ0kKTk5WQkJCSopKXH2V1VVqaysTGlpaZKktLQ0HT58WOXl5c7M+vXrVVdXp9TUVGdm06ZNfu+5eTweXXfddWrZsqUz8/3nqZ+pfx4AABDcGlVyfvGLX+i5555TUVGRPvvsM61YsULTpk3TPffcI0kKCQnRqFGj9Oyzz2rVqlXatWuXfvvb3yoxMVEDBgyQJHXp0kX9+/fX8OHDtXXrVr377rvKy8vTkCFDlJiYKEm67777FBkZqWHDhmnPnj1atmyZZsyY4fdW08iRI1VcXKypU6fqww8/1IQJE7R9+3bl5eVdokMDAACaska9XTVr1iw9/fTTeuSRR1RZWanExET9+7//uwoKCpyZJ554QsePH9dDDz2kw4cP69Zbb1VxcbGioqKcmcWLFysvL0/9+vVTaGioBg4cqJkzZzr7W7RooXXr1ik3N1e9e/dWmzZtVFBQ4PddOjfffLOWLFmicePG6amnnlKnTp20cuVKdevW7WKOBwAAsESjSk7z5s01ffp0TZ8+/YwzISEhmjhxoiZOnHjGmVatWmnJkiVnfa4ePXro7bffPuvMoEGDNGjQoLPOAACA4MTvrgIAAFai5AAAACtRcgAAgJUoOQAAwEqUHAAAYCVKDgAAsBIlBwAAWImSAwAArETJAQAAVqLkAAAAK1FyAACAlSg5AADASpQcAABgJUoOAACwEiUHAABYiZIDAACsRMkBAABWouQAAAArUXIAAICVKDkAAMBKlBwAAGAlSg4AALASJQcAAFiJkgMAAKxEyQEAAFai5AAAACtRcgAAgJUoOQAAwEqUHAAAYCVKDgAAsBIlBwAAWImSAwAArETJAQAAVqLkAAAAK1FyAACAlSg5AADASpQcAABgJUoOAACwEiUHAABYiZIDAACsRMkBAABWouQAAAArUXIAAICVKDkAAMBKlBwAAGAlSg4AALASJQcAAFiJkgMAAKxEyQEAAFai5AAAACtRcgAAgJUoOQAAwEqUHAAAYCVKDgAAsBIlBwAAWImSAwAArETJAQAAVqLkAAAAK1FyAACAlSg5AADASpQcAABgJUoOAACwEiUHAABYiZIDAACsRMkBAABWouQAAAArUXIAAICVKDkAAMBKjS45X375pX7961+rdevWio6OVvfu3bV9+3ZnvzFGBQUFatu2raKjo5Wenq6PP/7Y7zEOHTqk7Oxsud1uxcbGatiwYTp27JjfzPvvv6/bbrtNUVFRSkpK0pQpUxqsZfny5ercubOioqLUvXt3rVmzprFxAACApRpVcr7++mvdcsstioiI0Jtvvqm9e/dq6tSpatmypTMzZcoUzZw5U/PmzVNZWZmaNWumzMxMffvtt85Mdna29uzZI4/Ho9WrV2vTpk166KGHnP1VVVXKyMhQhw4dVF5erhdffFETJkzQ/PnznZnNmzfr3nvv1bBhw7Rjxw4NGDBAAwYM0O7duy/meAAAAEuEN2Z48uTJSkpK0sKFC51tycnJzt+NMZo+fbrGjRunu+++W5L0pz/9SfHx8Vq5cqWGDBmiDz74QMXFxdq2bZtSUlIkSbNmzdLPfvYz/cd//IcSExO1ePFi1dTUaMGCBYqMjNT111+vnTt3atq0aU4ZmjFjhvr376/Ro0dLkiZNmiSPx6PZs2dr3rx5F3dUAABAk9eokrNq1SplZmZq0KBB2rhxo374wx/qkUce0fDhwyVJ+/fvl9frVXp6unOfFi1aKDU1VaWlpRoyZIhKS0sVGxvrFBxJSk9PV2hoqMrKynTPPfeotLRUt99+uyIjI52ZzMxMTZ48WV9//bVatmyp0tJS5efn+60vMzNTK1euPOP6q6urVV1d7dyuqqqSJPl8Pvl8vsYcikum/nnr/+sKM+d9n6bo1Lw2C6asEnltF0x5gymr1DTznu9aG1VyPv30U82dO1f5+fl66qmntG3bNj322GOKjIxUTk6OvF6vJCk+Pt7vfvHx8c4+r9eruLg4/0WEh6tVq1Z+M98/Q/T9x/R6vWrZsqW8Xu9Zn+d0CgsL9cwzzzTYvm7dOsXExJzPIbhsPB6PJGlKn3PP2vDZo/q8wSCYskrktV0w5Q2mrFLTynvixInzmmtUyamrq1NKSoqef/55SdINN9yg3bt3a968ecrJyWn8Kq+wsWPH+p39qaqqUlJSkjIyMuR2uwOyJp/PJ4/HozvvvFMRERHqNmHtOe+ze0LmFVjZ5XFqXpsFU1aJvLYLprzBlFVqmnnr34k5l0aVnLZt26pr165+27p06aL/+Z//kSQlJCRIkioqKtS2bVtnpqKiQr169XJmKisr/R7j5MmTOnTokHP/hIQEVVRU+M3U3z7XTP3+03G5XHK5XA22R0REBPyFrV9DdW3Iec02dVfDMb9SgimrRF7bBVPeYMoqNa2857vORl1ddcstt2jfvn1+2z766CN16NBB0ncfQk5ISFBJSYmzv6qqSmVlZUpLS5MkpaWl6fDhwyovL3dm1q9fr7q6OqWmpjozmzZt8nvPzePx6LrrrnOu5EpLS/N7nvqZ+ucBAADBrVEl5/HHH9eWLVv0/PPP65NPPtGSJUs0f/585ebmSpJCQkI0atQoPfvss1q1apV27dql3/72t0pMTNSAAQMkfXfmp3///ho+fLi2bt2qd999V3l5eRoyZIgSExMlSffdd58iIyM1bNgw7dmzR8uWLdOMGTP83moaOXKkiouLNXXqVH344YeaMGGCtm/frry8vEt0aAAAQFPWqLerbrrpJq1YsUJjx47VxIkTlZycrOnTpys7O9uZeeKJJ3T8+HE99NBDOnz4sG699VYVFxcrKirKmVm8eLHy8vLUr18/hYaGauDAgZo5c6azv0WLFlq3bp1yc3PVu3dvtWnTRgUFBX7fpXPzzTdryZIlGjdunJ566il16tRJK1euVLdu3S7meDQJHccU+d3+7IWsAK0EAICrV6NKjiT9/Oc/189//vMz7g8JCdHEiRM1ceLEM860atVKS5YsOevz9OjRQ2+//fZZZwYNGqRBgwadfcEAACAo8burAACAlSg5AADASpQcAABgJUoOAACwEiUHAABYiZIDAACsRMkBAABWouQAAAArUXIAAICVKDkAAMBKlBwAAGAlSg4AALASJQcAAFiJkgMAAKxEyQEAAFai5AAAACtRcgAAgJUoOQAAwEqUHAAAYCVKDgAAsBIlBwAAWImSAwAArETJAQAAVqLkAAAAK1FyAACAlSg5AADASpQcAABgJUoOAACwEiUHAABYiZIDAACsRMkBAABWouQAAAArUXIAAICVKDkAAMBKlBwAAGAlSg4AALASJQcAAFiJkgMAAKxEyQEAAFai5AAAACtRcgAAgJUoOQAAwEqUHAAAYCVKDgAAsBIlBwAAWImSAwAArETJAQAAVqLkAAAAK1FyAACAlSg5AADASpQcAABgJUoOAACwEiUHAABYiZIDAACsRMkBAABWouQAAAArUXIAAICVKDkAAMBKlBwAAGAlSg4AALASJQcAAFiJkgMAAKxEyQEAAFai5AAAACtRcgAAgJUoOQAAwEqUHAAAYCVKDgAAsBIlBwAAWOmiSs4LL7ygkJAQjRo1ytn27bffKjc3V61bt9Y111yjgQMHqqKiwu9+Bw4cUFZWlmJiYhQXF6fRo0fr5MmTfjMbNmzQjTfeKJfLpWuvvVaLFi1q8Pxz5sxRx44dFRUVpdTUVG3duvVi4gAAAItccMnZtm2b/vM//1M9evTw2/7444/rjTfe0PLly7Vx40YdPHhQv/zlL539tbW1ysrKUk1NjTZv3qxXX31VixYtUkFBgTOzf/9+ZWVl6Sc/+Yl27typUaNG6cEHH9TatWudmWXLlik/P1/jx4/Xe++9p549eyozM1OVlZUXGgkAAFjkgkrOsWPHlJ2drT/+8Y9q2bKls/3IkSN65ZVXNG3aNP30pz9V7969tXDhQm3evFlbtmyRJK1bt0579+7Va6+9pl69eumuu+7SpEmTNGfOHNXU1EiS5s2bp+TkZE2dOlVdunRRXl6efvWrX+mll15ynmvatGkaPny4hg4dqq5du2revHmKiYnRggULLuZ4AAAAS4RfyJ1yc3OVlZWl9PR0Pfvss8728vJy+Xw+paenO9s6d+6s9u3bq7S0VH379lVpaam6d++u+Ph4ZyYzM1MjRozQnj17dMMNN6i0tNTvMepn6t8Wq6mpUXl5ucaOHevsDw0NVXp6ukpLS8+47urqalVXVzu3q6qqJEk+n08+n+9CDsVFq3/e+v+6wswFP0ZTcGpemwVTVom8tgumvMGUVWqaec93rY0uOUuXLtV7772nbdu2Ndjn9XoVGRmp2NhYv+3x8fHyer3OzPcLTv3++n1nm6mqqtI333yjr7/+WrW1taed+fDDD8+49sLCQj3zzDMNtq9bt04xMTFnvN+V4PF4JElT+jT+vmvWrLnEq7n86vMGg2DKKpHXdsGUN5iySk0r74kTJ85rrlEl54svvtDIkSPl8XgUFRV1QQsLpLFjxyo/P9+5XVVVpaSkJGVkZMjtdgdkTT6fTx6PR3feeaciIiLUbcLac9/pFLsnZF6GlV0ep+a1WTBllchru2DKG0xZpaaZt/6dmHNpVMkpLy9XZWWlbrzxRmdbbW2tNm3apNmzZ2vt2rWqqanR4cOH/c7mVFRUKCEhQZKUkJDQ4Cqo+quvvj9z6hVZFRUVcrvdio6OVlhYmMLCwk47U/8Yp+NyueRyuRpsj4iICPgLW7+G6tqQC7pvU3M1HPMrJZiySuS1XTDlDaasUtPKe77rbNQHj/v166ddu3Zp586dzp+UlBRlZ2c7f4+IiFBJSYlzn3379unAgQNKS0uTJKWlpWnXrl1+V0F5PB653W517drVmfn+Y9TP1D9GZGSkevfu7TdTV1enkpISZwYAAAS3Rp3Jad68ubp16+a3rVmzZmrdurWzfdiwYcrPz1erVq3kdrv16KOPKi0tTX379pUkZWRkqGvXrvrNb36jKVOmyOv1aty4ccrNzXXOsjz88MOaPXu2nnjiCT3wwANav369Xn/9dRUVFTnPm5+fr5ycHKWkpKhPnz6aPn26jh8/rqFDh17UAQEAAHa4oKurzuall15SaGioBg4cqOrqamVmZuoPf/iDsz8sLEyrV6/WiBEjlJaWpmbNmiknJ0cTJ050ZpKTk1VUVKTHH39cM2bMULt27fTyyy8rM/P/f/Zk8ODB+uqrr1RQUCCv16tevXqpuLi4wYeRAQBAcLrokrNhwwa/21FRUZozZ47mzJlzxvt06NDhnFcE3XHHHdqxY8dZZ/Ly8pSXl3feawUAAMGD310FAACsRMkBAABWouQAAAArUXIAAICVKDkAAMBKlBwAAGAlSg4AALASJQcAAFiJkgMAAKxEyQEAAFai5AAAACtRcgAAgJUoOQAAwEqUHAAAYCVKDgAAsBIlBwAAWImSAwAArETJAQAAVqLkAAAAK1FyAACAlSg5AADASpQcAABgJUoOAACwEiUHAABYiZIDAACsRMkBAABWouQAAAArUXIAAICVKDkAAMBKlBwAAGAlSg4AALASJQcAAFiJkgMAAKxEyQEAAFai5AAAACtRcgAAgJXCA70AXLyOY4oabPvshawArAQAgKsHZ3IAAICVKDkAAMBKlBwAAGAlSg4AALASJQcAAFiJkgMAAKxEyQEAAFai5AAAACtRcgAAgJUoOQAAwEqUHAAAYCVKDgAAsBIlBwAAWImSAwAArETJAQAAVqLkAAAAK1FyAACAlSg5AADASpQcAABgJUoOAACwEiUHAABYiZIDAACsRMkBAABWouQAAAArUXIAAICVKDkAAMBKlBwAAGCl8EAvIJh1HFMkV5jRlD5StwlrVV0bEuglAQBgDc7kAAAAK1FyAACAlSg5AADASo0qOYWFhbrpppvUvHlzxcXFacCAAdq3b5/fzLfffqvc3Fy1bt1a11xzjQYOHKiKigq/mQMHDigrK0sxMTGKi4vT6NGjdfLkSb+ZDRs26MYbb5TL5dK1116rRYsWNVjPnDlz1LFjR0VFRSk1NVVbt25tTBwAAGCxRpWcjRs3Kjc3V1u2bJHH45HP51NGRoaOHz/uzDz++ON64403tHz5cm3cuFEHDx7UL3/5S2d/bW2tsrKyVFNTo82bN+vVV1/VokWLVFBQ4Mzs379fWVlZ+slPfqKdO3dq1KhRevDBB7V27VpnZtmyZcrPz9f48eP13nvvqWfPnsrMzFRlZeXFHA8AAGCJRl1dVVxc7Hd70aJFiouLU3l5uW6//XYdOXJEr7zyipYsWaKf/vSnkqSFCxeqS5cu2rJli/r27at169Zp7969+utf/6r4+Hj16tVLkyZN0pNPPqkJEyYoMjJS8+bNU3JysqZOnSpJ6tKli9555x299NJLyszMlCRNmzZNw4cP19ChQyVJ8+bNU1FRkRYsWKAxY8Zc9IEBAABN20V9JufIkSOSpFatWkmSysvL5fP5lJ6e7sx07txZ7du3V2lpqSSptLRU3bt3V3x8vDOTmZmpqqoq7dmzx5n5/mPUz9Q/Rk1NjcrLy/1mQkNDlZ6e7swAAIDgdsHfk1NXV6dRo0bplltuUbdu3SRJXq9XkZGRio2N9ZuNj4+X1+t1Zr5fcOr31+8720xVVZW++eYbff3116qtrT3tzIcffnjGNVdXV6u6utq5XVVVJUny+Xzy+XznG/2ScYUZuULNd3//f/+9VAKR53zUr+tqXd+lFExZJfLaLpjyBlNWqWnmPd+1XnDJyc3N1e7du/XOO+9c6ENccYWFhXrmmWcabF+3bp1iYmKu+Hqm9Pn/f5+UUndJH3vNmjWX9PEuNY/HE+glXDHBlFUir+2CKW8wZZWaVt4TJ06c19wFlZy8vDytXr1amzZtUrt27ZztCQkJqqmp0eHDh/3O5lRUVCghIcGZOfUqqPqrr74/c+oVWRUVFXK73YqOjlZYWJjCwsJOO1P/GKczduxY5efnO7erqqqUlJSkjIwMud3uRhyBS6PbhLVyhRpNSqnT09tDVV136b7xePeEzEv2WJeSz+eTx+PRnXfeqYiIiEAv57IKpqwSeW0XTHmDKavUNPPWvxNzLo0qOcYYPfroo1qxYoU2bNig5ORkv/29e/dWRESESkpKNHDgQEnSvn37dODAAaWlpUmS0tLS9Nxzz6myslJxcXGSvmuPbrdbXbt2dWZOPRPh8Xicx4iMjFTv3r1VUlKiAQMGSPru7bOSkhLl5eWdcf0ul0sul6vB9oiIiIC8sN//NQ7VdSGX9Nc6XO3/UAN1zAMhmLJK5LVdMOUNpqxS08p7vutsVMnJzc3VkiVL9Je//EXNmzd3PkPTokULRUdHq0WLFho2bJjy8/PVqlUrud1uPfroo0pLS1Pfvn0lSRkZGeratat+85vfaMqUKfJ6vRo3bpxyc3OdAvLwww9r9uzZeuKJJ/TAAw9o/fr1ev3111VUVOSsJT8/Xzk5OUpJSVGfPn00ffp0HT9+3LnaCgAABLdGlZy5c+dKku644w6/7QsXLtT9998vSXrppZcUGhqqgQMHqrq6WpmZmfrDH/7gzIaFhWn16tUaMWKE0tLS1KxZM+Xk5GjixInOTHJysoqKivT4449rxowZateunV5++WXn8nFJGjx4sL766isVFBTI6/WqV69eKi4ubvBhZAAAEJwa/XbVuURFRWnOnDmaM2fOGWc6dOhwzg/G3nHHHdqxY8dZZ/Ly8s769hQAAAheF3x1Fa5uHccU+d3+7IWsAK0EAIDA4Bd0AgAAK1FyAACAlSg5AADASpQcAABgJUoOAACwEiUHAABYiZIDAACsRMkBAABWouQAAAArUXIAAICVKDkAAMBKlBwAAGAlSg4AALASJQcAAFiJkgMAAKxEyQEAAFai5AAAACtRcgAAgJUoOQAAwEqUHAAAYCVKDgAAsBIlBwAAWImSAwAArETJAQAAVqLkAAAAK1FyAACAlSg5AADASpQcAABgJUoOAACwEiUHAABYiZIDAACsRMkBAABWouQAAAArUXIAAICVKDkAAMBKlBwAAGAlSg4AALASJQcAAFiJkgMAAKxEyQEAAFYKD/QCcGV0HFPUYNtnL2QFYCUAAFwZnMkBAABWouQAAAArUXIAAICVKDkAAMBKlBwAAGAlSg4AALASJQcAAFiJkgMAAKxEyQEAAFbiG4+D2Knfgsw3IAMAbMKZHAAAYCVKDgAAsBIlBwAAWImSAwAArETJAQAAVqLkAAAAK1FyAACAlSg5AADASpQcAABgJUoOAACwEr/WAY5Tf82DxK96AAA0XZzJAQAAVqLkAAAAK1FyAACAlSg5AADASnzwGGd16oeR+SAyAKCp4EwOAACwUpM/kzNnzhy9+OKL8nq96tmzp2bNmqU+ffoEelnW4jJzAEBT0aTP5Cxbtkz5+fkaP3683nvvPfXs2VOZmZmqrKwM9NIAAECANekzOdOmTdPw4cM1dOhQSdK8efNUVFSkBQsWaMyYMQFeXfDgczsAgKtRky05NTU1Ki8v19ixY51toaGhSk9PV2lp6WnvU11drerqauf2kSNHJEmHDh2Sz+e7vAs+jfCTxxVeZ3TiRJ3CfaGqrQu54mu4HK79P6832FY2tp8kyefz6cSJE+r1+z+r+pS89TO2qM/6z3/+UxEREYFezmVHXrsFU95gyio1zbxHjx6VJBljzjrXZEvOP/7xD9XW1io+Pt5ve3x8vD788MPT3qewsFDPPPNMg+3JycmXZY3n676APvuV0WbqpZkBAKDe0aNH1aJFizPub7Il50KMHTtW+fn5zu26ujodOnRIrVu3VkhIYM6iVFVVKSkpSV988YXcbndA1nAlBVPeYMoqkdd2wZQ3mLJKTTOvMUZHjx5VYmLiWeeabMlp06aNwsLCVFFR4be9oqJCCQkJp72Py+WSy+Xy2xYbG3u5ltgobre7yfzjuhSCKW8wZZXIa7tgyhtMWaWml/dsZ3DqNdmrqyIjI9W7d2+VlJQ42+rq6lRSUqK0tLQArgwAAFwNmuyZHEnKz89XTk6OUlJS1KdPH02fPl3Hjx93rrYCAADBq0mXnMGDB+urr75SQUGBvF6vevXqpeLi4gYfRr6auVwujR8/vsHbaLYKprzBlFUir+2CKW8wZZXszhtiznX9FQAAQBPUZD+TAwAAcDaUHAAAYCVKDgAAsBIlBwAAWImSE0Bz5sxRx44dFRUVpdTUVG3dujXQS7ogmzZt0i9+8QslJiYqJCREK1eu9NtvjFFBQYHatm2r6Ohopaen6+OPP/abOXTokLKzs+V2uxUbG6thw4bp2LFjVzDF+SksLNRNN92k5s2bKy4uTgMGDNC+ffv8Zr799lvl5uaqdevWuuaaazRw4MAGX1p54MABZWVlKSYmRnFxcRo9erROnjx5JaOcl7lz56pHjx7Ol4SlpaXpzTffdPbblPVUL7zwgkJCQjRq1Chnm015J0yYoJCQEL8/nTt3dvbblLXel19+qV//+tdq3bq1oqOj1b17d23fvt3Zb9PPqo4dOzZ4fUNCQpSbmyvJztf3tAwCYunSpSYyMtIsWLDA7NmzxwwfPtzExsaaioqKQC+t0dasWWN+//vfmz//+c9GklmxYoXf/hdeeMG0aNHCrFy50vztb38z//Zv/2aSk5PNN99848z079/f9OzZ02zZssW8/fbb5tprrzX33nvvFU5ybpmZmWbhwoVm9+7dZufOneZnP/uZad++vTl27Jgz8/DDD5ukpCRTUlJitm/fbvr27WtuvvlmZ//JkydNt27dTHp6utmxY4dZs2aNadOmjRk7dmwgIp3VqlWrTFFRkfnoo4/Mvn37zFNPPWUiIiLM7t27jTF2Zf2+rVu3mo4dO5oePXqYkSNHOtttyjt+/Hhz/fXXm7///e/On6+++srZb1NWY4w5dOiQ6dChg7n//vtNWVmZ+fTTT83atWvNJ5984szY9LOqsrLS77X1eDxGknnrrbeMMfa9vmdCyQmQPn36mNzcXOd2bW2tSUxMNIWFhQFc1cU7teTU1dWZhIQE8+KLLzrbDh8+bFwul/mv//ovY4wxe/fuNZLMtm3bnJk333zThISEmC+//PKKrf1CVFZWGklm48aNxpjvskVERJjly5c7Mx988IGRZEpLS40x35XC0NBQ4/V6nZm5c+cat9ttqqurr2yAC9CyZUvz8ssvW5v16NGjplOnTsbj8Zh//dd/dUqObXnHjx9vevbsedp9tmU1xpgnn3zS3HrrrWfcb/vPqpEjR5of/ehHpq6uzsrX90x4uyoAampqVF5ervT0dGdbaGio0tPTVVpaGsCVXXr79++X1+v1y9qiRQulpqY6WUtLSxUbG6uUlBRnJj09XaGhoSorK7via26MI0eOSJJatWolSSovL5fP5/PL27lzZ7Vv394vb/fu3f2+tDIzM1NVVVXas2fPFVx949TW1mrp0qU6fvy40tLSrM2am5urrKwsv1ySna/txx9/rMTERP3Lv/yLsrOzdeDAAUl2Zl21apVSUlI0aNAgxcXF6YYbbtAf//hHZ7/NP6tqamr02muv6YEHHlBISIiVr++ZUHIC4B//+Idqa2sbfDNzfHy8vF5vgFZ1edTnOVtWr9eruLg4v/3h4eFq1arVVX086urqNGrUKN1yyy3q1q2bpO+yREZGNvjFr6fmPd3xqN93tdm1a5euueYauVwuPfzww1qxYoW6du1qZdalS5fqvffeU2FhYYN9tuVNTU3VokWLVFxcrLlz52r//v267bbbdPToUeuyStKnn36quXPnqlOnTlq7dq1GjBihxx57TK+++qoku39WrVy5UocPH9b9998vyb5/y2fTpH+tAxBIubm52r17t955551AL+Wyuu6667Rz504dOXJE//3f/62cnBxt3Lgx0Mu65L744guNHDlSHo9HUVFRgV7OZXfXXXc5f+/Ro4dSU1PVoUMHvf7664qOjg7gyi6Puro6paSk6Pnnn5ck3XDDDdq9e7fmzZunnJycAK/u8nrllVd01113KTExMdBLueI4kxMAbdq0UVhYWINPsldUVCghISFAq7o86vOcLWtCQoIqKyv99p88eVKHDh26ao9HXl6eVq9erbfeekvt2rVztickJKimpkaHDx/2mz817+mOR/2+q01kZKSuvfZa9e7dW4WFherZs6dmzJhhXdby8nJVVlbqxhtvVHh4uMLDw7Vx40bNnDlT4eHhio+PtyrvqWJjY/XjH/9Yn3zyiXWvrSS1bdtWXbt29dvWpUsX5y06W39Wff755/rrX/+qBx980Nlm4+t7JpScAIiMjFTv3r1VUlLibKurq1NJSYnS0tICuLJLLzk5WQkJCX5Zq6qqVFZW5mRNS0vT4cOHVV5e7sysX79edXV1Sk1NveJrPhtjjPLy8rRixQqtX79eycnJfvt79+6tiIgIv7z79u3TgQMH/PLu2rXL74elx+OR2+1u8EP4alRXV6fq6mrrsvbr10+7du3Szp07nT8pKSnKzs52/m5T3lMdO3ZM//u//6u2bdta99pK0i233NLg6x4++ugjdejQQZJ9P6vqLVy4UHFxccrKynK22fj6nlGgP/kcrJYuXWpcLpdZtGiR2bt3r3nooYdMbGys3yfZm4qjR4+aHTt2mB07dhhJZtq0aWbHjh3m888/N8Z8d1lmbGys+ctf/mLef/99c/fdd5/2sswbbrjBlJWVmXfeecd06tTpqrwsc8SIEaZFixZmw4YNfpdnnjhxwpl5+OGHTfv27c369evN9u3bTVpamklLS3P211+amZGRYXbu3GmKi4vND37wg6vy0swxY8aYjRs3mv3795v333/fjBkzxoSEhJh169YZY+zKejrfv7rKGLvy/u53vzMbNmww+/fvN++++65JT083bdq0MZWVlcYYu7Ia893XAoSHh5vnnnvOfPzxx2bx4sUmJibGvPbaa86MTT+rjPnuqt327dubJ598ssE+217fM6HkBNCsWbNM+/btTWRkpOnTp4/ZsmVLoJd0Qd566y0jqcGfnJwcY8x3l2Y+/fTTJj4+3rhcLtOvXz+zb98+v8f45z//ae69915zzTXXGLfbbYYOHWqOHj0agDRnd7qckszChQudmW+++cY88sgjpmXLliYmJsbcc8895u9//7vf43z22WfmrrvuMtHR0aZNmzbmd7/7nfH5fFc4zbk98MADpkOHDiYyMtL84Ac/MP369XMKjjF2ZT2dU0uOTXkHDx5s2rZtayIjI80Pf/hDM3jwYL/vjLEpa7033njDdOvWzbhcLtO5c2czf/58v/02/awyxpi1a9caSQ0yGGPn63s6IcYYE5BTSAAAAJcRn8kBAABWouQAAAArUXIAAICVKDkAAMBKlBwAAGAlSg4AALASJQcAAFiJkgMAAKxEyQEAAFai5AAAACtRcgAAgJUoOQAAwEr/F7/XHth0389iAAAAAElFTkSuQmCC",
      "text/plain": [
       "<Figure size 640x480 with 1 Axes>"
      ]
     },
     "metadata": {},
     "output_type": "display_data"
    }
   ],
   "source": [
    "import pandas as pd\n",
    "id_type = \"UID\"\n",
    "df_date=pd.read_pickle(\"../exports/04_dictionary_features.pkl\")\n",
    "df_date['CHARTTIME'] = pd.to_datetime(df_date['CHARTTIME'])\n",
    "df_date['STORETIME'] = pd.to_datetime(df_date['STORETIME'])\n",
    "df_date['TIME_DIFF'] = df_date['STORETIME'] - df_date['CHARTTIME']\n",
    "df_date['TIME_DIFF_min'] = df_date['TIME_DIFF'].dt.total_seconds() / 60\n",
    "df_date['TIME_DIFF_min'].hist(bins=100)\n",
    "# df_date[id_type] = df_date[id_type].astype(str)\n",
    "# from datetime import datetime\n",
    "# id2starttime = df_date.groupby(id_type)['CHARTTIME'].min().to_dict()\n",
    "# id2starttime = { k: datetime.strptime(v, '%Y-%m-%d %H:%M:%S') for k, v in id2starttime.items()}\n",
    "# id2endtime = df_date.groupby(id_type)['STORETIME'].max().to_dict()\n",
    "# id2endtime = { k: datetime.strptime(v, '%Y-%m-%d %H:%M:%S') for k, v in id2endtime.items()}\n",
    "\n",
    "# id2starttime, id2endtime"
   ]
  },
  {
   "cell_type": "code",
   "execution_count": 25,
   "id": "49cfdee0",
   "metadata": {},
   "outputs": [
    {
     "data": {
      "text/plain": [
       "'2139-07-13 10:20:01'"
      ]
     },
     "execution_count": 25,
     "metadata": {},
     "output_type": "execute_result"
    }
   ],
   "source": [
    "str(df_date[\"STORETIME\"].iloc[0])"
   ]
  },
  {
   "cell_type": "code",
   "execution_count": null,
   "id": "f6ed618e",
   "metadata": {},
   "outputs": [],
   "source": [
    "import pandas as pd\n",
    "df = pd.read_pickle(\"../exports/04b_groundtruth/P-SET/Annotating/Sleep_Sentences.pkl\")\n",
    "df.loc[df.comment=='nan','negation'] = False\n",
    "df.loc[df.comment=='nan','good_example'] = False\n",
    "df.loc[df.comment=='nan','comment'] = ''\n",
    "df.comment.value_counts(dropna=False)\n",
    "df.to_pickle(\"../exports/04b_groundtruth/P-SET/Annotating/Sleep_Sentences_2.pkl\")"
   ]
  },
  {
   "cell_type": "code",
   "execution_count": 1,
   "id": "80de8f24",
   "metadata": {},
   "outputs": [
    {
     "data": {
      "text/plain": [
       "Event_Name_LLM_Events_example_evidence_Sent\n",
       "NaN    600\n",
       "Name: count, dtype: int64"
      ]
     },
     "execution_count": 1,
     "metadata": {},
     "output_type": "execute_result"
    }
   ],
   "source": [
    "import pandas as pd\n",
    "df = pd.read_excel(\"../exports/05b_llm_llama3.1:70b_P-SET_v2/Sleep/Sleep_Sentences_att_True.xlsx\")\n",
    "df['Event_Name_LLM_Events_example_evidence_Sent'].value_counts(dropna=False)"
   ]
  },
  {
   "cell_type": "code",
   "execution_count": 4,
   "id": "dd36c96b",
   "metadata": {},
   "outputs": [
    {
     "data": {
      "text/plain": [
       "Events\n",
       "[{'text': 'resp care note::', 'event': ['Unknown'], 'keyword': [''], 'keyword_position': [''], 'lemma': [''], 'attributes': {}, 'event_detection_time': nan}, {'text': 'patient cont intub with oett and on mech vent as per carevue', 'event': ['Unknown'], 'keyword': [''], 'keyword_position': [''], 'lemma': [''], 'attributes': {}, 'event_detection_time': nan}, {'text': 'lung sounds sl coarse suct', 'event': ['Unknown'], 'keyword': [''], 'keyword_position': [''], 'lemma': [''], 'attributes': {}, 'event_detection_time': 0.0034497070591896772}, {'text': 'sm th tan sput(spec obt)', 'event': ['Unknown'], 'keyword': [''], 'keyword_position': [''], 'lemma': [''], 'attributes': {}, 'event_detection_time': 0.00343304593116045}, {'text': 'abgs stable on current vent settings', 'event': ['Unknown'], 'keyword': [''], 'keyword_position': [''], 'lemma': [''], 'attributes': {}, 'event_detection_time': nan}, {'text': 'no vent changes required', 'event': ['Unknown'], 'keyword': [''], 'keyword_position': [''], 'lemma': [''], 'attributes': {}, 'event_detection_time': nan}, {'text': 'cont psv wean', 'event': ['Unknown'], 'keyword': [''], 'keyword_position': [''], 'lemma': [''], 'attributes': {}, 'event_detection_time': nan}]                                                                                                                                                                                                                                                                                                                                                                                                                                                                                                                                                                                                                                                                                                                                                                                                                                                                                                                                                                                                                                                                                                                                                                                                                                                                                                                                                                                                                                                                                                                                                                                                                                                                                                                                                                                                                                                                                                                                                                                                                                                                                                                                                                                                                                                                                                                                                                                                                                                                                                                                                                                                                                                                                                                                                                                                                                                                                                                                                                                                                                                                                                                                                                                                                                                                                                                                                                                                                                                                                                                                                                                                                                                                                                                                                                                                                                                                                                                                                                                                                                                                                                                                                                                                                                                                                                                                                                                                                                                                                                                                                                                                                                                                                                                                                                                                                                                                                                                                                                                                                                                                                                                                                                                                                                                                                                                                                                                                                                                                                                               1\n",
       "[{'text': 'subarachnoid hemorrhage (sah)', 'event': ['Unknown'], 'keyword': [''], 'keyword_position': [''], 'lemma': [''], 'attributes': {}, 'event_detection_time': 0.06958132400177419}, {'text': 'assessment:  stable neurologically intact', 'event': ['Unknown'], 'keyword': [''], 'keyword_position': [''], 'lemma': [''], 'attributes': {}, 'event_detection_time': 0.0038755289278924465}, {'text': 'action:  zofran, raglan, mso4 given for moderate ha and nausea', 'event': ['Unknown'], 'keyword': [''], 'keyword_position': [''], 'lemma': [''], 'attributes': {}, 'event_detection_time': 0.0036014497745782137}, {'text': 'response:  improved per patient', 'event': ['Unknown'], 'keyword': [''], 'keyword_position': [''], 'lemma': [''], 'attributes': {}, 'event_detection_time': 0.003510206937789917}, {'text': 'plan:  initiate pos', 'event': ['Unknown'], 'keyword': [''], 'keyword_position': [''], 'lemma': [''], 'attributes': {}, 'event_detection_time': 0.0035479278303682804}]                                                                                                                                                                                                                                                                                                                                                                                                                                                                                                                                                                                                                                                                                                                                                                                                                                                                                                                                                                                                                                                                                                                                                                                                                                                                                                                                                                                                                                                                                                                                                                                                                                                                                                                                                                                                                                                                                                                                                                                                                                                                                                                                                                                                                                                                                                                                                                                                                                                                                                                                                                                                                                                                                                                                                                                                                                                                                                                                                                                                                                                                                                                                                                                                                                                                                                                                                                                                                                                                                                                                                                                                                                                                                                                                                                                                                                                                                                                                                                                                                                                                                                                                                                                                                                                                                                                                                                                                                                                                                                                                                                                                                                                                                                                                                                                                                                                                                                                                                                                                                                                                                                                                                                                                                                                                                                                                                                                                                                                                                                                                                                                                                                                                                                                                                                     1\n",
       "[{'text': 'subarachnoid hemorrhage (sah)', 'event': ['Unknown'], 'keyword': [''], 'keyword_position': [''], 'lemma': [''], 'attributes': {}, 'event_detection_time': nan}, {'text': 'assessment::', 'event': ['Unknown'], 'keyword': [''], 'keyword_position': [''], 'lemma': [''], 'attributes': {}, 'event_detection_time': 0.0035391920246183872}, {'text': 'action::', 'event': ['Unknown'], 'keyword': [''], 'keyword_position': [''], 'lemma': [''], 'attributes': {}, 'event_detection_time': 0.0034588598646223545}, {'text': 'response::', 'event': ['Unknown'], 'keyword': [''], 'keyword_position': [''], 'lemma': [''], 'attributes': {}, 'event_detection_time': 0.0035367871169000864}, {'text': 'plan::', 'event': ['Unknown'], 'keyword': [''], 'keyword_position': [''], 'lemma': [''], 'attributes': {}, 'event_detection_time': 0.003436648054048419}]                                                                                                                                                                                                                                                                                                                                                                                                                                                                                                                                                                                                                                                                                                                                                                                                                                                                                                                                                                                                                                                                                                                                                                                                                                                                                                                                                                                                                                                                                                                                                                                                                                                                                                                                                                                                                                                                                                                                                                                                                                                                                                                                                                                                                                                                                                                                                                                                                                                                                                                                                                                                                                                                                                                                                                                                                                                                                                                                                                                                                                                                                                                                                                                                                                                                                                                                                                                                                                                                                                                                                                                                                                                                                                                                                                                                                                                                                                                                                                                                                                                                                                                                                                                                                                                                                                                                                                                                                                                                                                                                                                                                                                                                                                                                                                                                                                                                                                                                                                                                                                                                                                                                                                                                                                                                                                                                                                                                                                                                                                                                                                                                                                                                                                                                                                                                                                                                                                          1\n",
       "[{'text': '7a-7p', 'event': ['Unknown'], 'keyword': [''], 'keyword_position': [''], 'lemma': [''], 'attributes': {}, 'event_detection_time': 0.0034101679921150208}, {'text': 'cv:  nsr with rate in 70s underlying an a-paced, rate 80 rhythm', 'event': ['Unknown'], 'keyword': [''], 'keyword_position': [''], 'lemma': [''], 'attributes': {}, 'event_detection_time': 0.003563657170161605}, {'text': 'continue to pace due to drop in bp at own rate', 'event': ['Unknown'], 'keyword': [''], 'keyword_position': [''], 'lemma': [''], 'attributes': {}, 'event_detection_time': 0.003543569939211011}, {'text': 'temp slowly rising, 100.1 orally max', 'event': ['Unknown'], 'keyword': [''], 'keyword_position': [''], 'lemma': [''], 'attributes': {}, 'event_detection_time': 0.0035161389969289303}, {'text': 'attempting to wean neo drops', 'event': ['Unknown'], 'keyword': [''], 'keyword_position': [''], 'lemma': [''], 'attributes': {}, 'event_detection_time': 0.003515558084473014}, {'text': 'currently on .7mcg/kg/min. attempted to get patient oob twice but diastolic blood pressure dropped into 60s and was not coming up after sitting on edge of bed', 'event': ['Unknown'], 'keyword': [''], 'keyword_position': [''], 'lemma': [''], 'attributes': {}, 'event_detection_time': 0.003593043889850378}, {'text': 'on third attempt to get oob, increased neo drops first and let patient sit on side of bed', 'event': ['Unknown'], 'keyword': [''], 'keyword_position': [''], 'lemma': [''], 'attributes': {}, 'event_detection_time': 0.003575830953195691}, {'text': 'neo drops still increased from getting oob', 'event': ['Unknown'], 'keyword': [''], 'keyword_position': [''], 'lemma': [''], 'attributes': {}, 'event_detection_time': 0.0035372579004615545}, {'text': 'could not get v-wires to sense or capture', 'event': ['Unknown'], 'keyword': [''], 'keyword_position': [''], 'lemma': [''], 'attributes': {}, 'event_detection_time': 0.0035939260851591825}, {'text': 'pulm:  face tent removed because patient was awake', 'event': ['Unknown'], 'keyword': [''], 'keyword_position': [''], 'lemma': [''], 'attributes': {}, 'event_detection_time': 0.0035645589232444763}, {'text': 'while patient sleeps, sats do drop but just remind patient to close mouth', 'event': ['Sleep'], 'keyword': ['sleeps'], 'keyword_position': ['14_20'], 'lemma': ['sleep'], 'attributes': {}, 'event_detection_time': 0.0035590899642556906}, {'text': 'lungs clear, diminished in bases but a very congested cough', 'event': ['Unknown'], 'keyword': [''], 'keyword_position': [''], 'lemma': [''], 'attributes': {}, 'event_detection_time': 0.0035498409997671843}, {'text': 'uses is with enouragement', 'event': ['Unknown'], 'keyword': [''], 'keyword_position': [''], 'lemma': [''], 'attributes': {}, 'event_detection_time': 0.003503505140542984}, {'text': 'pao2 low', 'event': ['Unknown'], 'keyword': [''], 'keyword_position': [''], 'lemma': [''], 'attributes': {}, 'event_detection_time': 0.003441785927861929}, {'text': 'iv lasix given in evening', 'event': ['Unknown'], 'keyword': [''], 'keyword_position': [''], 'lemma': [''], 'attributes': {}, 'event_detection_time': 0.003533900948241353}, {'text': 'cts draining serosanginous fluid, no airleak', 'event': ['Unknown'], 'keyword': [''], 'keyword_position': [''], 'lemma': [''], 'attributes': {}, 'event_detection_time': 0.0035777660086750984}, {'text': 'neuro::', 'event': ['Unknown'], 'keyword': [''], 'keyword_position': [''], 'lemma': [''], 'attributes': {}, 'event_detection_time': 0.0034237420186400414}, {'text': 'patient very sleepy', 'event': ['Unknown'], 'keyword': [''], 'keyword_position': [''], 'lemma': [''], 'attributes': {}, 'event_detection_time': 0.00351230101659894}, {'text': 'oreinted', 'event': ['Unknown'], 'keyword': [''], 'keyword_position': [''], 'lemma': [''], 'attributes': {}, 'event_detection_time': 0.0034438110888004303}, {'text': 'c/o incisional pain', 'event': ['Pain'], 'keyword': ['pain'], 'keyword_position': ['15_19'], 'lemma': ['pain'], 'attributes': {}, 'event_detection_time': 0.0035013698507100344}, {'text': 'morphine and percocets for pain because patient is having difficulty coughing due to pain', 'event': ['Pain', 'Pain'], 'keyword': ['pain', 'pain'], 'keyword_position': ['27_31', '85_89'], 'lemma': ['pain', 'pain'], 'attributes': {}, 'event_detection_time': 0.003548760898411274}, {'text': 'wife in to visit today', 'event': ['Unknown'], 'keyword': [''], 'keyword_position': [''], 'lemma': [''], 'attributes': {}, 'event_detection_time': 0.0035117489751428366}, {'text': 'gu:  uop dropping, iv lasix just given', 'event': ['Unknown'], 'keyword': [''], 'keyword_position': [''], 'lemma': [''], 'attributes': {}, 'event_detection_time': 0.0035228910855948925}, {'text': 'gi:  hypo bowel sounds', 'event': ['Unknown'], 'keyword': [''], 'keyword_position': [''], 'lemma': [''], 'attributes': {}, 'event_detection_time': 0.0034993558656424284}, {'text': 'patient ate [**11-21**] breakfast and lunch, no dinner', 'event': ['Eating', 'Eating', 'Eating'], 'keyword': ['ate', 'breakfast', 'lunch'], 'keyword_position': ['8_11', '24_33', '38_43'], 'lemma': ['eat', 'breakfast', 'lunch'], 'attributes': {}, 'event_detection_time': 0.005818373989313841}, {'text': 'endo:  bg treated with riss', 'event': ['Unknown'], 'keyword': [''], 'keyword_position': [''], 'lemma': [''], 'attributes': {}, 'event_detection_time': 0.0035398530308157206}, {'text': 'plan:  needs pulmonary toilet, wean neo drops as bp tolerates', 'event': ['Unknown'], 'keyword': [''], 'keyword_position': [''], 'lemma': [''], 'attributes': {}, 'event_detection_time': 0.0036430491600185633}]                                                                                                                                                                                                                                                                                                                                                                                                                                                                                                                                                                                                                                                                                                                                                                                                                                                                                                                                                      1\n",
       "[{'text': '1900-0700', 'event': ['Unknown'], 'keyword': [''], 'keyword_position': [''], 'lemma': [''], 'attributes': {}, 'event_detection_time': 0.003478185972198844}, {'text': 'events: med for pain with percocet with relief/ cv-remains apaced 80's underlying sr 70's remains on neo for diastolic blood pressure>90 with standing diastolic blood pressure drops to 70 patient denies feeling dizxy once in bed/chair diastolic blood pressure improves ct minimal output resp-poor effort with cdb/ cpt done and enc ics patient expecturating thick white/old blood tinged/ cont pulm toilet', 'event': ['Pain'], 'keyword': ['pain'], 'keyword_position': ['16_20'], 'lemma': ['pain'], 'attributes': {}, 'event_detection_time': 0.0037135621532797813}, {'text': 'plan-ck hct may need volume and then neo to wean/adv activity/ cont pain management and pulm toilet', 'event': ['Pain'], 'keyword': ['pain'], 'keyword_position': ['68_72'], 'lemma': ['pain'], 'attributes': {}, 'event_detection_time': 0.0036046470049768686}]                                                                                                                                                                                                                                                                                                                                                                                                                                                                                                                                                                                                                                                                                                                                                                                                                                                                                                                                                                                                                                                                                                                                                                                                                                                                                                                                                                                                                                                                                                                                                                                                                                                                                                                                                                                                                                                                                                                                                                                                                                                                                                                                                                                                                                                                                                                                                                                                                                                                                                                                                                                                                                                                                                                                                                                                                                                                                                                                                                                                                                                                                                                                                                                                                                                                                                                                                                                                                                                                                                                                                                                                                                                                                                                                                                                                                                                                                                                                                                                                                                                                                                                                                                                                                                                                                                                                                                                                                                                                                                                                                                                                                                                                                                                                                                                                                                                                                                                                                                                                                                                                                                                                                                                                                                                                                                                                                                                                                                                                                                                                                                                                                                                                                                                                    1\n",
       "                                                                                                                                                                                                                                                                                                                                                                                                                                                                                                                                                                                                                                                                                                                                                                                                                                                                                                                                                                                                                                                                                                                                                                                                                                                                                                                                                                                                                                                                                                                                                                                                                                                                                                                                                                                                                                                                                                                                                                                                                                                                                                                                                                                                                                                                                                                                                                                                                                                                                                                                                                                                                                                                                                                                                                                                                                                                                                                                                                                                                                                                                                                                                                                                                                                                                                                                                                                                                                                                                                                                                                                                                                                                                                                                                                                                                                                                                                                                                                                                                                                                                                                                                                                                                                                                                                                                                                                                                                                                                                                                                                                                                                                                                                                                                                                                                                                                                                                                                                                                                                                                                                                                                                                                                                                                                                                                                                                                                                                                                                                                                                                                                                                                                                                                                                                                                                                                                                                                                                                                                                                                                                                                                                                                                                                                                                                                                                                                                                                                                                                                                                                                                                                                                                                                                                                  ..\n",
       "[{'text': 'please see carevue for specifics', 'event': ['Unknown'], 'keyword': [''], 'keyword_position': [''], 'lemma': [''], 'attributes': {}, 'event_detection_time': 0.0034660128876566887}, {'text': 'neuro:patient opens his eyes to voice, orientedx2 sometimes he can tell which month it is', 'event': ['Unknown'], 'keyword': [''], 'keyword_position': [''], 'lemma': [''], 'attributes': {}, 'event_detection_time': 0.0035052280873060226}, {'text': 'moves ext's, perrla 3mm brisk', 'event': ['Unknown'], 'keyword': [''], 'keyword_position': [''], 'lemma': [''], 'attributes': {}, 'event_detection_time': 0.003449381096288562}, {'text': 'complained about incisonal pain, dilaudid 1mg given for pain w/good effect', 'event': ['Pain', 'Pain'], 'keyword': ['pain', 'pain'], 'keyword_position': ['27_31', '56_60'], 'lemma': ['pain', 'pain'], 'attributes': {}, 'event_detection_time': 0.003487874986603856}, {'text': 'cv:patient remains in nsr w/no ectopies, diastolic blood pressure 120-150's, metoprolol 5mg q6h given', 'event': ['Unknown'], 'keyword': [''], 'keyword_position': [''], 'lemma': [''], 'attributes': {}, 'event_detection_time': 0.003483927110210061}, {'text': 'low grade fever, tmax 99.9.kcl repleted', 'event': ['Unknown'], 'keyword': [''], 'keyword_position': [''], 'lemma': [''], 'attributes': {}, 'event_detection_time': 0.003442447865381837}, {'text': 'resp:ls are diminished at bases, patient on humidified face mask, weaned down on fio2 to 50%, tolerating weel', 'event': ['Unknown'], 'keyword': [''], 'keyword_position': [''], 'lemma': [''], 'attributes': {}, 'event_detection_time': 0.00346673303283751}, {'text': 'has secretios, good cough, able to spit out secretions, needs pulm hygien', 'event': ['Unknown'], 'keyword': [''], 'keyword_position': [''], 'lemma': [''], 'attributes': {}, 'event_detection_time': 0.0034734581131488085}, {'text': 'gets wheezy time to time, nebulizars given w/good effect', 'event': ['Unknown'], 'keyword': [''], 'keyword_position': [''], 'lemma': [''], 'attributes': {}, 'event_detection_time': 0.0034628980793058872}, {'text': 'gi/gu:abdomen remains firm, jp intact w/small amt of serous drainage, oozy aroud incision, team aware', 'event': ['Unknown'], 'keyword': [''], 'keyword_position': [''], 'lemma': [''], 'attributes': {}, 'event_detection_time': 0.0034935649018734694}, {'text': 'abdomen icsion dsd/intact needs to change', 'event': ['Unknown'], 'keyword': [''], 'keyword_position': [''], 'lemma': [''], 'attributes': {}, 'event_detection_time': 0.0034393221139907837}, {'text': 'foley patent, urine o/p was ~60cc/h, than dropped to 35cc @4am, we are following now, dr', 'event': ['Excretion'], 'keyword': ['urine'], 'keyword_position': ['14_19'], 'lemma': ['urine'], 'attributes': {}, 'event_detection_time': 0.0034969609696418047}, {'text': '[**last name (stitle) 649**] made aware', 'event': ['Unknown'], 'keyword': [''], 'keyword_position': [''], 'lemma': [''], 'attributes': {}, 'event_detection_time': 0.003442979883402586}, {'text': 'endo:patient on sliding scale, needed little coverage', 'event': ['Unknown'], 'keyword': [''], 'keyword_position': [''], 'lemma': [''], 'attributes': {}, 'event_detection_time': 0.0034562740474939346}, {'text': 'skin:abdominal incision dsd/intact', 'event': ['Unknown'], 'keyword': [''], 'keyword_position': [''], 'lemma': [''], 'attributes': {}, 'event_detection_time': 0.0034401339944452047}, {'text': 'patient upper body still red, warm, dr.[**last name (stitle) 649**] aware', 'event': ['Unknown'], 'keyword': [''], 'keyword_position': [''], 'lemma': [''], 'attributes': {}, 'event_detection_time': 0.0034709731116890907}, {'text': 'plan:continue to monitor urine o/p, resp status, wean down to nc as tolerated, pulm hygiene, if jp drainage gets bilious, make team aware', 'event': ['Excretion'], 'keyword': ['urine'], 'keyword_position': ['25_30'], 'lemma': ['urine'], 'attributes': {}, 'event_detection_time': 0.003508844180032611}, {'text': 'continue current plan', 'event': ['Unknown'], 'keyword': [''], 'keyword_position': [''], 'lemma': [''], 'attributes': {}, 'event_detection_time': 0.003437599167227745}]                                                                                                                                                                                                                                                                                                                                                                                                                                                                                                                                                                                                                                                                                                                                                                                                                                                                                                                                                                                                                                                                                                                                                                                                                                                                                                                                                                                                                                                                                                                                                                                                                                                                                                                                                                                                                                                                                                                                                                                                                                                                                                                                                                                                                                                                                                                                                                                                                                                                                            1\n",
       "[{'text': 'add: patient arms, abd', 'event': ['Unknown'], 'keyword': [''], 'keyword_position': [''], 'lemma': [''], 'attributes': {}, 'event_detection_time': 0.003436806844547391}, {'text': 'and legs reddened', 'event': ['Unknown'], 'keyword': [''], 'keyword_position': [''], 'lemma': [''], 'attributes': {}, 'event_detection_time': 0.0034203059040009975}, {'text': 'patient c/o pain at iv site, able to flush without difficult, dr', 'event': ['Pain'], 'keyword': ['pain'], 'keyword_position': ['12_16'], 'lemma': ['pain'], 'attributes': {}, 'event_detection_time': 0.003455823054537177}, {'text': '[**last name (stitle) **] into assess patient', 'event': ['Unknown'], 'keyword': [''], 'keyword_position': [''], 'lemma': [''], 'attributes': {}, 'event_detection_time': 0.0034481489565223455}]                                                                                                                                                                                                                                                                                                                                                                                                                                                                                                                                                                                                                                                                                                                                                                                                                                                                                                                                                                                                                                                                                                                                                                                                                                                                                                                                                                                                                                                                                                                                                                                                                                                                                                                                                                                                                                                                                                                                                                                                                                                                                                                                                                                                                                                                                                                                                                                                                                                                                                                                                                                                                                                                                                                                                                                                                                                                                                                                                                                                                                                                                                                                                                                                                                                                                                                                                                                                                                                                                                                                                                                                                                                                                                                                                                                                                                                                                                                                                                                                                                                                                                                                                                                                                                                                                                                                                                                                                                                                                                                                                                                                                                                                                                                                                                                                                                                                                                                                                                                                                                                                                                                                                                                                                                                                                                                                                                                                                                                                                                                                                                                                                                                                                                                                                                                                                                                                                                                                                           1\n",
       "[{'text': 'significant events: patient self-extubated', 'event': ['Unknown'], 'keyword': [''], 'keyword_position': [''], 'lemma': [''], 'attributes': {}, 'event_detection_time': 0.003476163139566779}, {'text': 'propfol and fentanyl off', 'event': ['Unknown'], 'keyword': [''], 'keyword_position': [''], 'lemma': [''], 'attributes': {}, 'event_detection_time': 0.0034422778990119696}, {'text': 'nuero: patient open his eyes when you call his name', 'event': ['Unknown'], 'keyword': [''], 'keyword_position': [''], 'lemma': [''], 'attributes': {}, 'event_detection_time': 0.0034705610014498234}, {'text': 'patient oreinted to self, hospital and year', 'event': ['Unknown'], 'keyword': [''], 'keyword_position': [''], 'lemma': [''], 'attributes': {}, 'event_detection_time': 0.0034635690972208977}, {'text': 'patient does follow commands', 'event': ['Unknown'], 'keyword': [''], 'keyword_position': [''], 'lemma': [''], 'attributes': {}, 'event_detection_time': 0.00343101704493165}, {'text': 'pain: fentanyl remains off', 'event': ['Pain'], 'keyword': ['pain'], 'keyword_position': ['0_4'], 'lemma': ['pain'], 'attributes': {}, 'event_detection_time': 0.003448840929195285}, {'text': 'patient denies any c/o abd. pain', 'event': ['Pain'], 'keyword': ['pain'], 'keyword_position': ['28_32'], 'lemma': ['pain'], 'attributes': {}, 'event_detection_time': 0.0034555329475551844}, {'text': 'pulm: patient self extubated his self at ~1530', 'event': ['Unknown'], 'keyword': [''], 'keyword_position': [''], 'lemma': [''], 'attributes': {}, 'event_detection_time': 0.003474028082564473}, {'text': 'lungs diminished at bases', 'event': ['Unknown'], 'keyword': [''], 'keyword_position': [''], 'lemma': [''], 'attributes': {}, 'event_detection_time': 0.003475861856713891}, {'text': 'patient on 80% humidified face mask', 'event': ['Unknown'], 'keyword': [''], 'keyword_position': [''], 'lemma': [''], 'attributes': {}, 'event_detection_time': 0.0034682070836424828}, {'text': 'abg 7.35/50/119/29, dr', 'event': ['Unknown'], 'keyword': [''], 'keyword_position': [''], 'lemma': [''], 'attributes': {}, 'event_detection_time': 0.003459320170804858}, {'text': '[**last name (stitle) **]', 'event': ['Unknown'], 'keyword': [''], 'keyword_position': [''], 'lemma': [''], 'attributes': {}, 'event_detection_time': 0.003453579032793641}, {'text': '[**last name (namepattern4) **] aware', 'event': ['Unknown'], 'keyword': [''], 'keyword_position': [''], 'lemma': [''], 'attributes': {}, 'event_detection_time': 0.0034773549996316433}, {'text': 'cards: patient in sr, no vea noted', 'event': ['Unknown'], 'keyword': [''], 'keyword_position': [''], 'lemma': [''], 'attributes': {}, 'event_detection_time': 0.0034567960537970066}, {'text': 'diastolic blood pressure has been greater than 120's.patient continues on lopressor 5mg every six hours', 'event': ['Unknown'], 'keyword': [''], 'keyword_position': [''], 'lemma': [''], 'attributes': {}, 'event_detection_time': 0.003515816992148757}, {'text': 'gi: abd remains firm but soft, no bowel sound noted', 'event': ['Unknown'], 'keyword': [''], 'keyword_position': [''], 'lemma': [''], 'attributes': {}, 'event_detection_time': 0.0034816318657249212}, {'text': 'jp to self suctioning draining serousangious drainage', 'event': ['Unknown'], 'keyword': [''], 'keyword_position': [''], 'lemma': [''], 'attributes': {}, 'event_detection_time': 0.0034880449529737234}, {'text': 'patient took og tube out when he self extubated', 'event': ['Unknown'], 'keyword': [''], 'keyword_position': [''], 'lemma': [''], 'attributes': {}, 'event_detection_time': 0.003472395008429885}, {'text': 'abd. incision dsg dry and intact', 'event': ['Unknown'], 'keyword': [''], 'keyword_position': [''], 'lemma': [''], 'attributes': {}, 'event_detection_time': 0.003468527924269438}, {'text': 'gu:  u/o 22 cc for one hour, dr', 'event': ['Unknown'], 'keyword': [''], 'keyword_position': [''], 'lemma': [''], 'attributes': {}, 'event_detection_time': 0.003519805148243904}, {'text': '[**last name (stitle) **] aware, bladder pressure done 21, dr', 'event': ['Unknown'], 'keyword': [''], 'keyword_position': [''], 'lemma': [''], 'attributes': {}, 'event_detection_time': 0.0034966710954904556}, {'text': '[**last name (stitle) **] aware', 'event': ['Unknown'], 'keyword': [''], 'keyword_position': [''], 'lemma': [''], 'attributes': {}, 'event_detection_time': 0.0034768329933285713}, {'text': 'f/e k 3.8 patient to recieved 20meq kcl/250', 'event': ['Unknown'], 'keyword': [''], 'keyword_position': [''], 'lemma': [''], 'attributes': {}, 'event_detection_time': 0.0034997679758816957}, {'text': 'blood sugar 93, total bilirubin 1.7', 'event': ['Unknown'], 'keyword': [''], 'keyword_position': [''], 'lemma': [''], 'attributes': {}, 'event_detection_time': 0.0034620549995452166}, {'text': 'i', 'event': ['Unknown'], 'keyword': [''], 'keyword_position': [''], 'lemma': [''], 'attributes': {}, 'event_detection_time': 0.0033179218880832195}, {'text': 'd: temp 101.7, dr', 'event': ['Unknown'], 'keyword': [''], 'keyword_position': [''], 'lemma': [''], 'attributes': {}, 'event_detection_time': 0.0034949779510498047}, {'text': '[**last name (stitle) **] aware, no blood cultures ordered', 'event': ['Unknown'], 'keyword': [''], 'keyword_position': [''], 'lemma': [''], 'attributes': {}, 'event_detection_time': 0.0034824940375983715}, {'text': 'patient recieved tylenol pr', 'event': ['Unknown'], 'keyword': [''], 'keyword_position': [''], 'lemma': [''], 'attributes': {}, 'event_detection_time': 0.003464370034635067}, {'text': 'social: patient wife update by dr', 'event': ['Unknown'], 'keyword': [''], 'keyword_position': [''], 'lemma': [''], 'attributes': {}, 'event_detection_time': 0.003502792911604047}, {'text': '[**last name (stitle) **]', 'event': ['Unknown'], 'keyword': [''], 'keyword_position': [''], 'lemma': [''], 'attributes': {}, 'event_detection_time': nan}, {'text': 'plan: continue to monitor, monitor resp', 'event': ['Unknown'], 'keyword': [''], 'keyword_position': [''], 'lemma': [''], 'attributes': {}, 'event_detection_time': 0.0035119999665766954}, {'text': 'status, monitor u/ocheck bladder pressure every six hours as ordered', 'event': ['Unknown'], 'keyword': [''], 'keyword_position': [''], 'lemma': [''], 'attributes': {}, 'event_detection_time': 0.0034760821145027876}, {'text': 'check electroyltes and replete electroyles as ordered', 'event': ['Unknown'], 'keyword': [''], 'keyword_position': [''], 'lemma': [''], 'attributes': {}, 'event_detection_time': 0.0034845080226659775}]    1\n",
       "[{'text': 'respiratory care', 'event': ['Unknown'], 'keyword': [''], 'keyword_position': [''], 'lemma': [''], 'attributes': {}, 'event_detection_time': 0.0034289630129933357}, {'text': 'patient self extubated and placed on a .80% hi-flow aerosol b/s dim in lung fields', 'event': ['Unknown'], 'keyword': [''], 'keyword_position': [''], 'lemma': [''], 'attributes': {}, 'event_detection_time': 0.0035124518908560276}, {'text': 'patient has stridor on deep breaths', 'event': ['Unknown'], 'keyword': [''], 'keyword_position': [''], 'lemma': [''], 'attributes': {}, 'event_detection_time': 0.003467767033725977}, {'text': 'abg pending will continue to follow closely', 'event': ['Unknown'], 'keyword': [''], 'keyword_position': [''], 'lemma': [''], 'attributes': {}, 'event_detection_time': 0.0034854598343372345}]                                                                                                                                                                                                                                                                                                                                                                                                                                                                                                                                                                                                                                                                                                                                                                                                                                                                                                                                                                                                                                                                                                                                                                                                                                                                                                                                                                                                                                                                                                                                                                                                                                                                                                                                                                                                                                                                                                                                                                                                                                                                                                                                                                                                                                                                                                                                                                                                                                                                                                                                                                                                                                                                                                                                                                                                                                                                                                                                                                                                                                                                                                                                                                                                                                                                                                                                                                                                                                                                                                                                                                                                                                                                                                                                                                                                                                                                                                                                                                                                                                                                                                                                                                                                                                                                                                                                                                                                                                                                                                                                                                                                                                                                                                                                                                                                                                                                                                                                                                                                                                                                                                                                                                                                                                                                                                                                                                                                                                                                                                                                                                                                                                                                                                                                                                                                                                                                                                                                        1\n",
       "[{'text': 'addendum::', 'event': ['Unknown'], 'keyword': [''], 'keyword_position': [''], 'lemma': [''], 'attributes': {}, 'event_detection_time': 0.0033966919872909784}, {'text': 'cardiac: patient', 'event': ['Unknown'], 'keyword': [''], 'keyword_position': [''], 'lemma': [''], 'attributes': {}, 'event_detection_time': 0.003440893953666091}, {'text': 'had a 6 beat ?', 'event': ['Unknown'], 'keyword': [''], 'keyword_position': [''], 'lemma': [''], 'attributes': {}, 'event_detection_time': 0.0034318279940634966}, {'text': 'vtach', 'event': ['Unknown'], 'keyword': [''], 'keyword_position': [''], 'lemma': [''], 'attributes': {}, 'event_detection_time': 0.0033307569101452827}, {'text': 'vs aberancy?', 'event': ['Unknown'], 'keyword': [''], 'keyword_position': [''], 'lemma': [''], 'attributes': {}, 'event_detection_time': 0.003431337885558605}, {'text': 'np notified and made aware of strip', 'event': ['Unknown'], 'keyword': [''], 'keyword_position': [''], 'lemma': [''], 'attributes': {}, 'event_detection_time': 0.003450673073530197}, {'text': 'no other ectopy noted', 'event': ['Unknown'], 'keyword': [''], 'keyword_position': [''], 'lemma': [''], 'attributes': {}, 'event_detection_time': 0.003439342835918069}]                                                                                                                                                                                                                                                                                                                                                                                                                                                                                                                                                                                                                                                                                                                                                                                                                                                                                                                                                                                                                                                                                                                                                                                                                                                                                                                                                                                                                                                                                                                                                                                                                                                                                                                                                                                                                                                                                                                                                                                                                                                                                                                                                                                                                                                                                                                                                                                                                                                                                                                                                                                                                                                                                                                                                                                                                                                                                                                                                                                                                                                                                                                                                                                                                                                                                                                                                                                                                                                                                                                                                                                                                                                                                                                                                                                                                                                                                                                                                                                                                                                                                                                                                                                                                                                                                                                                                                                                                                                                                                                                                                                                                                                                                                                                                                                                                                                                                                                                                                                                                                                                                                                                                                                                                                                                                                                                                                                                                                                                                                             1\n",
       "Name: count, Length: 12524, dtype: int64"
      ]
     },
     "execution_count": 4,
     "metadata": {},
     "output_type": "execute_result"
    }
   ],
   "source": [
    "import pandas as pd\n",
    "df = pd.read_pickle(\"../exports/03b_selected_reports_with_event_log_only_dictionary_v2/combined.pkl\")\n",
    "df.Events.value_counts()"
   ]
  },
  {
   "cell_type": "code",
   "execution_count": 19,
   "id": "5f370ca7",
   "metadata": {},
   "outputs": [
    {
     "data": {
      "text/plain": [
       "Event_Name_LLM_Events_example_evidence_Sent_Sleep  is_patient  Actor_LLM_Events_example_evidence_Sent_Sleep\n",
       "True                                               True        (patient,)                                      427\n",
       "False                                              True        ()                                              409\n",
       "True                                               True        (patient, patient)                                9\n",
       "False                                              False       (family member,)                                  4\n",
       "                                                   True        (family member,)                                  2\n",
       "True                                               False       (patient,)                                        2\n",
       "False                                              False       (patient's son,)                                  1\n",
       "                                                   True        (others,)                                         1\n",
       "True                                               True        (patient, patient, patient)                       1\n",
       "Name: count, dtype: int64"
      ]
     },
     "execution_count": 19,
     "metadata": {},
     "output_type": "execute_result"
    }
   ],
   "source": [
    "import pandas as pd\n",
    "df = pd.read_pickle(\"../exports/04c_groundtruth/P-SET/Annotated/Sleep_Sentences.pkl\")\n",
    "df.CHARTTIME = pd.to_datetime(df.CHARTTIME)\n",
    "df.STORETIME = pd.to_datetime(df.STORETIME)\n",
    "uid_to_is_patient = df.groupby(\"UID\")['is_patient'].max().to_dict()\n",
    "df_llm = pd.read_excel(\"../exports/06b_analysis/llama3.1:70b_V4/Sleep/all_correct_Sleep_Sentences_att_True.xlsx\")\n",
    "df_llm['is_patient'] = df_llm.UID.apply(lambda x: uid_to_is_patient.get(x, True))\n",
    "df_llm['Actor_LLM_Events_example_evidence_Sent_Sleep'] = df_llm['Actor_LLM_Events_example_evidence_Sent_Sleep'].apply(lambda x: tuple(eval(x)))\n",
    "df_llm[['Event_Name_LLM_Events_example_evidence_Sent_Sleep','is_patient','Actor_LLM_Events_example_evidence_Sent_Sleep']].value_counts()\n"
   ]
  },
  {
   "cell_type": "code",
   "execution_count": 29,
   "id": "5fccd5bc",
   "metadata": {},
   "outputs": [
    {
     "data": {
      "text/plain": [
       "0      (1991-09-11 14:38:00, 1991-09-11 14:59:00)\n",
       "1      (1991-09-11 14:38:00, 1991-09-11 14:59:00)\n",
       "2      (1991-09-12 05:21:00, 1991-09-12 05:55:00)\n",
       "3      (1991-09-12 05:21:00, 1991-09-12 05:55:00)\n",
       "4      (1991-09-10 05:20:00, 1991-09-10 05:50:00)\n",
       "                          ...                    \n",
       "895    (2008-10-01 04:45:00, 2008-10-01 05:07:00)\n",
       "896    (2008-10-05 05:02:00, 2008-10-05 05:15:00)\n",
       "897    (1931-12-21 17:12:00, 1931-12-21 17:26:00)\n",
       "898    (2008-10-02 03:38:00, 2008-10-02 04:35:00)\n",
       "899    (1994-03-09 18:23:00, 1994-03-09 18:41:00)\n",
       "Name: DCT, Length: 900, dtype: object"
      ]
     },
     "execution_count": 29,
     "metadata": {},
     "output_type": "execute_result"
    }
   ],
   "source": [
    "def fixdates(a,b):\n",
    "    a = a - pd.Timedelta(weeks=54*165)\n",
    "    b = b - pd.Timedelta(weeks=54*165)\n",
    "    return (a,b)\n",
    "df['DCT'] = [fixdates(r['CHARTTIME'], r['STORETIME']) for _,r in df.iterrows()]\n",
    "df['DCT']"
   ]
  },
  {
   "cell_type": "code",
   "execution_count": 28,
   "id": "7fcfb345",
   "metadata": {},
   "outputs": [
    {
     "data": {
      "text/plain": [
       "Timestamp('2025-06-19 00:07:00')"
      ]
     },
     "execution_count": 28,
     "metadata": {},
     "output_type": "execute_result"
    }
   ],
   "source": [
    "df.STORETIME.max() - pd.Timedelta(weeks = 54*170)"
   ]
  },
  {
   "cell_type": "code",
   "execution_count": null,
   "execution_count": 23,
   "id": "07fc29b6",
   "metadata": {},
   "outputs": [
    {
     "data": {
      "text/plain": [
       "0      (2161-06-03 14:38:00, 2161-06-03 14:59:00)\n",
       "1      (2161-06-03 14:38:00, 2161-06-03 14:59:00)\n",
       "2      (2161-06-04 05:21:00, 2161-06-04 05:55:00)\n",
       "3      (2161-06-04 05:21:00, 2161-06-04 05:55:00)\n",
       "4      (2161-06-02 05:20:00, 2161-06-02 05:50:00)\n",
       "                          ...                    \n",
       "895    (2178-06-24 04:45:00, 2178-06-24 05:07:00)\n",
       "896    (2178-06-28 05:02:00, 2178-06-28 05:15:00)\n",
       "897    (2101-09-12 17:12:00, 2101-09-12 17:26:00)\n",
       "898    (2178-06-25 03:38:00, 2178-06-25 04:35:00)\n",
       "899    (2163-11-30 18:23:00, 2163-11-30 18:41:00)\n",
       "Name: DCT, Length: 900, dtype: object"
       "['dozes briefly',\n",
       " 'but then able to doze/sleep on own',\n",
       " 'patient dozed intermittently overnoc',\n",
       " 'denies hallucinations, but was noted to doze off this a.m. and swat with hands in the air',\n",
       " 'dozed on/off overnoc, but easily arousable',\n",
       " 'able to rest without cough and doze intermittantly']"
      ]
     },
     "execution_count": 15,
     "execution_count": 23,
     "metadata": {},
     "output_type": "execute_result"
    }
   ],
   "source": []
  },
  {
   "cell_type": "code",
   "execution_count": 2,
   "id": "67f7991d",
   "metadata": {},
   "outputs": [
    {
     "name": "stdout",
     "output_type": "stream",
     "text": [
      "**Task: Event Classification and Attribute Extraction** \n",
      "Your task is to analyze the Text below and extract all events that occurred during the current hospital shift (the time the note was written).\n",
      "Classify each event into one or more of the following categories:\n",
      "Category\tDefinition\n",
      "Eating\tThe patient takes food into their body by mouth.\n",
      "Excretion\tThe patient discharges waste matter from their body.\n",
      "Family\tThe patient has a visit, call, or communication with a family member.\n",
      "Pain\tThe patient reports or shows signs of pain.\n",
      "Sleep\tThe patient sleeps or the sleep’s quality or quantity is described.\n",
      "Unknown\tchoose \"Unknown\" if none of the other event type are applicable..\n",
      "\n",
      "**Rules and Conditions** \n",
      "1. Time constraint: Consider only actions that occurred during the current shift as events. \n",
      "2. Event constraint: Consider patient history, planning and requests as case attributes. Log them seperately. \n",
      "3. Actor constraint: Find out who is the main actor of the event.\n",
      "4. Negation Rule: Extract an event even if negated (e.g. “did not sleep”), and set \"negation\": true.\n",
      "5. Default Assumptions: \n",
      "        - If actor unclear → \"actor\":\"patient\"\n",
      "        - If time not mentioned → \"time\": \"Unknown\" \n",
      "        - If cause not mentioned → \"caused_by\": \"Unknown\" \n",
      "6. Clarifications:\n",
      "        - Sedation/resting ≠ sleep events.\n",
      "        - Sleep apnea occurs during sleep.\n",
      "        - Actions done to enable an event do not imply the event occurred (e.g., “given med for sleep” ≠ sleep).\n",
      "For each detected event, output strictly valid JSON following the schema below: \n",
      "```\n",
      "    \n",
      "                        {   \n",
      "                        \"case_attributes\":[ \n",
      "                        //all patient-related details that did NOT occur during the current hospital shift, including past history, future plans, or events that happened at home or outside the hospital.\n",
      "                            {\n",
      "                            \"attribute_name\":\"attribute_value\" \n",
      "                            }\n",
      "                        ]  \n",
      "                        \"events\": [ \n",
      "                        //events occurred/occurring DURING THE SHIFT\n",
      "                            { \n",
      "                            \"event_id\": string, (\"e1\", \"e2\", etc.)\n",
      "                            \"event_type\": string (\"Sleep\", \"Excretion\", \"Eating\", \"Family\", \"Pain\", \"Unknown\"), \n",
      "                            \"text_quote\": string (fragment of the text from which attributes are extracted), \n",
      "                            \"actor\": string (\"patient\", \"family member\", \"others\"),\n",
      "                            \"object\": string (\"patient\", \"family member\", \"others\"),\n",
      "                            \"negation\": boolean, (true if the event is negated e.g., did not sleep. false otherwise)\n",
      "                            \"time\": string (e.g., am, morning, 5pm . default: \"Unknown\"), \n",
      "                            \"caused_by\": string (name of another event that caused this event. default: \"Unknown\"), \n",
      "                            \"event_attributes\": { \n",
      "                            // Only extract attributes for events present in the text:\n",
      "                            \"Sleep\": { \n",
      "                            \"quality\": string (e.g., poor, good, etc.),\n",
      "                            \"duration\": string (e.g., short, on and off, etc.),\n",
      "                            }, \n",
      "                            \"Excretion\": { \n",
      "                            \"type\": string (e.g., urine, stool, etc.),\n",
      "                            \"frequency\": string (e.g., 2x, rare, etc.),\n",
      "                            \"quality\": string (e.g., hard, yellow, etc.)\n",
      "                            }, \n",
      "                            \"Family\": { \n",
      "                            \"interaction\": string (e.g., visit, call, communication, etc.), \n",
      "                            \"relation\": string (e.g., mother, son, etc.)\n",
      "                            }, \n",
      "                            \"Pain\": { \n",
      "                            \"severity\": string (e.g., mild, moderate, severe, numeric scale if present, etc.), \n",
      "                            \"location\": string (e.g., right knee, head, etc.), \n",
      "                            \"duration\": string (e.g., all night, 3 hours, etc.)\n",
      "                            }, \n",
      "                            \"Eating\": { \n",
      "                            \"food\": string, (e.g., pancakes, porridge, etc.)\n",
      "                            \"amount\": string, (e.g., 1, 2 bowls, etc.)\n",
      "                            \"method\": string (e.g., oral, tube, etc.)\n",
      "                            } \n",
      "                            } \n",
      "                            } \n",
      "                        ], \n",
      "                        \"order\": [ \n",
      "                        //partial order of extracted events\n",
      "                            { \n",
      "                            \"event_id_1\": string, (e1, e2...)\n",
      "                            \"relation\": string (\"before\", \"after\", \"simultaneous\", \"unknown\"), \n",
      "                            \"event_id_2\": string (e1, e2...)\n",
      "                            } \n",
      "                        ],\n",
      "                        \n",
      "                        }  \n",
      "```\n",
      "**Examples for Sleep Classification**\n",
      "\n",
      "                1. Include as Sleep Event**\n",
      "                - \"Patient slept for 2 hours.\"\n",
      "                - \"heart rate 50pbm while asleep\"\n",
      "\n",
      "                2. Do NOT include as Sleep Event**\n",
      "                - \"Patient asked for sleeping pill.\" (Request, not event)\n",
      "                - \"Patient wants to sleep later.\" (Future plan)\n",
      "                - \"Patient fell asleep while driving (history).\" (Before shift)\n",
      "                - \"Patient was sedated/put to sleep for procedure.\" (Sedation)\n",
      "                - \"Daughter slept in the room.\" (Actor ≠ patient)\n",
      "\n",
      "**Text**\n",
      "Written between 1985-06-18 10:35:00 and 1985-06-18 11:03:00:\n",
      "'patient remains awake through procedure, but relaxed'\n",
      "\n"
     ]
    }
   ],
   "source": [
    "print('**Task: Event Classification and Attribute Extraction** \\nYour task is to analyze the Text below and extract all events that occurred during the current hospital shift (the time the note was written).\\nClassify each event into one or more of the following categories:\\nCategory\\tDefinition\\nEating\\tThe patient takes food into their body by mouth.\\nExcretion\\tThe patient discharges waste matter from their body.\\nFamily\\tThe patient has a visit, call, or communication with a family member.\\nPain\\tThe patient reports or shows signs of pain.\\nSleep\\tThe patient sleeps or the sleep’s quality or quantity is described.\\nUnknown\\tchoose \"Unknown\" if none of the other event type are applicable..\\n\\n**Rules and Conditions** \\n1. Time constraint: Consider only actions that occurred during the current shift as events. \\n2. Event constraint: Consider patient history, planning and requests as case attributes. Log them seperately. \\n3. Actor constraint: Find out who is the main actor of the event.\\n4. Negation Rule: Extract an event even if negated (e.g. “did not sleep”), and set \"negation\": true.\\n5. Default Assumptions: \\n        - If actor unclear → \"actor\":\"patient\"\\n        - If time not mentioned → \"time\": \"Unknown\" \\n        - If cause not mentioned → \"caused_by\": \"Unknown\" \\n6. Clarifications:\\n        - Sedation/resting ≠ sleep events.\\n        - Sleep apnea occurs during sleep.\\n        - Actions done to enable an event do not imply the event occurred (e.g., “given med for sleep” ≠ sleep).\\nFor each detected event, output strictly valid JSON following the schema below: \\n```\\n    \\n                        {   \\n                        \"case_attributes\":[ \\n                        //all patient-related details that did NOT occur during the current hospital shift, including past history, future plans, or events that happened at home or outside the hospital.\\n                            {\\n                            \"attribute_name\":\"attribute_value\" \\n                            }\\n                        ]  \\n                        \"events\": [ \\n                        //events occurred/occurring DURING THE SHIFT\\n                            { \\n                            \"event_id\": string, (\"e1\", \"e2\", etc.)\\n                            \"event_type\": string (\"Sleep\", \"Excretion\", \"Eating\", \"Family\", \"Pain\", \"Unknown\"), \\n                            \"text_quote\": string (fragment of the text from which attributes are extracted), \\n                            \"actor\": string (\"patient\", \"family member\", \"others\"),\\n                            \"object\": string (\"patient\", \"family member\", \"others\"),\\n                            \"negation\": boolean, (true if the event is negated e.g., did not sleep. false otherwise)\\n                            \"time\": string (e.g., am, morning, 5pm . default: \"Unknown\"), \\n                            \"caused_by\": string (name of another event that caused this event. default: \"Unknown\"), \\n                            \"event_attributes\": { \\n                            // Only extract attributes for events present in the text:\\n                            \"Sleep\": { \\n                            \"quality\": string (e.g., poor, good, etc.),\\n                            \"duration\": string (e.g., short, on and off, etc.),\\n                            }, \\n                            \"Excretion\": { \\n                            \"type\": string (e.g., urine, stool, etc.),\\n                            \"frequency\": string (e.g., 2x, rare, etc.),\\n                            \"quality\": string (e.g., hard, yellow, etc.)\\n                            }, \\n                            \"Family\": { \\n                            \"interaction\": string (e.g., visit, call, communication, etc.), \\n                            \"relation\": string (e.g., mother, son, etc.)\\n                            }, \\n                            \"Pain\": { \\n                            \"severity\": string (e.g., mild, moderate, severe, numeric scale if present, etc.), \\n                            \"location\": string (e.g., right knee, head, etc.), \\n                            \"duration\": string (e.g., all night, 3 hours, etc.)\\n                            }, \\n                            \"Eating\": { \\n                            \"food\": string, (e.g., pancakes, porridge, etc.)\\n                            \"amount\": string, (e.g., 1, 2 bowls, etc.)\\n                            \"method\": string (e.g., oral, tube, etc.)\\n                            } \\n                            } \\n                            } \\n                        ], \\n                        \"order\": [ \\n                        //partial order of extracted events\\n                            { \\n                            \"event_id_1\": string, (e1, e2...)\\n                            \"relation\": string (\"before\", \"after\", \"simultaneous\", \"unknown\"), \\n                            \"event_id_2\": string (e1, e2...)\\n                            } \\n                        ],\\n                        \\n                        }  \\n```\\n**Examples for Sleep Classification**\\n\\n                1. Include as Sleep Event**\\n                - \"Patient slept for 2 hours.\"\\n                - \"heart rate 50pbm while asleep\"\\n\\n                2. Do NOT include as Sleep Event**\\n                - \"Patient asked for sleeping pill.\" (Request, not event)\\n                - \"Patient wants to sleep later.\" (Future plan)\\n                - \"Patient fell asleep while driving (history).\" (Before shift)\\n                - \"Patient was sedated/put to sleep for procedure.\" (Sedation)\\n                - \"Daughter slept in the room.\" (Actor ≠ patient)\\n\\n**Text**\\nWritten between 1985-06-18 10:35:00 and 1985-06-18 11:03:00:\\n\\'patient remains awake through procedure, but relaxed\\'\\n')"
    "df_llm = pd.read_excel(\"../exports/06b_analysis/llama3.1:70b_V4/Sleep/all_correct_Sleep_Sentences_att_True.xlsx\")\n",
    "df_llm[df_llm.Sentence.apply(lambda x: 'doze' in x)]['Sentence'].tolist()"
   ]
  }
 ],
 "metadata": {
  "kernelspec": {
   "display_name": ".venv (3.12.3)",
   "language": "python",
   "name": "python3"
  },
  "language_info": {
   "codemirror_mode": {
    "name": "ipython",
    "version": 3
   },
   "file_extension": ".py",
   "mimetype": "text/x-python",
   "name": "python",
   "nbconvert_exporter": "python",
   "pygments_lexer": "ipython3",
   "version": "3.12.3"
  }
 },
 "nbformat": 4,
 "nbformat_minor": 5
}
