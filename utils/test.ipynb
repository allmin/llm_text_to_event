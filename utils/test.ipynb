{
 "cells": [
  {
   "cell_type": "code",
   "execution_count": 4,
   "id": "cfb5c29f",
   "metadata": {},
   "outputs": [
    {
     "name": "stdout",
     "output_type": "stream",
     "text": [
      "[[1, 2, 3], [5, 6, 7, 8, 9, 10]]\n"
     ]
    },
    {
     "data": {
      "text/plain": [
       "[5, 6, 7, 8, 9, 10]"
      ]
     },
     "execution_count": 4,
     "metadata": {},
     "output_type": "execute_result"
    }
   ],
   "source": [
    "def get_last_continuous_sequence(numbers):\n",
    "    if not numbers:\n",
    "        return []\n",
    "\n",
    "    sequences = []\n",
    "    current_seq = [numbers[0]]\n",
    "\n",
    "    for i in range(1, len(numbers)):\n",
    "        if numbers[i] == numbers[i - 1] + 1:\n",
    "            current_seq.append(numbers[i])\n",
    "        else:\n",
    "            sequences.append(current_seq)\n",
    "            current_seq = [numbers[i]]\n",
    "\n",
    "    sequences.append(current_seq)  # append the last sequence\n",
    "    print(sequences)\n",
    "\n",
    "    return sequences[-1]\n",
    "\n",
    "get_last_continuous_sequence([1, 2, 3, 5, 6, 7, 8, 9, 10])"
   ]
  },
  {
   "cell_type": "code",
   "execution_count": null,
   "id": "af805029",
   "metadata": {},
   "outputs": [],
   "source": [
    "{'text': '84 yr old c dissecting aortic aneurysm .\\n\\nsr c blocked beats .bp labile ranging 160 to 77 systolic.labetolol drip for short time .to have mri this pm. k, mg repleted .milrinone continues on .375.amniodarone dc iv .patient feels nauseous when bp under 110\\n\\nbs diminished ,7.38/32/115/20 on 6lnp\\n\\ntaking cl liquids,pos bs ,no stool\\n\\nhuo 10 to 20,creat\\n\\npatient restless.co low back pain some releif c tylenol and sitting on side of bed .\\n\\nlabile bp unexplained ,need mri to check aneurysm\\n\\nfollow hct,lytes\\naim bp 110 to 120\\nmri this pm\\n\\naim bp 110 to 120 sys\\n\\n', 'event': ['Pain', 'Excretion', 'Eating', 'Pain'], 'event_id': ['e1', 'e2', 'e3', 'e4'], 'phrase': '', 'raw_output': '{\\n  \"events\": [\\n    {\\n      \"event_id\": \"e1\",\\n      \"event_type\": \"Pain\",\\n      \"text_quote\": \"co low back pain some releif c tylenol and sitting on side of bed\",\\n      \"attributes\": {\\n        \"severity\": \"Unknown\",\\n        \"location\": \"low back\",\\n        \"duration\": \"Unknown\",\\n        \"time\": \"Unknown\",\\n        \"caused_by\": \"Unknown\"\\n      }\\n    },\\n    {\\n      \"event_id\": \"e2\",\\n      \"event_type\": \"Excretion\",\\n      \"text_quote\": \"taking cl liquids,pos bs ,no stool\",\\n      \"attributes\": {\\n        \"type\": \"stool\",\\n        \"quality\": \"none\",\\n        \"frequency\": \"Unknown\",\\n        \"negation\": \"false\",\\n        \"time\": \"Unknown\",\\n        \"caused_by\": \"Unknown\"\\n      }\\n    },\\n    {\\n      \"event_id\": \"e3\",\\n      \"event_type\": \"Eating\",\\n      \"text_quote\": \"taking cl liquids,pos bs ,no stool\",\\n      \"attributes\": {\\n        \"food\": \"liquids\",\\n        \"amount\": \"Unknown\",\\n        \"method\": \"Unknown\",\\n        \"negation\": \"false\",\\n        \"time\": \"Unknown\",\\n        \"caused_by\": \"Unknown\"\\n      }\\n    },\\n    {\\n      \"event_id\": \"e4\",\\n      \"event_type\": \"Pain\",\\n      \"text_quote\": \"patient feels nauseous when bp under 110\",\\n      \"attributes\": {\\n        \"severity\": \"Unknown\",\\n        \"location\": \"Unknown\",\\n        \"duration\": \"Unknown\",\\n        \"time\": \"when bp under 110\",\\n        \"caused_by\": \"low blood pressure\"\\n      }\\n    }\\n  ],\\n  \"order\": []\\n}', 'attributes': [{'Pain': {'severity': 'Unknown', 'location': 'low back', 'duration': 'Unknown', 'time': 'Unknown', 'caused_by': 'Unknown'}}, {'Excretion': {'type': 'stool', 'quality': 'none', 'frequency': 'Unknown', 'negation': 'false', 'time': 'Unknown', 'caused_by': 'Unknown'}}, {'Eating': {'food': 'liquids', 'amount': 'Unknown', 'method': 'Unknown', 'negation': 'false', 'time': 'Unknown', 'caused_by': 'Unknown'}}, {'Pain': {'severity': 'Unknown', 'location': 'Unknown', 'duration': 'Unknown', 'time': 'when bp under 110', 'caused_by': 'low blood pressure'}}], 'orders': [[]], 'text_quotes': ['co low back pain some releif c tylenol and sitting on side of bed', 'taking cl liquids,pos bs ,no stool', 'taking cl liquids,pos bs ,no stool', 'patient feels nauseous when bp under 110'], 'event_time': ['Unknown', 'Unknown', 'Unknown', 'Unknown'], 'negation': ['Unknown', 'Unknown', 'Unknown', 'Unknown'], 'caused_by': ['Unknown', 'Unknown', 'Unknown', 'Unknown'], 'event_name_prompt': 'Given the text: 84 yr old c dissecting aortic aneurysm .\\n\\nsr c blocked beats .bp labile ranging 160 to 77 systolic.labetolol drip for short time .to have mri this pm. k, mg repleted .milrinone continues on .375.amniodarone dc iv .patient feels nauseous when bp under 110\\n\\nbs diminished ,7.38/32/115/20 on 6lnp\\n\\ntaking cl liquids,pos bs ,no stool\\n\\nhuo 10 to 20,creat\\n\\npatient restless.co low back pain some releif c tylenol and sitting on side of bed .\\n\\nlabile bp unexplained ,need mri to check aneurysm\\n\\nfollow hct,lytes\\naim bp 110 to 120\\nmri this pm\\n\\naim bp 110 to 120 sys\\n\\n, \\n                                and the following event types with their definitions: Eating : The patient takes food into their body by mouth. Identifed Always\\nExcretion : The patient discharges waste matter from their body. Identifed Always\\nFamily : The patient has a visit, call, or communication with a family member.\\nPain : The patient reports or shows signs of pain. Identifed Always\\nSleep : The patient sleeps or the sleep’s quality or quantity is described. Identifed Always.\\nUnknown : choose \"Unknown\" if none of the other event type are applicable. \\n                                ---\\n                                Your task:\\n                                0. Identify ALL events in the text (zero, one, or more).\\n1. For each event, assign an event_type from the list above.\\n2. If multiple event of same type is mentioned, assign the event_type multiple times\\n3. Extract attributes for each event using ONLY the allowed attributes listed below.\\n4. Use keyword evidence (Ki) ONLY if it is consistent with the text context.\\n5. Output strictly valid JSON following the schema below.\\n                                ---\\n                                Classification Rules:\\n                                - A text may contain multiple events, either of the same type or of different types.\\n- Create a separate event object for each event mention.\\n- Do not extract events that are explicitly NEGATED (e.g., \"denies pain\", \"couldn\\'t sleep\") unless the event is marked as \"Identifed Always\".\\n- If a NEGATED event is marked as Identified Always, extract it and set the negation attribute to true.\\n- Ignore events that refer to FUTURE or HYPOTHETICAL scenarios (e.g., \"will eat tomorrow\").\\n- A valid event must have occurred in the recent past or be occurring at the time of writing.\\n- If no events are found, or if uncertain, return: {\"events\": []}\\n                                None\\n                                ---\\n        Keyword evidence (Ki):\\n        Additional facts: A keyword matching algorithm without context detected keyword(s) (\\'pain\\',).\\n        Use this only as a pointer. If context contradicts, ignore.\\n                                ---\\n                                Output Schema (strict):\\n                                {\\n                                \"events\": [\\n                                    {\\n                                    \"event_id\": \"&lt; A unique id eg.: e1 | e2 |...&gt;\"\\n                                    \"event_type\": \"&lt;Pain | Sleep | Excretion | Eating | Family | Unknown&gt;\",\\n                                    \"text_quote\": \"&lt;fragement from the text indicating the event_type&gt;\",\\n                        \"attributes\": {\\n                            \"&lt;attribute_name&gt;\": \"&lt;attribute_value&gt;\"\\n                        }\\n                                    }\\n                                ],\\n                                \"order\": [\\n                                    [\"e1\", \"before\" | \"after\" | \"simultaneous\", \"e2\" ]\\n                                ]\\n                                }\\n                                \\n                    Rules:\\n                        - Ensure the output is valid JSON (parseable).\\n                        - \"eventS\" must always be an array (can be empty).\\n                        - Multiple instances of the same event type appear with different ids.\\n                        - Events appear in the array in the same order in which they appear in the text.\\n                        - Their partial orders can be expressed using the \"order\" section.\\n                        - Do not include extra keys, comments, or text.\\n                        - Each object in \"events\" must contain \"event_type\", \"text_quote\", and \"attributes\".\\n                        - If an event attribute type has no value mentioned, return \"attributes\": {\"&lt; attribute name &gt;:Unknown\"} for each attribute type defined for the event type \\n                \\n                                \\n                ---\\n                Examples:\\n                \\n                text: \"Patient ate breakfast this morning. He seems less anxious.\"\\n                output: {\\n                \"events\": [\\n                    {\"event_id\": \"e1\",\\n                    \"event_type\": \"Eating\",\\n                    \"text_quote\":\"Patient ate breakfast this morning\",\\n                    \"attributes\": {\"food\": \"breakfast\", \\n                                   \"amount\": \"Unknown\",\\n                                   \"method\": \"Unknown\",\\n                                   \"negation\": \"false\",\\n                                   \"time\":\"morning\",\\n                                   \"caused_by\":\"Unknown\"}\\n                    }\\n                ],\\n                \"order\":[]\\n                }\\n                \\n                text: \"Patient reported severe abdominal pain.\"\\n                output: {\\n                \"events\": [\\n                    {\"event_id\": \"e1\",\\n                    \"event_type\": \"Pain\",\\n                    \"text_quote\": \"severe abdominal Pain\",\\n                    \"attributes\": {\"severity\": \"severe\", \\n                                   \"location\": \"abdominal\",\\n                                   \"duration\": \"Unknown\",\\n                                   \"negation\": \"false\",\\n                                   \"time\":\"Unknown\",\\n                                   \"caused_by\":\"Unknown\"}\\n                    }\\n                ],\\n                \"order\":[]\\n                }\\n                \\n                text: \"Patient called his son around 3 pm.\"\\n                output: {\\n                \"events\": [\\n                    {\"event_id\": \"e1\",\\n                    \"event_type\": \"Family\",\\n                    \"text_quote\": \"called his son around 3 pm\",\\n                    \"attributes\": {\"interaction\": \"call\", \\n                                    \"relation\": \"son\",\\n                                    \"negation\": \"false\",\\n                                    \"time\":\"3 pm\",\\n                                    \"caused_by\":\"Unknown\"}\\n                    }\\n                ],\\n                \"order\":[]\\n                }\\n                \\n                text: \"Patient had a loose stool overnight.\"\\n                output: {\\n                \"events\": [\\n                    {\"event_id\": \"e1\",\\n                    \"event_type\": \"Excretion\",\\n                    \"text_quote\": \"loose stool overnight\",\\n                    \"attributes\": {\"type\": \"stool\", \\n                                   \"quality\": \"loose\", \\n                                   \"frequency\":\"overnight\", \\n                                   \"negation\": \"false\",\\n                                   \"time\":\"night\",\\n                                   \"caused_by\":\"Unknown\"}\\n                    }\\n                ],\\n                \"order\":[]\\n                }\\n                \\n                text: \"Patient was able to sleep well last night.\"\\n                output: {\\n                \"events\": [\\n                    {\"event_id\": \"e1\",\\n                    \"event_type\": \"Sleep\",\\n                    \"text_quote\": \"sleep well last night\",\\n                    \"attributes\": {\"quality\": \"well\",\\n                                    \"duration\": \"Unknown\", \\n                                    \"negation\": \"false\",\\n                                    \"time\":\"night\",\\n                                    \"caused_by\":\"Unknown\"}\\n                    }\\n                ],\\n                \"order\":[]\\n                }\\n                \\n                text: \"The patient couldn\\'t sleep due to severe pain.\"\\n                output: {\\n                \"events\": [\\n                    {\"event_id\": \"e1\",\\n                    \"event_type\": \"Sleep\",\\n                    \"text_quote\": \"couldn\\'t sleep\",\\n                    \"attributes\": {\"quality\": \"poor\", \\n                                    \"duration\": \"Unknown\",\\n                                    \"negation\": \"true\",\\n                                    \"time\":\"Unknown\",\\n                                    \"caused_by\":\"Pain\"}\\n                    },\\n                    {\"event_id\": \"e2\",\\n                    \"event_type\": \"Pain\",\\n                    \"text_quote\": \"severe pain\",\\n                    \"attributes\": {\"severity\": \"severe\", \\n                                    \"location\": \"Unknown\", \\n                                    \"duration\": \"Unknown\", \\n                                    \"time\":\"Unknown\",\\n                                    \"caused_by\":\"Unknown\"}\\n                    }\\n                ],\\n                \"order\":[\"e1\", \"after\", \"e2\"]\\n                }\\n                \\n                text: \"The patient complained of severe back pain, was given Tylenol, but the pain persisted and he was then prescribed stronger morphine.\"\\n                output: {\\n                \"events\": [\\n                    {\"event_id\": \"e1\",\\n                    \"event_type\": \"Pain\",\\n                    \"text_quote\": \"complained of severe back pain\",\\n                    \"attributes\": {\"severity\": \"severe\", \\n                                    \"location\": \"back\",\\n                                    \"duration\": \"Unknown\", \\n                                    \"time\":\"Unknown\",\\n                                    \"caused_by\":\"Unknown\"}\\n                    },\\n                    {\"event_id\": \"e2\",\\n                    \"event_type\": \"Pain\",\\n                    \"text_quote\": \"pain persisted\",\\n                    \"attributes\": {\"severity\": \"severe\", \\n                                   \"location\": \"back\",\\n                                   \"duration\": \"persistent\", \\n                                   \"time\":\"after Tylenol\",\\n                                   \"caused_by\":\"Unknown\"}\\n                    }\\n                ],\\n                \"order\":[[\"e1\", \"before\", \"e2\"]]\\n                }\\n                \\n                                ', 'event_detection_time': 367.50314643606544}"
   ]
  },
  {
   "cell_type": "code",
   "execution_count": null,
   "id": "36785ae9",
   "metadata": {},
   "outputs": [],
   "source": []
  },
  {
   "cell_type": "code",
   "execution_count": null,
   "id": "990357d9",
   "metadata": {},
   "outputs": [],
   "source": []
  },
  {
   "cell_type": "code",
   "execution_count": null,
   "id": "6258a5b1",
   "metadata": {},
   "outputs": [
    {
     "name": "stdout",
     "output_type": "stream",
     "text": [
      "- A text may contain multiple events, either of the same type or of different types.\n",
      "- Create a separate event object for each event mention.\n",
      "- Do not extract events that are explicitly negated (e.g., \"denies pain\", \"couldn't sleep\") unless the event is marked as \"Identifed Always\".\n",
      "- If a negated event is marked as Identified Always, extract it and set the negation attribute to true.\n",
      "- Ignore events that refer to future or hypothetical scenarios (e.g., \"will eat tomorrow\").\n",
      "- A valid event must have occurred in the recent past or be occurring at the time of writing.\n",
      "- If no events are found, or if uncertain, return: {\"events\": []}\n"
     ]
    }
   ],
   "source": [
    "def get_classification_results():\n",
    "    classification_rules = []\n",
    "    classification_rules.append(\"- A text may contain multiple events, either of the same type or of different types.\")\n",
    "    classification_rules.append(\"- Create a separate event object for each event mention.\")\n",
    "    classification_rules.append(\"- Do not extract events that are explicitly negated (e.g., \\\"denies pain\\\", \\\"couldn\\'t sleep\\\") unless the event is marked as \\\"Identifed Always\\\".\")\n",
    "    if True:\n",
    "        classification_rules.append(\"- If a negated event is marked as Identified Always, extract it and set the negation attribute to true.\")\n",
    "    classification_rules.append(\"- Ignore events that refer to future or hypothetical scenarios (e.g., \\\"will eat tomorrow\\\").\")\n",
    "    classification_rules.append(\"- A valid event must have occurred in the recent past or be occurring at the time of writing.\")\n",
    "    classification_rules.append(\"- If no events are found, or if uncertain, return: {\\\"events\\\": []}\")\n",
    "    classification_rules = \"\\n\".join(classification_rules)\n",
    "    return classification_rules\n",
    "\n",
    "print(get_classification_results())"
   ]
  },
  {
   "cell_type": "code",
   "execution_count": 41,
   "id": "a357e551",
   "metadata": {},
   "outputs": [
    {
     "data": {
      "text/plain": [
       "(202,\n",
       "       ROW_ID                                 Event_Name  \\\n",
       " 0    1310477                    [Family, Pain, Unknown]   \n",
       " 1    1310478                    [Family, Pain, Unknown]   \n",
       " 2    1310479             [Sleep, Family, Pain, Unknown]   \n",
       " 3    1310480                     [Sleep, Unknown, Pain]   \n",
       " 4    1310481                            [Unknown, Pain]   \n",
       " ..       ...                                        ...   \n",
       " 197  1671536                [Sleep, Unknown, Excretion]   \n",
       " 198  1671537                [Sleep, Unknown, Excretion]   \n",
       " 199  1671538  [Sleep, Unknown, Family, Pain, Excretion]   \n",
       " 200  1671539                    [Family, Unknown, Pain]   \n",
       " 201  1671540                            [Pain, Unknown]   \n",
       " \n",
       "                                                Keyword  \\\n",
       " 0                                          [pain, son]   \n",
       " 1                             [daughter, family, pain]   \n",
       " 2    [daughter, sleeping, son, distress, pain, asleep]   \n",
       " 3                                     [sleeping, pain]   \n",
       " 4                                               [pain]   \n",
       " ..                                                 ...   \n",
       " 197                                  [urine, sleeping]   \n",
       " 198                                     [urine, sleep]   \n",
       " 199                       [slept, family, pain, urine]   \n",
       " 200                                    [brother, pain]   \n",
       " 201                                             [pain]   \n",
       " \n",
       "                                               Document  \n",
       " 0    ccu nursing admit note 0615\\ns:  i stopped tak...  \n",
       " 1    ccu npn: please see flowsheet for objective da...  \n",
       " 2    ccu nsg progress note 7p-7a/ aortic dissection...  \n",
       " 3    patient denies pain,nausea.sleeping all day bu...  \n",
       " 4    7 pm  bp to 80,ci > 2 on less milrinone,wedge ...  \n",
       " ..                                                 ...  \n",
       " 197  7pm-7am update\\nneuro: patient alert and oriea...  \n",
       " 198  nursing progress note\\nneuro:  aao x3.  oob wi...  \n",
       " 199  neuro: patient a& ox3, mae, follows commands, ...  \n",
       " 200  neuro: alert and oriented x 3, mae, following ...  \n",
       " 201  patient. alert and pleasant. asking questions ...  \n",
       " \n",
       " [202 rows x 4 columns])"
      ]
     },
     "execution_count": 41,
     "metadata": {},
     "output_type": "execute_result"
    }
   ],
   "source": [
    "import pandas as pd\n",
    "def combine_lists(x):\n",
    "    combined = []\n",
    "    for item in x:\n",
    "        if item:\n",
    "            if isinstance(item, (list, tuple)):\n",
    "                combined.extend(item)\n",
    "            else:\n",
    "                combined.append(item)\n",
    "    combined = [i for i in combined if i]\n",
    "    res = set(combined)\n",
    "    return list(res)\n",
    "df = pd.read_pickle(\"/home/asusaiyah/tactics_storage/projects/llm_text_to_event/exports/04_groundtruth/P-SET/Generated/Sleep_Documents.pkl\")\n",
    "rdf = df.groupby('ROW_ID')[[\"Event_Name\",\"Keyword\",\"Document\"]].agg(lambda x:combine_lists(x)).reset_index()\n",
    "rdf['Document'] = [' '.join(i) for i in rdf['Document']]\n",
    "len(rdf), rdf"
   ]
  },
  {
   "cell_type": "code",
   "execution_count": 39,
   "id": "37224c03",
   "metadata": {},
   "outputs": [
    {
     "data": {
      "text/html": [
       "<div>\n",
       "<style scoped>\n",
       "    .dataframe tbody tr th:only-of-type {\n",
       "        vertical-align: middle;\n",
       "    }\n",
       "\n",
       "    .dataframe tbody tr th {\n",
       "        vertical-align: top;\n",
       "    }\n",
       "\n",
       "    .dataframe thead th {\n",
       "        text-align: right;\n",
       "    }\n",
       "</style>\n",
       "<table border=\"1\" class=\"dataframe\">\n",
       "  <thead>\n",
       "    <tr style=\"text-align: right;\">\n",
       "      <th></th>\n",
       "      <th>UID</th>\n",
       "      <th>Event_Name</th>\n",
       "      <th>Keyword</th>\n",
       "      <th>Document</th>\n",
       "    </tr>\n",
       "  </thead>\n",
       "  <tbody>\n",
       "    <tr>\n",
       "      <th>0</th>\n",
       "      <td>14995_1457369_0000</td>\n",
       "      <td>[Unknown]</td>\n",
       "      <td>[]</td>\n",
       "      <td>[ccu nsg note: alt in cv/cardiomyopathy\\nsee a...</td>\n",
       "    </tr>\n",
       "    <tr>\n",
       "      <th>1</th>\n",
       "      <td>14995_1457369_0001</td>\n",
       "      <td>[Unknown]</td>\n",
       "      <td>[]</td>\n",
       "      <td>[ccu nsg note: alt in cv/cardiomyopathy\\nsee a...</td>\n",
       "    </tr>\n",
       "    <tr>\n",
       "      <th>2</th>\n",
       "      <td>14995_1457369_0002</td>\n",
       "      <td>[Unknown]</td>\n",
       "      <td>[]</td>\n",
       "      <td>[ccu nsg note: alt in cv/cardiomyopathy\\nsee a...</td>\n",
       "    </tr>\n",
       "    <tr>\n",
       "      <th>3</th>\n",
       "      <td>14995_1457369_0003</td>\n",
       "      <td>[Unknown]</td>\n",
       "      <td>[]</td>\n",
       "      <td>[ccu nsg note: alt in cv/cardiomyopathy\\nsee a...</td>\n",
       "    </tr>\n",
       "    <tr>\n",
       "      <th>4</th>\n",
       "      <td>14995_1457369_0004</td>\n",
       "      <td>[Unknown]</td>\n",
       "      <td>[]</td>\n",
       "      <td>[ccu nsg note: alt in cv/cardiomyopathy\\nsee a...</td>\n",
       "    </tr>\n",
       "    <tr>\n",
       "      <th>...</th>\n",
       "      <td>...</td>\n",
       "      <td>...</td>\n",
       "      <td>...</td>\n",
       "      <td>...</td>\n",
       "    </tr>\n",
       "    <tr>\n",
       "      <th>4754</th>\n",
       "      <td>7042_1356124_0013</td>\n",
       "      <td>[Unknown]</td>\n",
       "      <td>[]</td>\n",
       "      <td>[nursing progress notes\\n  please see carevue ...</td>\n",
       "    </tr>\n",
       "    <tr>\n",
       "      <th>4755</th>\n",
       "      <td>7042_1356124_0014</td>\n",
       "      <td>[Unknown]</td>\n",
       "      <td>[]</td>\n",
       "      <td>[nursing progress notes\\n  please see carevue ...</td>\n",
       "    </tr>\n",
       "    <tr>\n",
       "      <th>4756</th>\n",
       "      <td>7042_1356124_0015</td>\n",
       "      <td>[Unknown]</td>\n",
       "      <td>[]</td>\n",
       "      <td>[nursing progress notes\\n  please see carevue ...</td>\n",
       "    </tr>\n",
       "    <tr>\n",
       "      <th>4757</th>\n",
       "      <td>7042_1356124_0016</td>\n",
       "      <td>[Unknown]</td>\n",
       "      <td>[]</td>\n",
       "      <td>[nursing progress notes\\n  please see carevue ...</td>\n",
       "    </tr>\n",
       "    <tr>\n",
       "      <th>4758</th>\n",
       "      <td>7042_1356124_0017</td>\n",
       "      <td>[Unknown]</td>\n",
       "      <td>[]</td>\n",
       "      <td>[nursing progress notes\\n  please see carevue ...</td>\n",
       "    </tr>\n",
       "  </tbody>\n",
       "</table>\n",
       "<p>4759 rows × 4 columns</p>\n",
       "</div>"
      ],
      "text/plain": [
       "                     UID Event_Name Keyword  \\\n",
       "0     14995_1457369_0000  [Unknown]      []   \n",
       "1     14995_1457369_0001  [Unknown]      []   \n",
       "2     14995_1457369_0002  [Unknown]      []   \n",
       "3     14995_1457369_0003  [Unknown]      []   \n",
       "4     14995_1457369_0004  [Unknown]      []   \n",
       "...                  ...        ...     ...   \n",
       "4754   7042_1356124_0013  [Unknown]      []   \n",
       "4755   7042_1356124_0014  [Unknown]      []   \n",
       "4756   7042_1356124_0015  [Unknown]      []   \n",
       "4757   7042_1356124_0016  [Unknown]      []   \n",
       "4758   7042_1356124_0017  [Unknown]      []   \n",
       "\n",
       "                                               Document  \n",
       "0     [ccu nsg note: alt in cv/cardiomyopathy\\nsee a...  \n",
       "1     [ccu nsg note: alt in cv/cardiomyopathy\\nsee a...  \n",
       "2     [ccu nsg note: alt in cv/cardiomyopathy\\nsee a...  \n",
       "3     [ccu nsg note: alt in cv/cardiomyopathy\\nsee a...  \n",
       "4     [ccu nsg note: alt in cv/cardiomyopathy\\nsee a...  \n",
       "...                                                 ...  \n",
       "4754  [nursing progress notes\\n  please see carevue ...  \n",
       "4755  [nursing progress notes\\n  please see carevue ...  \n",
       "4756  [nursing progress notes\\n  please see carevue ...  \n",
       "4757  [nursing progress notes\\n  please see carevue ...  \n",
       "4758  [nursing progress notes\\n  please see carevue ...  \n",
       "\n",
       "[4759 rows x 4 columns]"
      ]
     },
     "execution_count": 39,
     "metadata": {},
     "output_type": "execute_result"
    }
   ],
   "source": [
    "df.groupby('UID')[[\"Event_Name\",\"Keyword\",\"Document\"]].agg(lambda x:combine_lists(x)).reset_index()"
   ]
  },
  {
   "cell_type": "code",
   "execution_count": 36,
   "id": "a1e36931",
   "metadata": {},
   "outputs": [
    {
     "data": {
      "text/plain": [
       "Event_Name\n",
       "[Unknown]                  4289\n",
       "[Pain]                      139\n",
       "[Sleep]                     133\n",
       "[Family]                    101\n",
       "[Excretion]                  62\n",
       "[Eating]                     19\n",
       "[Sleep, Pain]                 7\n",
       "[Sleep, Family]               5\n",
       "[Family, Pain]                2\n",
       "[Sleep, Family, Eating]       1\n",
       "[Sleep, Family, Pain]         1\n",
       "Name: count, dtype: int64"
      ]
     },
     "execution_count": 36,
     "metadata": {},
     "output_type": "execute_result"
    }
   ],
   "source": [
    "rdf.Event_Name.value_counts()"
   ]
  },
  {
   "cell_type": "code",
   "execution_count": null,
   "id": "f5d54eaf",
   "metadata": {},
   "outputs": [],
   "source": [
    "import pandas as pd\n",
    "df1 = pd.read_pickle(\"../exports/04_groundtruth/P-SET/Generated/Sleep_Sentences.pkl\")\n",
    "# df2 = pd.read_pickle(\"../exports/04_groundtruth/P-SET/Annotating/Sleep_Sentences_old.pkl\")\n",
    "df1['Sent_gt_Sleep'] = None\n",
    "df1['negation'] = False\n",
    "df1['good_example'] = False\n",
    "for anno in [\"Sent_gt_Sleep\" , \"negation\", \"good_example\"]:\n",
    "    UID_2_anno = df2.groupby(\"Sentence\")[anno].first().to_dict()\n",
    "    df1[anno] = df1['Sentence'].map(UID_2_anno)\n",
    "df1.to_pickle(\"../exports/04_groundtruth/P-SET/Annotating/Sleep_Sentences.pkl\")"
   ]
  },
  {
   "cell_type": "code",
   "execution_count": 21,
   "id": "ebc2cde4",
   "metadata": {},
   "outputs": [
    {
     "name": "stdout",
     "output_type": "stream",
     "text": [
      "TN_Event_Name_LLM_Events_all_evidence_Doc_Sleep.xlsx 4\n",
      "FP_Event_Name_LLM_Events_all_evidence_Doc_Sleep.xlsx 23\n",
      "FN_Event_Name_LLM_Events_all_evidence_Doc_Sleep.xlsx 1\n",
      "TP_Event_Name_LLM_Events_all_evidence_Doc_Sleep.xlsx 7\n"
     ]
    },
    {
     "data": {
      "text/plain": [
       "[1468987,\n",
       " 1468980,\n",
       " 1356120,\n",
       " 1356115,\n",
       " 1356117,\n",
       " 1468992,\n",
       " 1356124,\n",
       " 1468964,\n",
       " 1468994,\n",
       " 1477464,\n",
       " 1356116,\n",
       " 1310488,\n",
       " 1477465,\n",
       " 1468984,\n",
       " 1477461,\n",
       " 1468996,\n",
       " 1310483,\n",
       " 1468979,\n",
       " 1477467,\n",
       " 1468998,\n",
       " 1468986,\n",
       " 1468993,\n",
       " 1325555,\n",
       " 1477473,\n",
       " 1468974,\n",
       " 1457371,\n",
       " 1468972,\n",
       " 1457381,\n",
       " 1477470,\n",
       " 1468981,\n",
       " 1325552,\n",
       " 1356122,\n",
       " 1457375,\n",
       " 1356118,\n",
       " 1310490]"
      ]
     },
     "execution_count": 21,
     "metadata": {},
     "output_type": "execute_result"
    }
   ],
   "source": [
    "from glob import glob\n",
    "import os,sys\n",
    "import pandas as pd\n",
    "parent_dir = os.path.abspath(os.path.join(os.getcwd(), '..'))\n",
    "\n",
    "if parent_dir not in sys.path:\n",
    "    sys.path.append(parent_dir)\n",
    "\n",
    "\n",
    "focus = \"Doc\"\n",
    "if focus == \"Doc\":\n",
    "    uid = \"ROW_ID\"\n",
    "elif focus == \"Sent\":\n",
    "    uid = \"UID\"\n",
    "files = glob(f\"../exports/06_analysis/Sleep/*_Event_Name_LLM_Events_all_evidence_{focus}_Sleep.xlsx\")\n",
    "full_df = []\n",
    "for file in files:\n",
    "    file_name = os.path.basename(file)\n",
    "    df = pd.read_excel(file)\n",
    "    if file_name[:2] == \"FP\":\n",
    "        sample_per = 0.6\n",
    "    else:\n",
    "        sample_per = 0.2\n",
    "    N = len(df)\n",
    "    subN = int(sample_per*N)\n",
    "    finalN= max(1,subN)\n",
    "    print(file_name, finalN)\n",
    "    df_samples = df.sample(n=finalN,replace=False)\n",
    "    full_df.append(df_samples)\n",
    "full_df = pd.concat(full_df).reset_index()\n",
    "full_df[uid].tolist()\n",
    "    "
   ]
  },
  {
   "cell_type": "code",
   "execution_count": 18,
   "id": "ea555b9c",
   "metadata": {},
   "outputs": [
    {
     "data": {
      "text/plain": [
       "<Axes: >"
      ]
     },
     "execution_count": 18,
     "metadata": {},
     "output_type": "execute_result"
    },
    {
     "data": {
      "image/png": "[encoded data removed]",
      "text/plain": [
       "<Figure size 640x480 with 1 Axes>"
      ]
     },
     "metadata": {},
     "output_type": "display_data"
    }
   ],
   "source": [
    "import pandas as pd\n",
    "id_type = \"UID\"\n",
    "df_date=pd.read_pickle(\"../exports/04_dictionary_features.pkl\")\n",
    "df_date['CHARTTIME'] = pd.to_datetime(df_date['CHARTTIME'])\n",
    "df_date['STORETIME'] = pd.to_datetime(df_date['STORETIME'])\n",
    "df_date['TIME_DIFF'] = df_date['STORETIME'] - df_date['CHARTTIME']\n",
    "df_date['TIME_DIFF_min'] = df_date['TIME_DIFF'].dt.total_seconds() / 60\n",
    "df_date['TIME_DIFF_min'].hist(bins=100)\n",
    "# df_date[id_type] = df_date[id_type].astype(str)\n",
    "# from datetime import datetime\n",
    "# id2starttime = df_date.groupby(id_type)['CHARTTIME'].min().to_dict()\n",
    "# id2starttime = { k: datetime.strptime(v, '%Y-%m-%d %H:%M:%S') for k, v in id2starttime.items()}\n",
    "# id2endtime = df_date.groupby(id_type)['STORETIME'].max().to_dict()\n",
    "# id2endtime = { k: datetime.strptime(v, '%Y-%m-%d %H:%M:%S') for k, v in id2endtime.items()}\n",
    "\n",
    "# id2starttime, id2endtime"
   ]
  },
  {
   "cell_type": "code",
   "execution_count": 25,
   "id": "49cfdee0",
   "metadata": {},
   "outputs": [
    {
     "data": {
      "text/plain": [
       "'2139-07-13 10:20:01'"
      ]
     },
     "execution_count": 25,
     "metadata": {},
     "output_type": "execute_result"
    }
   ],
   "source": [
    "str(df_date[\"STORETIME\"].iloc[0])"
   ]
  },
  {
   "cell_type": "code",
   "execution_count": null,
   "id": "f6ed618e",
   "metadata": {},
   "outputs": [],
   "source": [
    "import pandas as pd\n",
    "df = pd.read_pickle(\"../exports/04b_groundtruth/P-SET/Annotating/Sleep_Sentences.pkl\")\n",
    "df.loc[df.comment=='nan','negation'] = False\n",
    "df.loc[df.comment=='nan','good_example'] = False\n",
    "df.loc[df.comment=='nan','comment'] = ''\n",
    "df.comment.value_counts(dropna=False)\n",
    "df.to_pickle(\"../exports/04b_groundtruth/P-SET/Annotating/Sleep_Sentences_2.pkl\")"
   ]
  },
  {
   "cell_type": "code",
   "execution_count": 6,
   "id": "80de8f24",
   "metadata": {},
   "outputs": [
    {
     "data": {
      "text/plain": [
       "Event_Name_LLM_Events_example_evidence_Sent\n",
       "NaN    600\n",
       "Name: count, dtype: int64"
      ]
     },
     "execution_count": 6,
     "metadata": {},
     "output_type": "execute_result"
    }
   ],
   "source": [
    "import pandas as pd\n",
    "df = pd.read_excel(\"../exports/05b_llm_llama3.1:70b_P-SET_v2/Sleep/Sleep_Sentences_att_True.xlsx\")\n",
    "df['Event_Name_LLM_Events_example_evidence_Sent'].value_counts(dropna=False)"
   ]
  }
 ],
 "metadata": {
  "kernelspec": {
   "display_name": ".venv (3.12.3)",
   "language": "python",
   "name": "python3"
  },
  "language_info": {
   "codemirror_mode": {
    "name": "ipython",
    "version": 3
   },
   "file_extension": ".py",
   "mimetype": "text/x-python",
   "name": "python",
   "nbconvert_exporter": "python",
   "pygments_lexer": "ipython3",
   "version": "3.12.3"
  }
 },
 "nbformat": 4,
 "nbformat_minor": 5
}
