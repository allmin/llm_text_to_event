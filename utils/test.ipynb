{
 "cells": [
  {
   "cell_type": "code",
   "execution_count": 4,
   "id": "cfb5c29f",
   "metadata": {},
   "outputs": [
    {
     "name": "stdout",
     "output_type": "stream",
     "text": [
      "[[1, 2, 3], [5, 6, 7, 8, 9, 10]]\n"
     ]
    },
    {
     "data": {
      "text/plain": [
       "[5, 6, 7, 8, 9, 10]"
      ]
     },
     "execution_count": 4,
     "metadata": {},
     "output_type": "execute_result"
    }
   ],
   "source": [
    "def get_last_continuous_sequence(numbers):\n",
    "    if not numbers:\n",
    "        return []\n",
    "\n",
    "    sequences = []\n",
    "    current_seq = [numbers[0]]\n",
    "\n",
    "    for i in range(1, len(numbers)):\n",
    "        if numbers[i] == numbers[i - 1] + 1:\n",
    "            current_seq.append(numbers[i])\n",
    "        else:\n",
    "            sequences.append(current_seq)\n",
    "            current_seq = [numbers[i]]\n",
    "\n",
    "    sequences.append(current_seq)  # append the last sequence\n",
    "    print(sequences)\n",
    "\n",
    "    return sequences[-1]\n",
    "\n",
    "get_last_continuous_sequence([1, 2, 3, 5, 6, 7, 8, 9, 10])"
   ]
  },
  {
   "cell_type": "code",
   "execution_count": 41,
   "id": "a357e551",
   "metadata": {},
   "outputs": [
    {
     "data": {
      "text/plain": [
       "(202,\n",
       "       ROW_ID                                 Event_Name  \\\n",
       " 0    1310477                    [Family, Pain, Unknown]   \n",
       " 1    1310478                    [Family, Pain, Unknown]   \n",
       " 2    1310479             [Sleep, Family, Pain, Unknown]   \n",
       " 3    1310480                     [Sleep, Unknown, Pain]   \n",
       " 4    1310481                            [Unknown, Pain]   \n",
       " ..       ...                                        ...   \n",
       " 197  1671536                [Sleep, Unknown, Excretion]   \n",
       " 198  1671537                [Sleep, Unknown, Excretion]   \n",
       " 199  1671538  [Sleep, Unknown, Family, Pain, Excretion]   \n",
       " 200  1671539                    [Family, Unknown, Pain]   \n",
       " 201  1671540                            [Pain, Unknown]   \n",
       " \n",
       "                                                Keyword  \\\n",
       " 0                                          [pain, son]   \n",
       " 1                             [daughter, family, pain]   \n",
       " 2    [daughter, sleeping, son, distress, pain, asleep]   \n",
       " 3                                     [sleeping, pain]   \n",
       " 4                                               [pain]   \n",
       " ..                                                 ...   \n",
       " 197                                  [urine, sleeping]   \n",
       " 198                                     [urine, sleep]   \n",
       " 199                       [slept, family, pain, urine]   \n",
       " 200                                    [brother, pain]   \n",
       " 201                                             [pain]   \n",
       " \n",
       "                                               Document  \n",
       " 0    ccu nursing admit note 0615\\ns:  i stopped tak...  \n",
       " 1    ccu npn: please see flowsheet for objective da...  \n",
       " 2    ccu nsg progress note 7p-7a/ aortic dissection...  \n",
       " 3    patient denies pain,nausea.sleeping all day bu...  \n",
       " 4    7 pm  bp to 80,ci > 2 on less milrinone,wedge ...  \n",
       " ..                                                 ...  \n",
       " 197  7pm-7am update\\nneuro: patient alert and oriea...  \n",
       " 198  nursing progress note\\nneuro:  aao x3.  oob wi...  \n",
       " 199  neuro: patient a& ox3, mae, follows commands, ...  \n",
       " 200  neuro: alert and oriented x 3, mae, following ...  \n",
       " 201  patient. alert and pleasant. asking questions ...  \n",
       " \n",
       " [202 rows x 4 columns])"
      ]
     },
     "execution_count": 41,
     "metadata": {},
     "output_type": "execute_result"
    }
   ],
   "source": [
    "import pandas as pd\n",
    "def combine_lists(x):\n",
    "    combined = []\n",
    "    for item in x:\n",
    "        if item:\n",
    "            if isinstance(item, (list, tuple)):\n",
    "                combined.extend(item)\n",
    "            else:\n",
    "                combined.append(item)\n",
    "    combined = [i for i in combined if i]\n",
    "    res = set(combined)\n",
    "    return list(res)\n",
    "df = pd.read_pickle(\"/home/asusaiyah/tactics_storage/projects/llm_text_to_event/exports/04_groundtruth/P-SET/Generated/Sleep_Documents.pkl\")\n",
    "rdf = df.groupby('ROW_ID')[[\"Event_Name\",\"Keyword\",\"Document\"]].agg(lambda x:combine_lists(x)).reset_index()\n",
    "rdf['Document'] = [' '.join(i) for i in rdf['Document']]\n",
    "len(rdf), rdf"
   ]
  },
  {
   "cell_type": "code",
   "execution_count": 39,
   "id": "37224c03",
   "metadata": {},
   "outputs": [
    {
     "data": {
      "text/html": [
       "<div>\n",
       "<style scoped>\n",
       "    .dataframe tbody tr th:only-of-type {\n",
       "        vertical-align: middle;\n",
       "    }\n",
       "\n",
       "    .dataframe tbody tr th {\n",
       "        vertical-align: top;\n",
       "    }\n",
       "\n",
       "    .dataframe thead th {\n",
       "        text-align: right;\n",
       "    }\n",
       "</style>\n",
       "<table border=\"1\" class=\"dataframe\">\n",
       "  <thead>\n",
       "    <tr style=\"text-align: right;\">\n",
       "      <th></th>\n",
       "      <th>UID</th>\n",
       "      <th>Event_Name</th>\n",
       "      <th>Keyword</th>\n",
       "      <th>Document</th>\n",
       "    </tr>\n",
       "  </thead>\n",
       "  <tbody>\n",
       "    <tr>\n",
       "      <th>0</th>\n",
       "      <td>14995_1457369_0000</td>\n",
       "      <td>[Unknown]</td>\n",
       "      <td>[]</td>\n",
       "      <td>[ccu nsg note: alt in cv/cardiomyopathy\\nsee a...</td>\n",
       "    </tr>\n",
       "    <tr>\n",
       "      <th>1</th>\n",
       "      <td>14995_1457369_0001</td>\n",
       "      <td>[Unknown]</td>\n",
       "      <td>[]</td>\n",
       "      <td>[ccu nsg note: alt in cv/cardiomyopathy\\nsee a...</td>\n",
       "    </tr>\n",
       "    <tr>\n",
       "      <th>2</th>\n",
       "      <td>14995_1457369_0002</td>\n",
       "      <td>[Unknown]</td>\n",
       "      <td>[]</td>\n",
       "      <td>[ccu nsg note: alt in cv/cardiomyopathy\\nsee a...</td>\n",
       "    </tr>\n",
       "    <tr>\n",
       "      <th>3</th>\n",
       "      <td>14995_1457369_0003</td>\n",
       "      <td>[Unknown]</td>\n",
       "      <td>[]</td>\n",
       "      <td>[ccu nsg note: alt in cv/cardiomyopathy\\nsee a...</td>\n",
       "    </tr>\n",
       "    <tr>\n",
       "      <th>4</th>\n",
       "      <td>14995_1457369_0004</td>\n",
       "      <td>[Unknown]</td>\n",
       "      <td>[]</td>\n",
       "      <td>[ccu nsg note: alt in cv/cardiomyopathy\\nsee a...</td>\n",
       "    </tr>\n",
       "    <tr>\n",
       "      <th>...</th>\n",
       "      <td>...</td>\n",
       "      <td>...</td>\n",
       "      <td>...</td>\n",
       "      <td>...</td>\n",
       "    </tr>\n",
       "    <tr>\n",
       "      <th>4754</th>\n",
       "      <td>7042_1356124_0013</td>\n",
       "      <td>[Unknown]</td>\n",
       "      <td>[]</td>\n",
       "      <td>[nursing progress notes\\n  please see carevue ...</td>\n",
       "    </tr>\n",
       "    <tr>\n",
       "      <th>4755</th>\n",
       "      <td>7042_1356124_0014</td>\n",
       "      <td>[Unknown]</td>\n",
       "      <td>[]</td>\n",
       "      <td>[nursing progress notes\\n  please see carevue ...</td>\n",
       "    </tr>\n",
       "    <tr>\n",
       "      <th>4756</th>\n",
       "      <td>7042_1356124_0015</td>\n",
       "      <td>[Unknown]</td>\n",
       "      <td>[]</td>\n",
       "      <td>[nursing progress notes\\n  please see carevue ...</td>\n",
       "    </tr>\n",
       "    <tr>\n",
       "      <th>4757</th>\n",
       "      <td>7042_1356124_0016</td>\n",
       "      <td>[Unknown]</td>\n",
       "      <td>[]</td>\n",
       "      <td>[nursing progress notes\\n  please see carevue ...</td>\n",
       "    </tr>\n",
       "    <tr>\n",
       "      <th>4758</th>\n",
       "      <td>7042_1356124_0017</td>\n",
       "      <td>[Unknown]</td>\n",
       "      <td>[]</td>\n",
       "      <td>[nursing progress notes\\n  please see carevue ...</td>\n",
       "    </tr>\n",
       "  </tbody>\n",
       "</table>\n",
       "<p>4759 rows × 4 columns</p>\n",
       "</div>"
      ],
      "text/plain": [
       "                     UID Event_Name Keyword  \\\n",
       "0     14995_1457369_0000  [Unknown]      []   \n",
       "1     14995_1457369_0001  [Unknown]      []   \n",
       "2     14995_1457369_0002  [Unknown]      []   \n",
       "3     14995_1457369_0003  [Unknown]      []   \n",
       "4     14995_1457369_0004  [Unknown]      []   \n",
       "...                  ...        ...     ...   \n",
       "4754   7042_1356124_0013  [Unknown]      []   \n",
       "4755   7042_1356124_0014  [Unknown]      []   \n",
       "4756   7042_1356124_0015  [Unknown]      []   \n",
       "4757   7042_1356124_0016  [Unknown]      []   \n",
       "4758   7042_1356124_0017  [Unknown]      []   \n",
       "\n",
       "                                               Document  \n",
       "0     [ccu nsg note: alt in cv/cardiomyopathy\\nsee a...  \n",
       "1     [ccu nsg note: alt in cv/cardiomyopathy\\nsee a...  \n",
       "2     [ccu nsg note: alt in cv/cardiomyopathy\\nsee a...  \n",
       "3     [ccu nsg note: alt in cv/cardiomyopathy\\nsee a...  \n",
       "4     [ccu nsg note: alt in cv/cardiomyopathy\\nsee a...  \n",
       "...                                                 ...  \n",
       "4754  [nursing progress notes\\n  please see carevue ...  \n",
       "4755  [nursing progress notes\\n  please see carevue ...  \n",
       "4756  [nursing progress notes\\n  please see carevue ...  \n",
       "4757  [nursing progress notes\\n  please see carevue ...  \n",
       "4758  [nursing progress notes\\n  please see carevue ...  \n",
       "\n",
       "[4759 rows x 4 columns]"
      ]
     },
     "execution_count": 39,
     "metadata": {},
     "output_type": "execute_result"
    }
   ],
   "source": [
    "df.groupby('UID')[[\"Event_Name\",\"Keyword\",\"Document\"]].agg(lambda x:combine_lists(x)).reset_index()"
   ]
  },
  {
   "cell_type": "code",
   "execution_count": 36,
   "id": "a1e36931",
   "metadata": {},
   "outputs": [
    {
     "data": {
      "text/plain": [
       "Event_Name\n",
       "[Unknown]                  4289\n",
       "[Pain]                      139\n",
       "[Sleep]                     133\n",
       "[Family]                    101\n",
       "[Excretion]                  62\n",
       "[Eating]                     19\n",
       "[Sleep, Pain]                 7\n",
       "[Sleep, Family]               5\n",
       "[Family, Pain]                2\n",
       "[Sleep, Family, Eating]       1\n",
       "[Sleep, Family, Pain]         1\n",
       "Name: count, dtype: int64"
      ]
     },
     "execution_count": 36,
     "metadata": {},
     "output_type": "execute_result"
    }
   ],
   "source": [
    "rdf.Event_Name.value_counts()"
   ]
  }
 ],
 "metadata": {
  "kernelspec": {
   "display_name": ".venv (3.10.12)",
   "language": "python",
   "name": "python3"
  },
  "language_info": {
   "codemirror_mode": {
    "name": "ipython",
    "version": 3
   },
   "file_extension": ".py",
   "mimetype": "text/x-python",
   "name": "python",
   "nbconvert_exporter": "python",
   "pygments_lexer": "ipython3",
   "version": "3.10.12"
  }
 },
 "nbformat": 4,
 "nbformat_minor": 5
}
